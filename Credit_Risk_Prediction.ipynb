{
  "nbformat": 4,
  "nbformat_minor": 0,
  "metadata": {
    "colab": {
      "name": "Credit Risk Prediction.ipynb",
      "provenance": [],
      "collapsed_sections": [],
      "toc_visible": true
    },
    "kernelspec": {
      "name": "python3",
      "display_name": "Python 3"
    },
    "language_info": {
      "name": "python"
    },
    "accelerator": "GPU"
  },
  "cells": [
    {
      "cell_type": "markdown",
      "metadata": {
        "id": "Azgazh_zM--b"
      },
      "source": [
        "## Importing Python Libraries"
      ]
    },
    {
      "cell_type": "code",
      "metadata": {
        "colab": {
          "base_uri": "https://localhost:8080/"
        },
        "id": "UsjZEi1iND8X",
        "outputId": "6056b8c1-d52d-4f87-8310-bb0e1197c80e"
      },
      "source": [
        "from google.colab import drive\n",
        "drive.mount('/content/drive')"
      ],
      "execution_count": null,
      "outputs": [
        {
          "output_type": "stream",
          "text": [
            "Mounted at /content/drive\n"
          ],
          "name": "stdout"
        }
      ]
    },
    {
      "cell_type": "code",
      "metadata": {
        "colab": {
          "base_uri": "https://localhost:8080/"
        },
        "id": "1czuHY_7NYBE",
        "outputId": "1c4d7dc3-42d6-47c6-e0b5-2a587ffadb58"
      },
      "source": [
        "%cd /content/drive/MyDrive/univ_ai"
      ],
      "execution_count": null,
      "outputs": [
        {
          "output_type": "stream",
          "text": [
            "/content/drive/MyDrive/univ_ai\n"
          ],
          "name": "stdout"
        }
      ]
    },
    {
      "cell_type": "code",
      "metadata": {
        "id": "xAjImHy5Nkii"
      },
      "source": [
        "import pandas as pd\n",
        "import numpy as np\n",
        "import matplotlib.pyplot as plt\n",
        "import seaborn as sns\n",
        "import pylab as plot\n",
        "import xgboost as xgb\n",
        "import graphviz\n",
        "from sklearn import preprocessing,model_selection\n",
        "import itertools\n",
        "\n",
        "import warnings\n",
        "warnings.filterwarnings('ignore')\n",
        "warnings.filterwarnings('ignore', category=DeprecationWarning)\n",
        "\n",
        "import tensorflow as tf\n",
        "from keras.models import Sequential\n",
        "from keras.layers import Dense, Dropout\n",
        "from tensorflow.keras import regularizers"
      ],
      "execution_count": null,
      "outputs": []
    },
    {
      "cell_type": "markdown",
      "metadata": {
        "id": "-LtHxoMwNol_"
      },
      "source": [
        "## Importing Datasets"
      ]
    },
    {
      "cell_type": "code",
      "metadata": {
        "id": "AR-NIt4kNsNF"
      },
      "source": [
        "train_data = pd.read_csv(\"/content/drive/MyDrive/univ_ai/Training Data.csv\")\n",
        "test_data = pd.read_csv(\"/content/drive/MyDrive/univ_ai/Test Data.csv\")"
      ],
      "execution_count": null,
      "outputs": []
    },
    {
      "cell_type": "code",
      "metadata": {
        "colab": {
          "base_uri": "https://localhost:8080/"
        },
        "id": "E0meBsKvPyli",
        "outputId": "078c5ecd-4399-46c2-96b6-263461ede2ea"
      },
      "source": [
        "print(train_data.shape)\n",
        "print(test_data.shape)"
      ],
      "execution_count": null,
      "outputs": [
        {
          "output_type": "stream",
          "text": [
            "(252000, 13)\n",
            "(28000, 12)\n"
          ],
          "name": "stdout"
        }
      ]
    },
    {
      "cell_type": "code",
      "metadata": {
        "id": "7vlczFdZP0na"
      },
      "source": [
        "#shuffling the data\n",
        "from sklearn.utils import shuffle\n",
        "train_data = shuffle(train_data, random_state=0)"
      ],
      "execution_count": null,
      "outputs": []
    },
    {
      "cell_type": "markdown",
      "metadata": {
        "id": "s1Q2MwhGP67E"
      },
      "source": [
        "## EDA and Feature Engineering"
      ]
    },
    {
      "cell_type": "code",
      "metadata": {
        "colab": {
          "base_uri": "https://localhost:8080/",
          "height": 221
        },
        "id": "KrHIR2NeP_ea",
        "outputId": "9c527ed7-d12b-4abf-9560-5caccac3fd80"
      },
      "source": [
        "train_data.head()"
      ],
      "execution_count": null,
      "outputs": [
        {
          "output_type": "execute_result",
          "data": {
            "text/html": [
              "<div>\n",
              "<style scoped>\n",
              "    .dataframe tbody tr th:only-of-type {\n",
              "        vertical-align: middle;\n",
              "    }\n",
              "\n",
              "    .dataframe tbody tr th {\n",
              "        vertical-align: top;\n",
              "    }\n",
              "\n",
              "    .dataframe thead th {\n",
              "        text-align: right;\n",
              "    }\n",
              "</style>\n",
              "<table border=\"1\" class=\"dataframe\">\n",
              "  <thead>\n",
              "    <tr style=\"text-align: right;\">\n",
              "      <th></th>\n",
              "      <th>Id</th>\n",
              "      <th>income</th>\n",
              "      <th>age</th>\n",
              "      <th>experience</th>\n",
              "      <th>married</th>\n",
              "      <th>house_ownership</th>\n",
              "      <th>car_ownership</th>\n",
              "      <th>profession</th>\n",
              "      <th>city</th>\n",
              "      <th>state</th>\n",
              "      <th>current_job_years</th>\n",
              "      <th>current_house_years</th>\n",
              "      <th>risk_flag</th>\n",
              "    </tr>\n",
              "  </thead>\n",
              "  <tbody>\n",
              "    <tr>\n",
              "      <th>117955</th>\n",
              "      <td>117956</td>\n",
              "      <td>6460018</td>\n",
              "      <td>75</td>\n",
              "      <td>0</td>\n",
              "      <td>single</td>\n",
              "      <td>rented</td>\n",
              "      <td>no</td>\n",
              "      <td>Computer_operator</td>\n",
              "      <td>Kochi</td>\n",
              "      <td>Kerala</td>\n",
              "      <td>0</td>\n",
              "      <td>14</td>\n",
              "      <td>0</td>\n",
              "    </tr>\n",
              "    <tr>\n",
              "      <th>89977</th>\n",
              "      <td>89978</td>\n",
              "      <td>7134812</td>\n",
              "      <td>72</td>\n",
              "      <td>16</td>\n",
              "      <td>single</td>\n",
              "      <td>rented</td>\n",
              "      <td>no</td>\n",
              "      <td>Statistician</td>\n",
              "      <td>Bidhannagar</td>\n",
              "      <td>West_Bengal</td>\n",
              "      <td>4</td>\n",
              "      <td>14</td>\n",
              "      <td>0</td>\n",
              "    </tr>\n",
              "    <tr>\n",
              "      <th>86851</th>\n",
              "      <td>86852</td>\n",
              "      <td>8918340</td>\n",
              "      <td>28</td>\n",
              "      <td>13</td>\n",
              "      <td>single</td>\n",
              "      <td>rented</td>\n",
              "      <td>no</td>\n",
              "      <td>Firefighter</td>\n",
              "      <td>Kalyan-Dombivli</td>\n",
              "      <td>Maharashtra</td>\n",
              "      <td>10</td>\n",
              "      <td>14</td>\n",
              "      <td>0</td>\n",
              "    </tr>\n",
              "    <tr>\n",
              "      <th>225217</th>\n",
              "      <td>225218</td>\n",
              "      <td>2499535</td>\n",
              "      <td>29</td>\n",
              "      <td>17</td>\n",
              "      <td>single</td>\n",
              "      <td>rented</td>\n",
              "      <td>no</td>\n",
              "      <td>Civil_engineer</td>\n",
              "      <td>Sikar</td>\n",
              "      <td>Rajasthan</td>\n",
              "      <td>9</td>\n",
              "      <td>12</td>\n",
              "      <td>1</td>\n",
              "    </tr>\n",
              "    <tr>\n",
              "      <th>186118</th>\n",
              "      <td>186119</td>\n",
              "      <td>270761</td>\n",
              "      <td>48</td>\n",
              "      <td>1</td>\n",
              "      <td>single</td>\n",
              "      <td>rented</td>\n",
              "      <td>no</td>\n",
              "      <td>Fashion_Designer</td>\n",
              "      <td>Ajmer</td>\n",
              "      <td>Rajasthan</td>\n",
              "      <td>1</td>\n",
              "      <td>11</td>\n",
              "      <td>0</td>\n",
              "    </tr>\n",
              "  </tbody>\n",
              "</table>\n",
              "</div>"
            ],
            "text/plain": [
              "            Id   income  age  ...  current_job_years current_house_years risk_flag\n",
              "117955  117956  6460018   75  ...                  0                  14         0\n",
              "89977    89978  7134812   72  ...                  4                  14         0\n",
              "86851    86852  8918340   28  ...                 10                  14         0\n",
              "225217  225218  2499535   29  ...                  9                  12         1\n",
              "186118  186119   270761   48  ...                  1                  11         0\n",
              "\n",
              "[5 rows x 13 columns]"
            ]
          },
          "metadata": {
            "tags": []
          },
          "execution_count": 7
        }
      ]
    },
    {
      "cell_type": "code",
      "metadata": {
        "colab": {
          "base_uri": "https://localhost:8080/"
        },
        "id": "bboBzWP3QDgf",
        "outputId": "60997303-d589-493e-c83a-c32d296aaa48"
      },
      "source": [
        "#Checking for null values\n",
        "print(train_data.isnull().any().sum())\n",
        "print(test_data.isnull().any().sum())"
      ],
      "execution_count": null,
      "outputs": [
        {
          "output_type": "stream",
          "text": [
            "0\n",
            "0\n"
          ],
          "name": "stdout"
        }
      ]
    },
    {
      "cell_type": "code",
      "metadata": {
        "colab": {
          "base_uri": "https://localhost:8080/"
        },
        "id": "wmTLvYwUQHl2",
        "outputId": "3d6dbf4e-566f-4203-bd0d-49f22ab2275c"
      },
      "source": [
        "#Imbalanced in classes -> ratio = 7.37/1\n",
        "print(train_data['risk_flag'].value_counts())"
      ],
      "execution_count": null,
      "outputs": [
        {
          "output_type": "stream",
          "text": [
            "0    221004\n",
            "1     30996\n",
            "Name: risk_flag, dtype: int64\n"
          ],
          "name": "stdout"
        }
      ]
    },
    {
      "cell_type": "code",
      "metadata": {
        "colab": {
          "base_uri": "https://localhost:8080/"
        },
        "id": "ILwF3mHtQLUW",
        "outputId": "f3391304-f7bc-4ec9-9d9f-239af36f5827"
      },
      "source": [
        "#Unique Values\n",
        "print(train_data.nunique())\n",
        "print('*'*50)\n",
        "print(test_data.nunique())"
      ],
      "execution_count": null,
      "outputs": [
        {
          "output_type": "stream",
          "text": [
            "Id                     252000\n",
            "income                  41917\n",
            "age                        59\n",
            "experience                 21\n",
            "married                     2\n",
            "house_ownership             3\n",
            "car_ownership               2\n",
            "profession                 51\n",
            "city                      317\n",
            "state                      29\n",
            "current_job_years          15\n",
            "current_house_years         5\n",
            "risk_flag                   2\n",
            "dtype: int64\n",
            "**************************************************\n",
            "id                     28000\n",
            "income                  9916\n",
            "age                       59\n",
            "experience                21\n",
            "married                    2\n",
            "house_ownership            3\n",
            "car_ownership              2\n",
            "profession                51\n",
            "city                     317\n",
            "state                     29\n",
            "current_job_years         15\n",
            "current_house_years        5\n",
            "dtype: int64\n"
          ],
          "name": "stdout"
        }
      ]
    },
    {
      "cell_type": "markdown",
      "metadata": {
        "id": "jfeBz9nVQZ9Y"
      },
      "source": [
        "## Complex Categorical Features"
      ]
    },
    {
      "cell_type": "code",
      "metadata": {
        "colab": {
          "base_uri": "https://localhost:8080/"
        },
        "id": "B-tZIF--Qezt",
        "outputId": "9a838a41-e564-4e3a-ecc3-53fdfe3e425d"
      },
      "source": [
        "#large number of categories\n",
        "train_data[['state', 'city', 'profession']].nunique()"
      ],
      "execution_count": null,
      "outputs": [
        {
          "output_type": "execute_result",
          "data": {
            "text/plain": [
              "state          29\n",
              "city          317\n",
              "profession     51\n",
              "dtype: int64"
            ]
          },
          "metadata": {
            "tags": []
          },
          "execution_count": 11
        }
      ]
    },
    {
      "cell_type": "code",
      "metadata": {
        "colab": {
          "base_uri": "https://localhost:8080/"
        },
        "id": "y0ilBk1pQi-9",
        "outputId": "e64a9486-1b59-4714-b6b4-342911b9df7b"
      },
      "source": [
        "train_data['risk_flag'].mean()"
      ],
      "execution_count": null,
      "outputs": [
        {
          "output_type": "execute_result",
          "data": {
            "text/plain": [
              "0.123"
            ]
          },
          "metadata": {
            "tags": []
          },
          "execution_count": 12
        }
      ]
    },
    {
      "cell_type": "markdown",
      "metadata": {
        "id": "RTEyVmSTQt5m"
      },
      "source": [
        "**Distribution of risk_flag grouped by categories**"
      ]
    },
    {
      "cell_type": "code",
      "metadata": {
        "colab": {
          "base_uri": "https://localhost:8080/",
          "height": 337
        },
        "id": "bmr15aHPQ5t5",
        "outputId": "b7ae8dd1-6ad1-44c9-e098-79729c9ee74e"
      },
      "source": [
        "import matplotlib.pyplot as plt\n",
        "\n",
        "g_state = train_data.groupby('state')['risk_flag'].agg(['mean', 'count'])\n",
        "fig = plt.figure()\n",
        "ax = fig.add_axes([0,0,1,1])\n",
        "ax.bar(g_state.index,g_state['mean'])\n",
        "plt.show()"
      ],
      "execution_count": null,
      "outputs": [
        {
          "output_type": "display_data",
          "data": {
            "image/png": "[encoded data removed]",
            "text/plain": [
              "<Figure size 432x288 with 1 Axes>"
            ]
          },
          "metadata": {
            "tags": [],
            "needs_background": "light"
          }
        }
      ]
    },
    {
      "cell_type": "code",
      "metadata": {
        "colab": {
          "base_uri": "https://localhost:8080/",
          "height": 337
        },
        "id": "rASlEMywRATf",
        "outputId": "f96f2f5c-46cb-4933-bd75-f09fcf026015"
      },
      "source": [
        "import matplotlib.pyplot as plt\n",
        "\n",
        "g_city = train_data.groupby('city')['risk_flag'].agg(['mean', 'count'])\n",
        "fig = plt.figure()\n",
        "ax = fig.add_axes([0,0,1,1])\n",
        "ax.bar(g_city.index,g_city['mean'])\n",
        "plt.show()"
      ],
      "execution_count": null,
      "outputs": [
        {
          "output_type": "display_data",
          "data": {
            "image/png": "[encoded data removed]",
            "text/plain": [
              "<Figure size 432x288 with 1 Axes>"
            ]
          },
          "metadata": {
            "tags": [],
            "needs_background": "light"
          }
        }
      ]
    },
    {
      "cell_type": "code",
      "metadata": {
        "colab": {
          "base_uri": "https://localhost:8080/",
          "height": 337
        },
        "id": "5g4wBiqURGOE",
        "outputId": "be7728a2-0333-4f47-8416-553e11e74ccb"
      },
      "source": [
        "import matplotlib.pyplot as plt\n",
        "\n",
        "g_prof = train_data.groupby('profession')['risk_flag'].agg(['mean', 'count'])\n",
        "fig = plt.figure()\n",
        "ax = fig.add_axes([0,0,1,1])\n",
        "ax.bar(g_prof.index,g_prof['mean'])\n",
        "plt.show()"
      ],
      "execution_count": null,
      "outputs": [
        {
          "output_type": "display_data",
          "data": {
            "image/png": "[encoded data removed]",
            "text/plain": [
              "<Figure size 432x288 with 1 Axes>"
            ]
          },
          "metadata": {
            "tags": [],
            "needs_background": "light"
          }
        }
      ]
    },
    {
      "cell_type": "markdown",
      "metadata": {
        "id": "H3uLKB_wRNtg"
      },
      "source": [
        "City shows a lot of variation, state a little but profession not very much\n",
        "\n"
      ]
    },
    {
      "cell_type": "code",
      "metadata": {
        "colab": {
          "base_uri": "https://localhost:8080/"
        },
        "id": "ZkYseNo6Ra2R",
        "outputId": "3e878a12-cb60-4cb7-8ff9-3519cc964de1"
      },
      "source": [
        "#Notice that Uttar_Pradesh occurse twice\n",
        "train_data['state'].unique()"
      ],
      "execution_count": null,
      "outputs": [
        {
          "output_type": "execute_result",
          "data": {
            "text/plain": [
              "array(['Kerala', 'West_Bengal', 'Maharashtra', 'Rajasthan', 'Bihar',\n",
              "       'Delhi', 'Andhra_Pradesh', 'Odisha', 'Telangana', 'Mizoram',\n",
              "       'Uttar_Pradesh', 'Punjab', 'Gujarat', 'Haryana',\n",
              "       'Himachal_Pradesh', 'Chhattisgarh', 'Jharkhand', 'Puducherry',\n",
              "       'Karnataka', 'Tamil_Nadu', 'Manipur', 'Assam', 'Jammu_and_Kashmir',\n",
              "       'Tripura', 'Madhya_Pradesh', 'Chandigarh', 'Uttarakhand',\n",
              "       'Uttar_Pradesh[5]', 'Sikkim'], dtype=object)"
            ]
          },
          "metadata": {
            "tags": []
          },
          "execution_count": 16
        }
      ]
    },
    {
      "cell_type": "code",
      "metadata": {
        "id": "rXdcCyMRRi8q"
      },
      "source": [
        "train_data['state'].replace('Uttar_Pradesh[5]', 'Uttar_Pradesh', inplace=True)"
      ],
      "execution_count": null,
      "outputs": []
    },
    {
      "cell_type": "markdown",
      "metadata": {
        "id": "HVq17SFXRmr_"
      },
      "source": [
        "## Cleaning Test Data"
      ]
    },
    {
      "cell_type": "code",
      "metadata": {
        "colab": {
          "base_uri": "https://localhost:8080/"
        },
        "id": "6IyoQb1WRw99",
        "outputId": "c8c5006c-ac3d-41cb-8ce7-8157bda4e914"
      },
      "source": [
        "set1 = set(train_data['state'])\n",
        "set2 = set(test_data['state'])\n",
        "set1 ^ set2"
      ],
      "execution_count": null,
      "outputs": [
        {
          "output_type": "execute_result",
          "data": {
            "text/plain": [
              "{'Andhra Pradesh',\n",
              " 'Andhra_Pradesh',\n",
              " 'Himachal Pradesh',\n",
              " 'Himachal_Pradesh',\n",
              " 'Jammu and Kashmir',\n",
              " 'Jammu_and_Kashmir',\n",
              " 'Madhya Pradesh',\n",
              " 'Madhya_Pradesh',\n",
              " 'Tamil Nadu',\n",
              " 'Tamil_Nadu',\n",
              " 'Uttar Pradesh',\n",
              " 'Uttar Pradesh[5]',\n",
              " 'Uttar_Pradesh',\n",
              " 'West Bengal',\n",
              " 'West_Bengal'}"
            ]
          },
          "metadata": {
            "tags": []
          },
          "execution_count": 18
        }
      ]
    },
    {
      "cell_type": "code",
      "metadata": {
        "colab": {
          "base_uri": "https://localhost:8080/"
        },
        "id": "tGeiXQX_R253",
        "outputId": "eb453699-1193-4f10-af53-f70f0bc2d514"
      },
      "source": [
        "set1 = set(train_data['city'])\n",
        "set2 = set(test_data['city'])\n",
        "set1 ^ set2"
      ],
      "execution_count": null,
      "outputs": [
        {
          "output_type": "execute_result",
          "data": {
            "text/plain": [
              "{'Bhalswa Jahangir Pur',\n",
              " 'Bhalswa_Jahangir_Pur',\n",
              " 'Bihar Sharif',\n",
              " 'Bihar_Sharif',\n",
              " 'Karawal Nagar',\n",
              " 'Karawal_Nagar',\n",
              " 'Khora, Ghaziabad',\n",
              " 'Khora,_Ghaziabad',\n",
              " 'Kirari Suleman Nagar',\n",
              " 'Kirari_Suleman_Nagar',\n",
              " 'Nangloi Jat',\n",
              " 'Nangloi_Jat',\n",
              " 'Navi Mumbai',\n",
              " 'Navi_Mumbai',\n",
              " 'New Delhi',\n",
              " 'New_Delhi',\n",
              " 'North Dumdum',\n",
              " 'North_Dumdum',\n",
              " 'Rajpur Sonarpur',\n",
              " 'Rajpur_Sonarpur',\n",
              " 'Raurkela Industrial Township',\n",
              " 'Raurkela_Industrial_Township',\n",
              " 'Sangli-Miraj & Kupwad',\n",
              " 'Sangli-Miraj_&_Kupwad',\n",
              " 'South Dumdum',\n",
              " 'South_Dumdum',\n",
              " 'Sri Ganganagar',\n",
              " 'Sri_Ganganagar',\n",
              " 'Sultan Pur Majra',\n",
              " 'Sultan_Pur_Majra',\n",
              " 'Surendranagar Dudhrej',\n",
              " 'Surendranagar_Dudhrej'}"
            ]
          },
          "metadata": {
            "tags": []
          },
          "execution_count": 19
        }
      ]
    },
    {
      "cell_type": "code",
      "metadata": {
        "id": "Yj322Z4SR7ZX",
        "colab": {
          "base_uri": "https://localhost:8080/"
        },
        "outputId": "45be4b23-2b78-4d29-df92-c446b5cc9cd1"
      },
      "source": [
        "set1 = set(train_data['profession'])\n",
        "set2 = set(test_data['profession'])\n",
        "set1 ^ set2"
      ],
      "execution_count": null,
      "outputs": [
        {
          "output_type": "execute_result",
          "data": {
            "text/plain": [
              "{'Air traffic controller',\n",
              " 'Air_traffic_controller',\n",
              " 'Army officer',\n",
              " 'Army_officer',\n",
              " 'Biomedical Engineer',\n",
              " 'Biomedical_Engineer',\n",
              " 'Chartered Accountant',\n",
              " 'Chartered_Accountant',\n",
              " 'Chemical engineer',\n",
              " 'Chemical_engineer',\n",
              " 'Civil engineer',\n",
              " 'Civil servant',\n",
              " 'Civil_engineer',\n",
              " 'Civil_servant',\n",
              " 'Computer hardware engineer',\n",
              " 'Computer operator',\n",
              " 'Computer_hardware_engineer',\n",
              " 'Computer_operator',\n",
              " 'Design Engineer',\n",
              " 'Design_Engineer',\n",
              " 'Fashion Designer',\n",
              " 'Fashion_Designer',\n",
              " 'Financial Analyst',\n",
              " 'Financial_Analyst',\n",
              " 'Flight attendant',\n",
              " 'Flight_attendant',\n",
              " 'Graphic Designer',\n",
              " 'Graphic_Designer',\n",
              " 'Hotel Manager',\n",
              " 'Hotel_Manager',\n",
              " 'Industrial Engineer',\n",
              " 'Industrial_Engineer',\n",
              " 'Mechanical engineer',\n",
              " 'Mechanical_engineer',\n",
              " 'Petroleum Engineer',\n",
              " 'Petroleum_Engineer',\n",
              " 'Police officer',\n",
              " 'Police_officer',\n",
              " 'Software Developer',\n",
              " 'Software_Developer',\n",
              " 'Technical writer',\n",
              " 'Technical_writer',\n",
              " 'Technology specialist',\n",
              " 'Technology_specialist',\n",
              " 'Web designer',\n",
              " 'Web_designer'}"
            ]
          },
          "metadata": {
            "tags": []
          },
          "execution_count": 20
        }
      ]
    },
    {
      "cell_type": "code",
      "metadata": {
        "id": "N5MkdPFzSWro"
      },
      "source": [
        "def concat(x):\n",
        "  return x.replace(' ', '_')"
      ],
      "execution_count": null,
      "outputs": []
    },
    {
      "cell_type": "code",
      "metadata": {
        "id": "IYHUsYtqSenf"
      },
      "source": [
        "test_data['state'] = test_data['state'].apply(concat)\n",
        "test_data['city'] = test_data['city'].apply(concat)\n",
        "test_data['profession'] = test_data['profession'].apply(concat)\n",
        "\n",
        "test_data['state'].replace('Uttar_Pradesh[5]', 'Uttar_Pradesh', inplace=True)"
      ],
      "execution_count": null,
      "outputs": []
    },
    {
      "cell_type": "code",
      "metadata": {
        "colab": {
          "base_uri": "https://localhost:8080/"
        },
        "id": "-5TM6I8rSiEP",
        "outputId": "9ba3f449-64ba-4f69-b757-ca96df542659"
      },
      "source": [
        "for col in ['state', 'city', 'profession']:\n",
        "\n",
        "  set1 = set(train_data[col])\n",
        "  set2 = set(test_data[col])\n",
        "  print(col,len(set1 ^ set2) )"
      ],
      "execution_count": null,
      "outputs": [
        {
          "output_type": "stream",
          "text": [
            "state 0\n",
            "city 0\n",
            "profession 0\n"
          ],
          "name": "stdout"
        }
      ]
    },
    {
      "cell_type": "markdown",
      "metadata": {
        "id": "tBQPHa3VSnsk"
      },
      "source": [
        "## Response Encoding"
      ]
    },
    {
      "cell_type": "code",
      "metadata": {
        "colab": {
          "base_uri": "https://localhost:8080/",
          "height": 221
        },
        "id": "5LX9V1smSlpQ",
        "outputId": "f9f00bce-5ea8-4572-e669-fa8a4a9e7db2"
      },
      "source": [
        "res_state = dict(train_data.groupby('state')['risk_flag'].mean())\n",
        "res_city = dict(train_data.groupby('city')['risk_flag'].mean())\n",
        "res_prof = dict(train_data.groupby('profession')['risk_flag'].mean())\n",
        "\n",
        "cat_data1 = pd.DataFrame()\n",
        "cat_data1['response_state'] = train_data['state'].map(res_state)\n",
        "cat_data1['response_city'] = train_data['city'].map(res_city)\n",
        "cat_data1['response_prof'] = train_data['profession'].map(res_prof)\n",
        "\n",
        "print(cat_data1.shape)\n",
        "cat_data1.head()"
      ],
      "execution_count": null,
      "outputs": [
        {
          "output_type": "stream",
          "text": [
            "(252000, 3)\n"
          ],
          "name": "stdout"
        },
        {
          "output_type": "execute_result",
          "data": {
            "text/html": [
              "<div>\n",
              "<style scoped>\n",
              "    .dataframe tbody tr th:only-of-type {\n",
              "        vertical-align: middle;\n",
              "    }\n",
              "\n",
              "    .dataframe tbody tr th {\n",
              "        vertical-align: top;\n",
              "    }\n",
              "\n",
              "    .dataframe thead th {\n",
              "        text-align: right;\n",
              "    }\n",
              "</style>\n",
              "<table border=\"1\" class=\"dataframe\">\n",
              "  <thead>\n",
              "    <tr style=\"text-align: right;\">\n",
              "      <th></th>\n",
              "      <th>response_state</th>\n",
              "      <th>response_city</th>\n",
              "      <th>response_prof</th>\n",
              "    </tr>\n",
              "  </thead>\n",
              "  <tbody>\n",
              "    <tr>\n",
              "      <th>117955</th>\n",
              "      <td>0.167097</td>\n",
              "      <td>0.252862</td>\n",
              "      <td>0.124048</td>\n",
              "    </tr>\n",
              "    <tr>\n",
              "      <th>89977</th>\n",
              "      <td>0.128135</td>\n",
              "      <td>0.178122</td>\n",
              "      <td>0.115570</td>\n",
              "    </tr>\n",
              "    <tr>\n",
              "      <th>86851</th>\n",
              "      <td>0.113254</td>\n",
              "      <td>0.086370</td>\n",
              "      <td>0.135789</td>\n",
              "    </tr>\n",
              "    <tr>\n",
              "      <th>225217</th>\n",
              "      <td>0.140833</td>\n",
              "      <td>0.238452</td>\n",
              "      <td>0.135832</td>\n",
              "    </tr>\n",
              "    <tr>\n",
              "      <th>186118</th>\n",
              "      <td>0.140833</td>\n",
              "      <td>0.138721</td>\n",
              "      <td>0.115385</td>\n",
              "    </tr>\n",
              "  </tbody>\n",
              "</table>\n",
              "</div>"
            ],
            "text/plain": [
              "        response_state  response_city  response_prof\n",
              "117955        0.167097       0.252862       0.124048\n",
              "89977         0.128135       0.178122       0.115570\n",
              "86851         0.113254       0.086370       0.135789\n",
              "225217        0.140833       0.238452       0.135832\n",
              "186118        0.140833       0.138721       0.115385"
            ]
          },
          "metadata": {
            "tags": []
          },
          "execution_count": 24
        }
      ]
    },
    {
      "cell_type": "code",
      "metadata": {
        "colab": {
          "base_uri": "https://localhost:8080/",
          "height": 221
        },
        "id": "dBGyIZgSS0cN",
        "outputId": "df1dac34-4425-4213-ffa6-f2f7745e46c5"
      },
      "source": [
        "#Mapping the learnt values from training data to test \n",
        "cat_data1_test = pd.DataFrame()\n",
        "cat_data1_test['response_state'] = test_data['state'].map(res_state)\n",
        "cat_data1_test['response_city'] = test_data['city'].map(res_city)\n",
        "cat_data1_test['response_prof'] = test_data['profession'].map(res_prof)\n",
        "\n",
        "print(cat_data1_test.shape)\n",
        "cat_data1_test.head()"
      ],
      "execution_count": null,
      "outputs": [
        {
          "output_type": "stream",
          "text": [
            "(28000, 3)\n"
          ],
          "name": "stdout"
        },
        {
          "output_type": "execute_result",
          "data": {
            "text/html": [
              "<div>\n",
              "<style scoped>\n",
              "    .dataframe tbody tr th:only-of-type {\n",
              "        vertical-align: middle;\n",
              "    }\n",
              "\n",
              "    .dataframe tbody tr th {\n",
              "        vertical-align: top;\n",
              "    }\n",
              "\n",
              "    .dataframe thead th {\n",
              "        text-align: right;\n",
              "    }\n",
              "</style>\n",
              "<table border=\"1\" class=\"dataframe\">\n",
              "  <thead>\n",
              "    <tr style=\"text-align: right;\">\n",
              "      <th></th>\n",
              "      <th>response_state</th>\n",
              "      <th>response_city</th>\n",
              "      <th>response_prof</th>\n",
              "    </tr>\n",
              "  </thead>\n",
              "  <tbody>\n",
              "    <tr>\n",
              "      <th>0</th>\n",
              "      <td>0.128135</td>\n",
              "      <td>0.112277</td>\n",
              "      <td>0.144264</td>\n",
              "    </tr>\n",
              "    <tr>\n",
              "      <th>1</th>\n",
              "      <td>0.113254</td>\n",
              "      <td>0.108449</td>\n",
              "      <td>0.135789</td>\n",
              "    </tr>\n",
              "    <tr>\n",
              "      <th>2</th>\n",
              "      <td>0.113254</td>\n",
              "      <td>0.072746</td>\n",
              "      <td>0.129514</td>\n",
              "    </tr>\n",
              "    <tr>\n",
              "      <th>3</th>\n",
              "      <td>0.113254</td>\n",
              "      <td>0.039655</td>\n",
              "      <td>0.121465</td>\n",
              "    </tr>\n",
              "    <tr>\n",
              "      <th>4</th>\n",
              "      <td>0.128135</td>\n",
              "      <td>0.148101</td>\n",
              "      <td>0.119604</td>\n",
              "    </tr>\n",
              "  </tbody>\n",
              "</table>\n",
              "</div>"
            ],
            "text/plain": [
              "   response_state  response_city  response_prof\n",
              "0        0.128135       0.112277       0.144264\n",
              "1        0.113254       0.108449       0.135789\n",
              "2        0.113254       0.072746       0.129514\n",
              "3        0.113254       0.039655       0.121465\n",
              "4        0.128135       0.148101       0.119604"
            ]
          },
          "metadata": {
            "tags": []
          },
          "execution_count": 25
        }
      ]
    },
    {
      "cell_type": "markdown",
      "metadata": {
        "id": "KaKppO6mS69E"
      },
      "source": [
        "## Splitting profession into categories"
      ]
    },
    {
      "cell_type": "code",
      "metadata": {
        "id": "yer_QTMJS_SC"
      },
      "source": [
        "grp1 = list(g_prof[g_prof['mean'] > 0.123].index)\n",
        "grp2 = list(set(train_data['profession']) - set(grp1))\n",
        "cat_data1['prof_cat'] = train_data['profession'].apply(lambda x : 1 if x in grp1 else 0)\n",
        "cat_data1['risk_flag'] = train_data['risk_flag']\n",
        "\n",
        "#Transforming Test Data\n",
        "cat_data1_test['prof_cat'] = test_data['profession'].apply(lambda x : 1 if x in grp1 else 0)"
      ],
      "execution_count": null,
      "outputs": []
    },
    {
      "cell_type": "markdown",
      "metadata": {
        "id": "htQLz3NlTEIu"
      },
      "source": [
        "## One Hot Encodings"
      ]
    },
    {
      "cell_type": "code",
      "metadata": {
        "colab": {
          "base_uri": "https://localhost:8080/"
        },
        "id": "wRGw8fSJTHv3",
        "outputId": "179c5021-acb9-442c-d292-b192a9027d2f"
      },
      "source": [
        "state_ohe = pd.get_dummies(train_data['state'], prefix='st')\n",
        "print(state_ohe.shape)\n",
        "\n",
        "city_ohe = pd.get_dummies(train_data['city'], prefix='ct')\n",
        "print(city_ohe.shape)\n",
        "\n",
        "profession_ohe = pd.get_dummies(train_data['profession'], prefix='prf')\n",
        "print(profession_ohe.shape)"
      ],
      "execution_count": null,
      "outputs": [
        {
          "output_type": "stream",
          "text": [
            "(252000, 28)\n",
            "(252000, 317)\n",
            "(252000, 51)\n"
          ],
          "name": "stdout"
        }
      ]
    },
    {
      "cell_type": "code",
      "metadata": {
        "colab": {
          "base_uri": "https://localhost:8080/"
        },
        "id": "0ET3VTSbTMb9",
        "outputId": "5e81e155-89a8-4fdd-e7ae-25865f7c3491"
      },
      "source": [
        "state_ohe_test = pd.get_dummies(test_data['state'], prefix='st')\n",
        "print(state_ohe_test.shape)\n",
        "\n",
        "city_ohe_test = pd.get_dummies(test_data['city'], prefix='ct')\n",
        "print(city_ohe_test.shape)\n",
        "\n",
        "profession_ohe_test = pd.get_dummies(test_data['profession'], prefix='prf')\n",
        "print(profession_ohe_test.shape)"
      ],
      "execution_count": null,
      "outputs": [
        {
          "output_type": "stream",
          "text": [
            "(28000, 28)\n",
            "(28000, 317)\n",
            "(28000, 51)\n"
          ],
          "name": "stdout"
        }
      ]
    },
    {
      "cell_type": "markdown",
      "metadata": {
        "id": "ZGVUTXFYTSMY"
      },
      "source": [
        "## Deep Learnt Embeddings"
      ]
    },
    {
      "cell_type": "code",
      "metadata": {
        "id": "6o_zp9jnTXCG"
      },
      "source": [
        "#function to plot progress \n",
        "def plot_metric(history, metric):\n",
        "  train_metrics = history.history[metric]\n",
        "  val_metrics = history.history[metric]\n",
        "  epochs = range(1, len(train_metrics) + 1)\n",
        "  plt.plot(epochs, train_metrics)\n",
        "  plt.plot(epochs, val_metrics)\n",
        "  plt.title('Training and validation '+ metric)\n",
        "  plt.xlabel(\"Epochs\")\n",
        "  plt.ylabel(metric)\n",
        "  plt.legend([\"train_\"+metric, 'val_'+metric])\n",
        "  plt.show()"
      ],
      "execution_count": null,
      "outputs": []
    },
    {
      "cell_type": "code",
      "metadata": {
        "id": "flkZO3U6TcJ_"
      },
      "source": [
        "X_train = pd.concat([state_ohe, city_ohe, profession_ohe], axis=1).astype('float32')\n",
        "y_train = train_data['risk_flag']"
      ],
      "execution_count": null,
      "outputs": []
    },
    {
      "cell_type": "code",
      "metadata": {
        "colab": {
          "base_uri": "https://localhost:8080/",
          "height": 1000
        },
        "id": "jM0GbL_NTfl2",
        "outputId": "24d8e0c1-7514-4dd9-cc1e-60f42cc66f50"
      },
      "source": [
        "from sklearn.model_selection import StratifiedKFold\n",
        "\n",
        "kfold = StratifiedKFold(n_splits=5, shuffle=True, random_state=0)\n",
        "cvscores = []\n",
        "for train, test in kfold.split(X_train, y_train):\n",
        "  # create model\n",
        "  model = Sequential()\n",
        "  model.add(Dense(64, activation='relu', input_shape=(396,)))\n",
        "  model.add(Dropout(0.3))\n",
        "  model.add(Dense(16, activation='relu'))\n",
        "  model.add(Dropout(0.3))\n",
        "  model.add(Dense(1, activation='sigmoid'))\n",
        "  # Compile model\n",
        "  model.compile(loss='binary_crossentropy', optimizer='adam', metrics=['AUC'])\n",
        "  # Fit the model\n",
        "  history = model.fit(X_train.loc[train], y_train.loc[train], validation_data=(X_train.loc[test], y_train.loc[test]), epochs=15, batch_size=32, verbose=1)\n",
        "\n",
        "  #plot progress\n",
        "  plot_metric(history, 'auc')\n",
        "\n",
        "  # evaluate the model\n",
        "  scores = model.evaluate(X_train.loc[test], y_train.loc[test], verbose=0)\n",
        "  print(\"%s: %.2f%%\" % (model.metrics_names[1], scores[1]*100))\n",
        "  cvscores.append(scores[1] * 100)\n",
        "print(\"%.2f%% (+/- %.2f%%)\" % (np.mean(cvscores), np.std(cvscores)))"
      ],
      "execution_count": null,
      "outputs": [
        {
          "output_type": "stream",
          "text": [
            "Epoch 1/15\n",
            "6300/6300 [==============================] - 23s 3ms/step - loss: 0.3861 - auc: 0.5823 - val_loss: 0.3203 - val_auc: 0.7778\n",
            "Epoch 2/15\n",
            "6300/6300 [==============================] - 19s 3ms/step - loss: 0.3203 - auc: 0.7682 - val_loss: 0.2774 - val_auc: 0.8466\n",
            "Epoch 3/15\n",
            "6300/6300 [==============================] - 19s 3ms/step - loss: 0.2932 - auc: 0.8217 - val_loss: 0.2649 - val_auc: 0.8614\n",
            "Epoch 4/15\n",
            "6300/6300 [==============================] - 19s 3ms/step - loss: 0.2792 - auc: 0.8426 - val_loss: 0.2611 - val_auc: 0.8652\n",
            "Epoch 5/15\n",
            "6300/6300 [==============================] - 19s 3ms/step - loss: 0.2771 - auc: 0.8520 - val_loss: 0.2597 - val_auc: 0.8682\n",
            "Epoch 6/15\n",
            "6300/6300 [==============================] - 19s 3ms/step - loss: 0.2693 - auc: 0.8604 - val_loss: 0.2583 - val_auc: 0.8711\n",
            "Epoch 7/15\n",
            "6300/6300 [==============================] - 19s 3ms/step - loss: 0.2663 - auc: 0.8643 - val_loss: 0.2580 - val_auc: 0.8717\n",
            "Epoch 8/15\n",
            "6300/6300 [==============================] - 19s 3ms/step - loss: 0.2620 - auc: 0.8688 - val_loss: 0.2541 - val_auc: 0.8733\n",
            "Epoch 9/15\n",
            "6300/6300 [==============================] - 19s 3ms/step - loss: 0.2625 - auc: 0.8719 - val_loss: 0.2554 - val_auc: 0.8743\n",
            "Epoch 10/15\n",
            "6300/6300 [==============================] - 19s 3ms/step - loss: 0.2599 - auc: 0.8733 - val_loss: 0.2527 - val_auc: 0.8764\n",
            "Epoch 11/15\n",
            "6300/6300 [==============================] - 19s 3ms/step - loss: 0.2598 - auc: 0.8755 - val_loss: 0.2525 - val_auc: 0.8757\n",
            "Epoch 12/15\n",
            "6300/6300 [==============================] - 19s 3ms/step - loss: 0.2586 - auc: 0.8753 - val_loss: 0.2523 - val_auc: 0.8760\n",
            "Epoch 13/15\n",
            "6300/6300 [==============================] - 19s 3ms/step - loss: 0.2565 - auc: 0.8781 - val_loss: 0.2517 - val_auc: 0.8780\n",
            "Epoch 14/15\n",
            "6300/6300 [==============================] - 19s 3ms/step - loss: 0.2545 - auc: 0.8791 - val_loss: 0.2504 - val_auc: 0.8792\n",
            "Epoch 15/15\n",
            "6300/6300 [==============================] - 19s 3ms/step - loss: 0.2532 - auc: 0.8815 - val_loss: 0.2507 - val_auc: 0.8793\n"
          ],
          "name": "stdout"
        },
        {
          "output_type": "display_data",
          "data": {
            "image/png": "[encoded data removed]",
            "text/plain": [
              "<Figure size 432x288 with 1 Axes>"
            ]
          },
          "metadata": {
            "tags": [],
            "needs_background": "light"
          }
        },
        {
          "output_type": "stream",
          "text": [
            "auc: 87.93%\n",
            "Epoch 1/15\n",
            "6300/6300 [==============================] - 20s 3ms/step - loss: 0.3874 - auc: 0.5776 - val_loss: 0.3264 - val_auc: 0.7734\n",
            "Epoch 2/15\n",
            "6300/6300 [==============================] - 19s 3ms/step - loss: 0.3216 - auc: 0.7634 - val_loss: 0.2805 - val_auc: 0.8434\n",
            "Epoch 3/15\n",
            "6300/6300 [==============================] - 19s 3ms/step - loss: 0.2933 - auc: 0.8236 - val_loss: 0.2687 - val_auc: 0.8590\n",
            "Epoch 4/15\n",
            "6300/6300 [==============================] - 19s 3ms/step - loss: 0.2777 - auc: 0.8460 - val_loss: 0.2683 - val_auc: 0.8626\n",
            "Epoch 5/15\n",
            "6300/6300 [==============================] - 19s 3ms/step - loss: 0.2724 - auc: 0.8556 - val_loss: 0.2609 - val_auc: 0.8675\n",
            "Epoch 6/15\n",
            "6300/6300 [==============================] - 19s 3ms/step - loss: 0.2677 - auc: 0.8618 - val_loss: 0.2608 - val_auc: 0.8684\n",
            "Epoch 7/15\n",
            "6300/6300 [==============================] - 19s 3ms/step - loss: 0.2644 - auc: 0.8664 - val_loss: 0.2586 - val_auc: 0.8716\n",
            "Epoch 8/15\n",
            "6300/6300 [==============================] - 19s 3ms/step - loss: 0.2632 - auc: 0.8663 - val_loss: 0.2572 - val_auc: 0.8732\n",
            "Epoch 9/15\n",
            "6300/6300 [==============================] - 19s 3ms/step - loss: 0.2594 - auc: 0.8715 - val_loss: 0.2560 - val_auc: 0.8741\n",
            "Epoch 10/15\n",
            "6300/6300 [==============================] - 19s 3ms/step - loss: 0.2616 - auc: 0.8726 - val_loss: 0.2551 - val_auc: 0.8756\n",
            "Epoch 11/15\n",
            "6300/6300 [==============================] - 19s 3ms/step - loss: 0.2568 - auc: 0.8779 - val_loss: 0.2555 - val_auc: 0.8746\n",
            "Epoch 12/15\n",
            "6300/6300 [==============================] - 19s 3ms/step - loss: 0.2565 - auc: 0.8786 - val_loss: 0.2561 - val_auc: 0.8741\n",
            "Epoch 13/15\n",
            "6300/6300 [==============================] - 19s 3ms/step - loss: 0.2555 - auc: 0.8767 - val_loss: 0.2567 - val_auc: 0.8748\n",
            "Epoch 14/15\n",
            "6300/6300 [==============================] - 19s 3ms/step - loss: 0.2560 - auc: 0.8794 - val_loss: 0.2547 - val_auc: 0.8770\n",
            "Epoch 15/15\n",
            "6300/6300 [==============================] - 19s 3ms/step - loss: 0.2537 - auc: 0.8809 - val_loss: 0.2558 - val_auc: 0.8764\n"
          ],
          "name": "stdout"
        },
        {
          "output_type": "display_data",
          "data": {
            "image/png": "[encoded data removed]",
            "text/plain": [
              "<Figure size 432x288 with 1 Axes>"
            ]
          },
          "metadata": {
            "tags": [],
            "needs_background": "light"
          }
        },
        {
          "output_type": "stream",
          "text": [
            "auc: 87.64%\n",
            "Epoch 1/15\n",
            "6300/6300 [==============================] - 20s 3ms/step - loss: 0.3845 - auc: 0.5782 - val_loss: 0.3220 - val_auc: 0.7683\n",
            "Epoch 2/15\n",
            "6300/6300 [==============================] - 19s 3ms/step - loss: 0.3214 - auc: 0.7672 - val_loss: 0.2779 - val_auc: 0.8440\n",
            "Epoch 3/15\n",
            "6300/6300 [==============================] - 19s 3ms/step - loss: 0.2903 - auc: 0.8272 - val_loss: 0.2663 - val_auc: 0.8576\n",
            "Epoch 4/15\n",
            "6300/6300 [==============================] - 19s 3ms/step - loss: 0.2801 - auc: 0.8450 - val_loss: 0.2619 - val_auc: 0.8636\n",
            "Epoch 5/15\n",
            "6300/6300 [==============================] - 19s 3ms/step - loss: 0.2740 - auc: 0.8538 - val_loss: 0.2574 - val_auc: 0.8688\n",
            "Epoch 6/15\n",
            "6300/6300 [==============================] - 19s 3ms/step - loss: 0.2687 - auc: 0.8626 - val_loss: 0.2574 - val_auc: 0.8711\n",
            "Epoch 7/15\n",
            "6300/6300 [==============================] - 19s 3ms/step - loss: 0.2652 - auc: 0.8654 - val_loss: 0.2555 - val_auc: 0.8728\n",
            "Epoch 8/15\n",
            "6300/6300 [==============================] - 19s 3ms/step - loss: 0.2616 - auc: 0.8689 - val_loss: 0.2529 - val_auc: 0.8743\n",
            "Epoch 9/15\n",
            "6300/6300 [==============================] - 19s 3ms/step - loss: 0.2604 - auc: 0.8729 - val_loss: 0.2530 - val_auc: 0.8754\n",
            "Epoch 10/15\n",
            "6300/6300 [==============================] - 19s 3ms/step - loss: 0.2583 - auc: 0.8751 - val_loss: 0.2512 - val_auc: 0.8780\n",
            "Epoch 11/15\n",
            "6300/6300 [==============================] - 19s 3ms/step - loss: 0.2589 - auc: 0.8749 - val_loss: 0.2516 - val_auc: 0.8778\n",
            "Epoch 12/15\n",
            "6300/6300 [==============================] - 19s 3ms/step - loss: 0.2560 - auc: 0.8773 - val_loss: 0.2501 - val_auc: 0.8786\n",
            "Epoch 13/15\n",
            "6300/6300 [==============================] - 19s 3ms/step - loss: 0.2565 - auc: 0.8779 - val_loss: 0.2497 - val_auc: 0.8798\n",
            "Epoch 14/15\n",
            "6300/6300 [==============================] - 19s 3ms/step - loss: 0.2535 - auc: 0.8820 - val_loss: 0.2491 - val_auc: 0.8800\n",
            "Epoch 15/15\n",
            "6300/6300 [==============================] - 19s 3ms/step - loss: 0.2531 - auc: 0.8812 - val_loss: 0.2490 - val_auc: 0.8801\n"
          ],
          "name": "stdout"
        },
        {
          "output_type": "display_data",
          "data": {
            "image/png": "[encoded data removed]",
            "text/plain": [
              "<Figure size 432x288 with 1 Axes>"
            ]
          },
          "metadata": {
            "tags": [],
            "needs_background": "light"
          }
        },
        {
          "output_type": "stream",
          "text": [
            "auc: 88.01%\n",
            "Epoch 1/15\n",
            "6300/6300 [==============================] - 20s 3ms/step - loss: 0.3936 - auc: 0.5612 - val_loss: 0.3374 - val_auc: 0.7373\n",
            "Epoch 2/15\n",
            "6300/6300 [==============================] - 19s 3ms/step - loss: 0.3299 - auc: 0.7412 - val_loss: 0.2912 - val_auc: 0.8333\n",
            "Epoch 3/15\n",
            "6300/6300 [==============================] - 19s 3ms/step - loss: 0.2990 - auc: 0.8116 - val_loss: 0.2782 - val_auc: 0.8490\n",
            "Epoch 4/15\n",
            "6300/6300 [==============================] - 19s 3ms/step - loss: 0.2859 - auc: 0.8363 - val_loss: 0.2728 - val_auc: 0.8572\n",
            "Epoch 5/15\n",
            "6300/6300 [==============================] - 20s 3ms/step - loss: 0.2793 - auc: 0.8464 - val_loss: 0.2661 - val_auc: 0.8638\n",
            "Epoch 6/15\n",
            "6300/6300 [==============================] - 19s 3ms/step - loss: 0.2733 - auc: 0.8553 - val_loss: 0.2620 - val_auc: 0.8661\n",
            "Epoch 7/15\n",
            "6300/6300 [==============================] - 19s 3ms/step - loss: 0.2674 - auc: 0.8608 - val_loss: 0.2615 - val_auc: 0.8681\n",
            "Epoch 8/15\n",
            "6300/6300 [==============================] - 19s 3ms/step - loss: 0.2655 - auc: 0.8648 - val_loss: 0.2614 - val_auc: 0.8695\n",
            "Epoch 9/15\n",
            "6300/6300 [==============================] - 19s 3ms/step - loss: 0.2622 - auc: 0.8684 - val_loss: 0.2594 - val_auc: 0.8699\n",
            "Epoch 10/15\n",
            "6300/6300 [==============================] - 19s 3ms/step - loss: 0.2626 - auc: 0.8709 - val_loss: 0.2600 - val_auc: 0.8693\n",
            "Epoch 11/15\n",
            "6300/6300 [==============================] - 19s 3ms/step - loss: 0.2605 - auc: 0.8738 - val_loss: 0.2602 - val_auc: 0.8730\n",
            "Epoch 12/15\n",
            "6300/6300 [==============================] - 19s 3ms/step - loss: 0.2570 - auc: 0.8767 - val_loss: 0.2569 - val_auc: 0.8734\n",
            "Epoch 13/15\n",
            "6300/6300 [==============================] - 19s 3ms/step - loss: 0.2583 - auc: 0.8773 - val_loss: 0.2571 - val_auc: 0.8745\n",
            "Epoch 14/15\n",
            "6300/6300 [==============================] - 19s 3ms/step - loss: 0.2563 - auc: 0.8786 - val_loss: 0.2569 - val_auc: 0.8738\n",
            "Epoch 15/15\n",
            "6300/6300 [==============================] - 19s 3ms/step - loss: 0.2555 - auc: 0.8791 - val_loss: 0.2582 - val_auc: 0.8746\n"
          ],
          "name": "stdout"
        },
        {
          "output_type": "display_data",
          "data": {
            "image/png": "[encoded data removed]",
            "text/plain": [
              "<Figure size 432x288 with 1 Axes>"
            ]
          },
          "metadata": {
            "tags": [],
            "needs_background": "light"
          }
        },
        {
          "output_type": "stream",
          "text": [
            "auc: 87.46%\n",
            "Epoch 1/15\n",
            "6300/6300 [==============================] - 20s 3ms/step - loss: 0.3768 - auc: 0.5923 - val_loss: 0.3201 - val_auc: 0.7845\n",
            "Epoch 2/15\n",
            "6300/6300 [==============================] - 19s 3ms/step - loss: 0.3136 - auc: 0.7823 - val_loss: 0.2792 - val_auc: 0.8459\n",
            "Epoch 3/15\n",
            "6300/6300 [==============================] - 19s 3ms/step - loss: 0.2863 - auc: 0.8323 - val_loss: 0.2692 - val_auc: 0.8587\n",
            "Epoch 4/15\n",
            "6300/6300 [==============================] - 19s 3ms/step - loss: 0.2745 - auc: 0.8518 - val_loss: 0.2654 - val_auc: 0.8612\n",
            "Epoch 5/15\n",
            "6300/6300 [==============================] - 19s 3ms/step - loss: 0.2696 - auc: 0.8597 - val_loss: 0.2636 - val_auc: 0.8650\n",
            "Epoch 6/15\n",
            "6300/6300 [==============================] - 19s 3ms/step - loss: 0.2658 - auc: 0.8636 - val_loss: 0.2633 - val_auc: 0.8672\n",
            "Epoch 7/15\n",
            "6300/6300 [==============================] - 19s 3ms/step - loss: 0.2619 - auc: 0.8666 - val_loss: 0.2607 - val_auc: 0.8676\n",
            "Epoch 8/15\n",
            "6300/6300 [==============================] - 19s 3ms/step - loss: 0.2610 - auc: 0.8708 - val_loss: 0.2586 - val_auc: 0.8696\n",
            "Epoch 9/15\n",
            "6300/6300 [==============================] - 19s 3ms/step - loss: 0.2582 - auc: 0.8764 - val_loss: 0.2589 - val_auc: 0.8705\n",
            "Epoch 10/15\n",
            "6300/6300 [==============================] - 19s 3ms/step - loss: 0.2592 - auc: 0.8744 - val_loss: 0.2579 - val_auc: 0.8709\n",
            "Epoch 11/15\n",
            "6300/6300 [==============================] - 19s 3ms/step - loss: 0.2566 - auc: 0.8783 - val_loss: 0.2581 - val_auc: 0.8702\n",
            "Epoch 12/15\n",
            "6300/6300 [==============================] - 19s 3ms/step - loss: 0.2571 - auc: 0.8772 - val_loss: 0.2578 - val_auc: 0.8711\n",
            "Epoch 13/15\n",
            "6300/6300 [==============================] - 19s 3ms/step - loss: 0.2544 - auc: 0.8806 - val_loss: 0.2565 - val_auc: 0.8727\n",
            "Epoch 14/15\n",
            "6300/6300 [==============================] - 19s 3ms/step - loss: 0.2521 - auc: 0.8829 - val_loss: 0.2565 - val_auc: 0.8733\n",
            "Epoch 15/15\n",
            "6300/6300 [==============================] - 19s 3ms/step - loss: 0.2530 - auc: 0.8814 - val_loss: 0.2566 - val_auc: 0.8731\n"
          ],
          "name": "stdout"
        },
        {
          "output_type": "display_data",
          "data": {
            "image/png": "[encoded data removed]",
            "text/plain": [
              "<Figure size 432x288 with 1 Axes>"
            ]
          },
          "metadata": {
            "tags": [],
            "needs_background": "light"
          }
        },
        {
          "output_type": "stream",
          "text": [
            "auc: 87.31%\n",
            "87.67% (+/- 0.27%)\n"
          ],
          "name": "stdout"
        }
      ]
    },
    {
      "cell_type": "code",
      "metadata": {
        "colab": {
          "base_uri": "https://localhost:8080/"
        },
        "id": "oxRI3xZNghvL",
        "outputId": "175a1235-0ca0-406c-8054-27a87f473aed"
      },
      "source": [
        "history"
      ],
      "execution_count": null,
      "outputs": [
        {
          "output_type": "execute_result",
          "data": {
            "text/plain": [
              "<tensorflow.python.keras.callbacks.History at 0x7f3f7cd76f50>"
            ]
          },
          "metadata": {
            "tags": []
          },
          "execution_count": 32
        }
      ]
    },
    {
      "cell_type": "markdown",
      "metadata": {
        "id": "-EcLK6O9UPyI"
      },
      "source": [
        "**Final model training**"
      ]
    },
    {
      "cell_type": "code",
      "metadata": {
        "id": "-OHY-B6bT9YS",
        "colab": {
          "base_uri": "https://localhost:8080/",
          "height": 1000
        },
        "outputId": "38825d36-f944-410a-a94b-e08f52b7ceb8"
      },
      "source": [
        "model = Sequential()\n",
        "model.add(Dense(64, activation='relu', input_shape=(396,)))\n",
        "model.add(Dropout(0.3))\n",
        "model.add(Dense(16, activation='relu'))\n",
        "model.add(Dropout(0.3))\n",
        "model.add(Dense(1, activation='sigmoid'))\n",
        "# Compile model\n",
        "model.compile(loss='binary_crossentropy', optimizer='adam', metrics=['AUC'])\n",
        "# Fit the model\n",
        "history = model.fit(X_train, y_train, epochs=30, batch_size=32, verbose=1)\n",
        "\n",
        "#plot progress\n",
        "plot_metric(history, 'auc')"
      ],
      "execution_count": null,
      "outputs": [
        {
          "output_type": "stream",
          "text": [
            "Epoch 1/30\n",
            "7875/7875 [==============================] - 20s 2ms/step - loss: 0.3759 - auc: 0.5961\n",
            "Epoch 2/30\n",
            "7875/7875 [==============================] - 20s 3ms/step - loss: 0.3070 - auc: 0.7942\n",
            "Epoch 3/30\n",
            "7875/7875 [==============================] - 20s 3ms/step - loss: 0.2851 - auc: 0.8350\n",
            "Epoch 4/30\n",
            "7875/7875 [==============================] - 20s 3ms/step - loss: 0.2759 - auc: 0.8494\n",
            "Epoch 5/30\n",
            "7875/7875 [==============================] - 20s 2ms/step - loss: 0.2705 - auc: 0.8591\n",
            "Epoch 6/30\n",
            "7875/7875 [==============================] - 20s 2ms/step - loss: 0.2674 - auc: 0.8623\n",
            "Epoch 7/30\n",
            "7875/7875 [==============================] - 20s 3ms/step - loss: 0.2638 - auc: 0.8664\n",
            "Epoch 8/30\n",
            "7875/7875 [==============================] - 20s 3ms/step - loss: 0.2637 - auc: 0.8683\n",
            "Epoch 9/30\n",
            "7875/7875 [==============================] - 20s 2ms/step - loss: 0.2601 - auc: 0.8734\n",
            "Epoch 10/30\n",
            "7875/7875 [==============================] - 20s 3ms/step - loss: 0.2582 - auc: 0.8749\n",
            "Epoch 11/30\n",
            "7875/7875 [==============================] - 20s 3ms/step - loss: 0.2591 - auc: 0.8759\n",
            "Epoch 12/30\n",
            "7875/7875 [==============================] - 20s 3ms/step - loss: 0.2556 - auc: 0.8779\n",
            "Epoch 13/30\n",
            "7875/7875 [==============================] - 20s 3ms/step - loss: 0.2558 - auc: 0.8788\n",
            "Epoch 14/30\n",
            "7875/7875 [==============================] - 20s 3ms/step - loss: 0.2561 - auc: 0.8785\n",
            "Epoch 15/30\n",
            "7875/7875 [==============================] - 20s 3ms/step - loss: 0.2559 - auc: 0.8786\n",
            "Epoch 16/30\n",
            "7875/7875 [==============================] - 20s 3ms/step - loss: 0.2535 - auc: 0.8815\n",
            "Epoch 17/30\n",
            "7875/7875 [==============================] - 20s 3ms/step - loss: 0.2520 - auc: 0.8832\n",
            "Epoch 18/30\n",
            "7875/7875 [==============================] - 20s 3ms/step - loss: 0.2506 - auc: 0.8852\n",
            "Epoch 19/30\n",
            "7875/7875 [==============================] - 20s 2ms/step - loss: 0.2523 - auc: 0.8839\n",
            "Epoch 20/30\n",
            "7875/7875 [==============================] - 20s 3ms/step - loss: 0.2522 - auc: 0.8839\n",
            "Epoch 21/30\n",
            "7875/7875 [==============================] - 20s 3ms/step - loss: 0.2500 - auc: 0.8834\n",
            "Epoch 22/30\n",
            "7875/7875 [==============================] - 20s 3ms/step - loss: 0.2487 - auc: 0.8853\n",
            "Epoch 23/30\n",
            "7875/7875 [==============================] - 20s 3ms/step - loss: 0.2509 - auc: 0.8859\n",
            "Epoch 24/30\n",
            "7875/7875 [==============================] - 20s 3ms/step - loss: 0.2493 - auc: 0.8854\n",
            "Epoch 25/30\n",
            "7875/7875 [==============================] - 20s 3ms/step - loss: 0.2481 - auc: 0.8867\n",
            "Epoch 26/30\n",
            "7875/7875 [==============================] - 20s 2ms/step - loss: 0.2500 - auc: 0.8858\n",
            "Epoch 27/30\n",
            "7875/7875 [==============================] - 20s 3ms/step - loss: 0.2501 - auc: 0.8867\n",
            "Epoch 28/30\n",
            "7875/7875 [==============================] - 20s 3ms/step - loss: 0.2474 - auc: 0.8872\n",
            "Epoch 29/30\n",
            "7875/7875 [==============================] - 20s 3ms/step - loss: 0.2489 - auc: 0.8868\n",
            "Epoch 30/30\n",
            "7875/7875 [==============================] - 20s 3ms/step - loss: 0.2472 - auc: 0.8885\n"
          ],
          "name": "stdout"
        },
        {
          "output_type": "display_data",
          "data": {
            "image/png": "[encoded data removed]",
            "text/plain": [
              "<Figure size 432x288 with 1 Axes>"
            ]
          },
          "metadata": {
            "tags": [],
            "needs_background": "light"
          }
        }
      ]
    },
    {
      "cell_type": "code",
      "metadata": {
        "id": "69M8719YUeXV",
        "colab": {
          "base_uri": "https://localhost:8080/"
        },
        "outputId": "a92e32c4-8666-4331-c561-2160f4d90e70"
      },
      "source": [
        "#saving the model \n",
        "model.save('model1')"
      ],
      "execution_count": null,
      "outputs": [
        {
          "output_type": "stream",
          "text": [
            "INFO:tensorflow:Assets written to: model1/assets\n"
          ],
          "name": "stdout"
        }
      ]
    },
    {
      "cell_type": "markdown",
      "metadata": {
        "id": "8umy5gLUUn_S"
      },
      "source": [
        "**Loading the model**"
      ]
    },
    {
      "cell_type": "code",
      "metadata": {
        "id": "WL-mUHWQUl-y"
      },
      "source": [
        "model = tf.keras.models.load_model('model1')"
      ],
      "execution_count": null,
      "outputs": []
    },
    {
      "cell_type": "markdown",
      "metadata": {
        "id": "rGCbAMUmOOwE"
      },
      "source": [
        "**Testing the model**"
      ]
    },
    {
      "cell_type": "code",
      "metadata": {
        "id": "szRwJL0TU3by"
      },
      "source": [
        "y_pred_train = model.predict(X_train)"
      ],
      "execution_count": null,
      "outputs": []
    },
    {
      "cell_type": "code",
      "metadata": {
        "colab": {
          "base_uri": "https://localhost:8080/"
        },
        "id": "AVvWq5DtOzmr",
        "outputId": "a6094abe-2c3b-4674-dd67-cc0ede152e13"
      },
      "source": [
        "from sklearn.metrics import roc_auc_score, accuracy_score\n",
        "auc_tr = roc_auc_score(y_train, y_pred_train)\n",
        "acc_tr = accuracy_score(y_train, np.round(y_pred_train))\n",
        "print('ROC_AUC train:', auc_tr)\n",
        "print('acc train:', acc_tr)"
      ],
      "execution_count": null,
      "outputs": [
        {
          "output_type": "stream",
          "text": [
            "ROC_AUC train: 0.9104922124725374\n",
            "acc train: 0.8931269841269841\n"
          ],
          "name": "stdout"
        }
      ]
    },
    {
      "cell_type": "code",
      "metadata": {
        "colab": {
          "base_uri": "https://localhost:8080/",
          "height": 453
        },
        "id": "Zy9_12elO3l6",
        "outputId": "c425ed52-3600-4a98-cf3e-fd270eb6bcc5"
      },
      "source": [
        "import seaborn as sns\n",
        "import matplotlib.pyplot as plt\n",
        "from sklearn.metrics import confusion_matrix\n",
        "import pylab as pl\n",
        "\n",
        "cm = confusion_matrix(y_train,np.round(y_pred_train))\n",
        "\n",
        "df_cm = pd.DataFrame(cm, index = [i for i in [0,1]],\n",
        "columns = [i for i in [0,1]])\n",
        "plt.figure(figsize = (10,7))\n",
        "sns.set(font_scale=1.4)\n",
        "sns.heatmap(df_cm, annot=True, fmt='g')\n",
        "plt.plot()"
      ],
      "execution_count": null,
      "outputs": [
        {
          "output_type": "execute_result",
          "data": {
            "text/plain": [
              "[]"
            ]
          },
          "metadata": {
            "tags": []
          },
          "execution_count": 38
        },
        {
          "output_type": "display_data",
          "data": {
            "image/png": "[encoded data removed]",
            "text/plain": [
              "<Figure size 720x504 with 2 Axes>"
            ]
          },
          "metadata": {
            "tags": [],
            "needs_background": "light"
          }
        }
      ]
    },
    {
      "cell_type": "code",
      "metadata": {
        "colab": {
          "base_uri": "https://localhost:8080/"
        },
        "id": "mTaQHBO0O7uW",
        "outputId": "c1b1cb14-42d1-48f8-c34e-bf62c141b896"
      },
      "source": [
        "tp = cm[1][1]\n",
        "tn = cm[0][0]\n",
        "fn = cm[1][0]\n",
        "fp = cm[0][1]\n",
        "TPR = tp/(tp+fn)\n",
        "TNR = tn/(tn+fp)\n",
        "print('TNR', TNR)\n",
        "print('TPR', TPR)"
      ],
      "execution_count": null,
      "outputs": [
        {
          "output_type": "stream",
          "text": [
            "TNR 0.9725480081808474\n",
            "TPR 0.32684862562911343\n"
          ],
          "name": "stdout"
        }
      ]
    },
    {
      "cell_type": "markdown",
      "metadata": {
        "id": "x6Ff--eQPCoE"
      },
      "source": [
        "**DL Embeddings Featurization**"
      ]
    },
    {
      "cell_type": "code",
      "metadata": {
        "colab": {
          "base_uri": "https://localhost:8080/",
          "height": 204
        },
        "id": "rR7XirNEO_44",
        "outputId": "3f64bc36-0ad4-498a-8cfd-d74165146e9f"
      },
      "source": [
        "cat_data1['DL_Embeddings'] = model.predict(X_train) \n",
        "cat_data1.head()"
      ],
      "execution_count": null,
      "outputs": [
        {
          "output_type": "execute_result",
          "data": {
            "text/html": [
              "<div>\n",
              "<style scoped>\n",
              "    .dataframe tbody tr th:only-of-type {\n",
              "        vertical-align: middle;\n",
              "    }\n",
              "\n",
              "    .dataframe tbody tr th {\n",
              "        vertical-align: top;\n",
              "    }\n",
              "\n",
              "    .dataframe thead th {\n",
              "        text-align: right;\n",
              "    }\n",
              "</style>\n",
              "<table border=\"1\" class=\"dataframe\">\n",
              "  <thead>\n",
              "    <tr style=\"text-align: right;\">\n",
              "      <th></th>\n",
              "      <th>response_state</th>\n",
              "      <th>response_city</th>\n",
              "      <th>response_prof</th>\n",
              "      <th>prof_cat</th>\n",
              "      <th>risk_flag</th>\n",
              "      <th>DL_Embeddings</th>\n",
              "    </tr>\n",
              "  </thead>\n",
              "  <tbody>\n",
              "    <tr>\n",
              "      <th>117955</th>\n",
              "      <td>0.167097</td>\n",
              "      <td>0.252862</td>\n",
              "      <td>0.124048</td>\n",
              "      <td>1</td>\n",
              "      <td>0</td>\n",
              "      <td>0.074658</td>\n",
              "    </tr>\n",
              "    <tr>\n",
              "      <th>89977</th>\n",
              "      <td>0.128135</td>\n",
              "      <td>0.178122</td>\n",
              "      <td>0.115570</td>\n",
              "      <td>0</td>\n",
              "      <td>0</td>\n",
              "      <td>0.372621</td>\n",
              "    </tr>\n",
              "    <tr>\n",
              "      <th>86851</th>\n",
              "      <td>0.113254</td>\n",
              "      <td>0.086370</td>\n",
              "      <td>0.135789</td>\n",
              "      <td>1</td>\n",
              "      <td>0</td>\n",
              "      <td>0.022688</td>\n",
              "    </tr>\n",
              "    <tr>\n",
              "      <th>225217</th>\n",
              "      <td>0.140833</td>\n",
              "      <td>0.238452</td>\n",
              "      <td>0.135832</td>\n",
              "      <td>1</td>\n",
              "      <td>1</td>\n",
              "      <td>0.146355</td>\n",
              "    </tr>\n",
              "    <tr>\n",
              "      <th>186118</th>\n",
              "      <td>0.140833</td>\n",
              "      <td>0.138721</td>\n",
              "      <td>0.115385</td>\n",
              "      <td>0</td>\n",
              "      <td>0</td>\n",
              "      <td>0.296553</td>\n",
              "    </tr>\n",
              "  </tbody>\n",
              "</table>\n",
              "</div>"
            ],
            "text/plain": [
              "        response_state  response_city  ...  risk_flag  DL_Embeddings\n",
              "117955        0.167097       0.252862  ...          0       0.074658\n",
              "89977         0.128135       0.178122  ...          0       0.372621\n",
              "86851         0.113254       0.086370  ...          0       0.022688\n",
              "225217        0.140833       0.238452  ...          1       0.146355\n",
              "186118        0.140833       0.138721  ...          0       0.296553\n",
              "\n",
              "[5 rows x 6 columns]"
            ]
          },
          "metadata": {
            "tags": []
          },
          "execution_count": 40
        }
      ]
    },
    {
      "cell_type": "code",
      "metadata": {
        "colab": {
          "base_uri": "https://localhost:8080/",
          "height": 372
        },
        "id": "6CLCUlULPY0u",
        "outputId": "4d099606-857a-4a59-ae55-35cfcf590315"
      },
      "source": [
        "import seaborn as sns\n",
        "sns.displot(cat_data1, x=\"DL_Embeddings\", hue=\"risk_flag\", kind=\"kde\")\n",
        "plt.plot()"
      ],
      "execution_count": null,
      "outputs": [
        {
          "output_type": "execute_result",
          "data": {
            "text/plain": [
              "[]"
            ]
          },
          "metadata": {
            "tags": []
          },
          "execution_count": 41
        },
        {
          "output_type": "display_data",
          "data": {
            "image/png": "[encoded data removed]",
            "text/plain": [
              "<Figure size 442.445x360 with 1 Axes>"
            ]
          },
          "metadata": {
            "tags": []
          }
        }
      ]
    },
    {
      "cell_type": "code",
      "metadata": {
        "colab": {
          "base_uri": "https://localhost:8080/",
          "height": 372
        },
        "id": "Yt3dhPBYPdUS",
        "outputId": "4da18b55-8c9c-49a9-98d6-dcaf96e0e50a"
      },
      "source": [
        "cat_data1['DL_Embeddings_log'] = cat_data1['DL_Embeddings'].apply(lambda x : np.log(x))\n",
        "\n",
        "sns.displot(cat_data1, x=\"DL_Embeddings_log\", hue=\"risk_flag\", kind=\"kde\")\n",
        "plt.plot()"
      ],
      "execution_count": null,
      "outputs": [
        {
          "output_type": "execute_result",
          "data": {
            "text/plain": [
              "[]"
            ]
          },
          "metadata": {
            "tags": []
          },
          "execution_count": 42
        },
        {
          "output_type": "display_data",
          "data": {
            "image/png": "[encoded data removed]",
            "text/plain": [
              "<Figure size 442.445x360 with 1 Axes>"
            ]
          },
          "metadata": {
            "tags": []
          }
        }
      ]
    },
    {
      "cell_type": "markdown",
      "metadata": {
        "id": "YcbX6AOZPk7r"
      },
      "source": [
        "**Distribution of variables**"
      ]
    },
    {
      "cell_type": "code",
      "metadata": {
        "colab": {
          "base_uri": "https://localhost:8080/",
          "height": 1000
        },
        "id": "d67EmcFLPoxn",
        "outputId": "74b08fd9-0064-421f-c2a9-1ee52f5d88d0"
      },
      "source": [
        "for col in cat_data1.columns:\n",
        "    sns.distplot(cat_data1[col])\n",
        "    plt.show()"
      ],
      "execution_count": null,
      "outputs": [
        {
          "output_type": "display_data",
          "data": {
            "image/png": "[encoded data removed]",
            "text/plain": [
              "<Figure size 432x288 with 1 Axes>"
            ]
          },
          "metadata": {
            "tags": []
          }
        },
        {
          "output_type": "display_data",
          "data": {
            "image/png": "[encoded data removed]",
            "text/plain": [
              "<Figure size 432x288 with 1 Axes>"
            ]
          },
          "metadata": {
            "tags": []
          }
        },
        {
          "output_type": "display_data",
          "data": {
            "image/png": "[encoded data removed]",
            "text/plain": [
              "<Figure size 432x288 with 1 Axes>"
            ]
          },
          "metadata": {
            "tags": []
          }
        },
        {
          "output_type": "display_data",
          "data": {
            "image/png": "[encoded data removed]",
            "text/plain": [
              "<Figure size 432x288 with 1 Axes>"
            ]
          },
          "metadata": {
            "tags": []
          }
        },
        {
          "output_type": "display_data",
          "data": {
            "image/png": "[encoded data removed]",
            "text/plain": [
              "<Figure size 432x288 with 1 Axes>"
            ]
          },
          "metadata": {
            "tags": []
          }
        },
        {
          "output_type": "display_data",
          "data": {
            "image/png": "[encoded data removed]",
            "text/plain": [
              "<Figure size 432x288 with 1 Axes>"
            ]
          },
          "metadata": {
            "tags": []
          }
        },
        {
          "output_type": "display_data",
          "data": {
            "image/png": "[encoded data removed]",
            "text/plain": [
              "<Figure size 432x288 with 1 Axes>"
            ]
          },
          "metadata": {
            "tags": []
          }
        }
      ]
    },
    {
      "cell_type": "markdown",
      "metadata": {
        "id": "BiT3YFc8Pv25"
      },
      "source": [
        "**Featurization of Test Data**"
      ]
    },
    {
      "cell_type": "code",
      "metadata": {
        "colab": {
          "base_uri": "https://localhost:8080/"
        },
        "id": "iCqzXi-lP0cz",
        "outputId": "6d00d153-7829-4fcf-cf35-38f9a571489c"
      },
      "source": [
        "#TEST DATA TRANSFORMATION\n",
        "temp = pd.concat([state_ohe_test, city_ohe_test, profession_ohe_test], axis=1).astype('float32')\n",
        "\n",
        "cat_data1_test['DL_Embeddings'] = model.predict(temp) \n",
        "cat_data1_test.head()\n",
        "\n",
        "cat_data1_test['DL_Embeddings_log'] = cat_data1_test['DL_Embeddings'].apply(lambda x : np.log(x))\n",
        "\n",
        "print(cat_data1.shape)\n",
        "print(cat_data1_test.shape)"
      ],
      "execution_count": null,
      "outputs": [
        {
          "output_type": "stream",
          "text": [
            "(252000, 7)\n",
            "(28000, 6)\n"
          ],
          "name": "stdout"
        }
      ]
    },
    {
      "cell_type": "code",
      "metadata": {
        "colab": {
          "base_uri": "https://localhost:8080/",
          "height": 204
        },
        "id": "csF8sSkvQAsm",
        "outputId": "dacfd445-ee0e-4d69-c75f-8d10e719a65d"
      },
      "source": [
        "cat_data1.head()"
      ],
      "execution_count": null,
      "outputs": [
        {
          "output_type": "execute_result",
          "data": {
            "text/html": [
              "<div>\n",
              "<style scoped>\n",
              "    .dataframe tbody tr th:only-of-type {\n",
              "        vertical-align: middle;\n",
              "    }\n",
              "\n",
              "    .dataframe tbody tr th {\n",
              "        vertical-align: top;\n",
              "    }\n",
              "\n",
              "    .dataframe thead th {\n",
              "        text-align: right;\n",
              "    }\n",
              "</style>\n",
              "<table border=\"1\" class=\"dataframe\">\n",
              "  <thead>\n",
              "    <tr style=\"text-align: right;\">\n",
              "      <th></th>\n",
              "      <th>response_state</th>\n",
              "      <th>response_city</th>\n",
              "      <th>response_prof</th>\n",
              "      <th>prof_cat</th>\n",
              "      <th>risk_flag</th>\n",
              "      <th>DL_Embeddings</th>\n",
              "      <th>DL_Embeddings_log</th>\n",
              "    </tr>\n",
              "  </thead>\n",
              "  <tbody>\n",
              "    <tr>\n",
              "      <th>117955</th>\n",
              "      <td>0.167097</td>\n",
              "      <td>0.252862</td>\n",
              "      <td>0.124048</td>\n",
              "      <td>1</td>\n",
              "      <td>0</td>\n",
              "      <td>0.074658</td>\n",
              "      <td>-2.594838</td>\n",
              "    </tr>\n",
              "    <tr>\n",
              "      <th>89977</th>\n",
              "      <td>0.128135</td>\n",
              "      <td>0.178122</td>\n",
              "      <td>0.115570</td>\n",
              "      <td>0</td>\n",
              "      <td>0</td>\n",
              "      <td>0.372621</td>\n",
              "      <td>-0.987193</td>\n",
              "    </tr>\n",
              "    <tr>\n",
              "      <th>86851</th>\n",
              "      <td>0.113254</td>\n",
              "      <td>0.086370</td>\n",
              "      <td>0.135789</td>\n",
              "      <td>1</td>\n",
              "      <td>0</td>\n",
              "      <td>0.022688</td>\n",
              "      <td>-3.785937</td>\n",
              "    </tr>\n",
              "    <tr>\n",
              "      <th>225217</th>\n",
              "      <td>0.140833</td>\n",
              "      <td>0.238452</td>\n",
              "      <td>0.135832</td>\n",
              "      <td>1</td>\n",
              "      <td>1</td>\n",
              "      <td>0.146355</td>\n",
              "      <td>-1.921718</td>\n",
              "    </tr>\n",
              "    <tr>\n",
              "      <th>186118</th>\n",
              "      <td>0.140833</td>\n",
              "      <td>0.138721</td>\n",
              "      <td>0.115385</td>\n",
              "      <td>0</td>\n",
              "      <td>0</td>\n",
              "      <td>0.296553</td>\n",
              "      <td>-1.215529</td>\n",
              "    </tr>\n",
              "  </tbody>\n",
              "</table>\n",
              "</div>"
            ],
            "text/plain": [
              "        response_state  response_city  ...  DL_Embeddings  DL_Embeddings_log\n",
              "117955        0.167097       0.252862  ...       0.074658          -2.594838\n",
              "89977         0.128135       0.178122  ...       0.372621          -0.987193\n",
              "86851         0.113254       0.086370  ...       0.022688          -3.785937\n",
              "225217        0.140833       0.238452  ...       0.146355          -1.921718\n",
              "186118        0.140833       0.138721  ...       0.296553          -1.215529\n",
              "\n",
              "[5 rows x 7 columns]"
            ]
          },
          "metadata": {
            "tags": []
          },
          "execution_count": 45
        }
      ]
    },
    {
      "cell_type": "markdown",
      "metadata": {
        "id": "XOLQrhL9QFWy"
      },
      "source": [
        "## Simple Categorical Features"
      ]
    },
    {
      "cell_type": "markdown",
      "metadata": {
        "id": "vRmJD7rcQOGg"
      },
      "source": [
        "**One Hot Encodings**"
      ]
    },
    {
      "cell_type": "code",
      "metadata": {
        "colab": {
          "base_uri": "https://localhost:8080/",
          "height": 221
        },
        "id": "ScptyPkHQEIB",
        "outputId": "bdded76c-376f-43f2-c4aa-adbedb500bda"
      },
      "source": [
        "married_ohe = pd.get_dummies(train_data['married'])\n",
        "print(married_ohe.shape)\n",
        "married_ohe.head()"
      ],
      "execution_count": null,
      "outputs": [
        {
          "output_type": "stream",
          "text": [
            "(252000, 2)\n"
          ],
          "name": "stdout"
        },
        {
          "output_type": "execute_result",
          "data": {
            "text/html": [
              "<div>\n",
              "<style scoped>\n",
              "    .dataframe tbody tr th:only-of-type {\n",
              "        vertical-align: middle;\n",
              "    }\n",
              "\n",
              "    .dataframe tbody tr th {\n",
              "        vertical-align: top;\n",
              "    }\n",
              "\n",
              "    .dataframe thead th {\n",
              "        text-align: right;\n",
              "    }\n",
              "</style>\n",
              "<table border=\"1\" class=\"dataframe\">\n",
              "  <thead>\n",
              "    <tr style=\"text-align: right;\">\n",
              "      <th></th>\n",
              "      <th>married</th>\n",
              "      <th>single</th>\n",
              "    </tr>\n",
              "  </thead>\n",
              "  <tbody>\n",
              "    <tr>\n",
              "      <th>117955</th>\n",
              "      <td>0</td>\n",
              "      <td>1</td>\n",
              "    </tr>\n",
              "    <tr>\n",
              "      <th>89977</th>\n",
              "      <td>0</td>\n",
              "      <td>1</td>\n",
              "    </tr>\n",
              "    <tr>\n",
              "      <th>86851</th>\n",
              "      <td>0</td>\n",
              "      <td>1</td>\n",
              "    </tr>\n",
              "    <tr>\n",
              "      <th>225217</th>\n",
              "      <td>0</td>\n",
              "      <td>1</td>\n",
              "    </tr>\n",
              "    <tr>\n",
              "      <th>186118</th>\n",
              "      <td>0</td>\n",
              "      <td>1</td>\n",
              "    </tr>\n",
              "  </tbody>\n",
              "</table>\n",
              "</div>"
            ],
            "text/plain": [
              "        married  single\n",
              "117955        0       1\n",
              "89977         0       1\n",
              "86851         0       1\n",
              "225217        0       1\n",
              "186118        0       1"
            ]
          },
          "metadata": {
            "tags": []
          },
          "execution_count": 46
        }
      ]
    },
    {
      "cell_type": "code",
      "metadata": {
        "colab": {
          "base_uri": "https://localhost:8080/",
          "height": 221
        },
        "id": "1-FEMnN-QVO4",
        "outputId": "13d45ea7-6212-45be-8e82-d5cf55d911ff"
      },
      "source": [
        "house_ohe = pd.get_dummies(train_data['house_ownership'], prefix='house')\n",
        "print(house_ohe.shape)\n",
        "house_ohe.head()"
      ],
      "execution_count": null,
      "outputs": [
        {
          "output_type": "stream",
          "text": [
            "(252000, 3)\n"
          ],
          "name": "stdout"
        },
        {
          "output_type": "execute_result",
          "data": {
            "text/html": [
              "<div>\n",
              "<style scoped>\n",
              "    .dataframe tbody tr th:only-of-type {\n",
              "        vertical-align: middle;\n",
              "    }\n",
              "\n",
              "    .dataframe tbody tr th {\n",
              "        vertical-align: top;\n",
              "    }\n",
              "\n",
              "    .dataframe thead th {\n",
              "        text-align: right;\n",
              "    }\n",
              "</style>\n",
              "<table border=\"1\" class=\"dataframe\">\n",
              "  <thead>\n",
              "    <tr style=\"text-align: right;\">\n",
              "      <th></th>\n",
              "      <th>house_norent_noown</th>\n",
              "      <th>house_owned</th>\n",
              "      <th>house_rented</th>\n",
              "    </tr>\n",
              "  </thead>\n",
              "  <tbody>\n",
              "    <tr>\n",
              "      <th>117955</th>\n",
              "      <td>0</td>\n",
              "      <td>0</td>\n",
              "      <td>1</td>\n",
              "    </tr>\n",
              "    <tr>\n",
              "      <th>89977</th>\n",
              "      <td>0</td>\n",
              "      <td>0</td>\n",
              "      <td>1</td>\n",
              "    </tr>\n",
              "    <tr>\n",
              "      <th>86851</th>\n",
              "      <td>0</td>\n",
              "      <td>0</td>\n",
              "      <td>1</td>\n",
              "    </tr>\n",
              "    <tr>\n",
              "      <th>225217</th>\n",
              "      <td>0</td>\n",
              "      <td>0</td>\n",
              "      <td>1</td>\n",
              "    </tr>\n",
              "    <tr>\n",
              "      <th>186118</th>\n",
              "      <td>0</td>\n",
              "      <td>0</td>\n",
              "      <td>1</td>\n",
              "    </tr>\n",
              "  </tbody>\n",
              "</table>\n",
              "</div>"
            ],
            "text/plain": [
              "        house_norent_noown  house_owned  house_rented\n",
              "117955                   0            0             1\n",
              "89977                    0            0             1\n",
              "86851                    0            0             1\n",
              "225217                   0            0             1\n",
              "186118                   0            0             1"
            ]
          },
          "metadata": {
            "tags": []
          },
          "execution_count": 47
        }
      ]
    },
    {
      "cell_type": "code",
      "metadata": {
        "colab": {
          "base_uri": "https://localhost:8080/",
          "height": 221
        },
        "id": "LjJipbZTQYBk",
        "outputId": "d6bb174b-ef93-413d-88e7-b225e323e986"
      },
      "source": [
        "car_ohe = pd.get_dummies(train_data['car_ownership'], prefix='car')\n",
        "print(car_ohe.shape)\n",
        "car_ohe.head()"
      ],
      "execution_count": null,
      "outputs": [
        {
          "output_type": "stream",
          "text": [
            "(252000, 2)\n"
          ],
          "name": "stdout"
        },
        {
          "output_type": "execute_result",
          "data": {
            "text/html": [
              "<div>\n",
              "<style scoped>\n",
              "    .dataframe tbody tr th:only-of-type {\n",
              "        vertical-align: middle;\n",
              "    }\n",
              "\n",
              "    .dataframe tbody tr th {\n",
              "        vertical-align: top;\n",
              "    }\n",
              "\n",
              "    .dataframe thead th {\n",
              "        text-align: right;\n",
              "    }\n",
              "</style>\n",
              "<table border=\"1\" class=\"dataframe\">\n",
              "  <thead>\n",
              "    <tr style=\"text-align: right;\">\n",
              "      <th></th>\n",
              "      <th>car_no</th>\n",
              "      <th>car_yes</th>\n",
              "    </tr>\n",
              "  </thead>\n",
              "  <tbody>\n",
              "    <tr>\n",
              "      <th>117955</th>\n",
              "      <td>1</td>\n",
              "      <td>0</td>\n",
              "    </tr>\n",
              "    <tr>\n",
              "      <th>89977</th>\n",
              "      <td>1</td>\n",
              "      <td>0</td>\n",
              "    </tr>\n",
              "    <tr>\n",
              "      <th>86851</th>\n",
              "      <td>1</td>\n",
              "      <td>0</td>\n",
              "    </tr>\n",
              "    <tr>\n",
              "      <th>225217</th>\n",
              "      <td>1</td>\n",
              "      <td>0</td>\n",
              "    </tr>\n",
              "    <tr>\n",
              "      <th>186118</th>\n",
              "      <td>1</td>\n",
              "      <td>0</td>\n",
              "    </tr>\n",
              "  </tbody>\n",
              "</table>\n",
              "</div>"
            ],
            "text/plain": [
              "        car_no  car_yes\n",
              "117955       1        0\n",
              "89977        1        0\n",
              "86851        1        0\n",
              "225217       1        0\n",
              "186118       1        0"
            ]
          },
          "metadata": {
            "tags": []
          },
          "execution_count": 48
        }
      ]
    },
    {
      "cell_type": "markdown",
      "metadata": {
        "id": "YTPzYvmFQeWI"
      },
      "source": [
        "**For Test Data**"
      ]
    },
    {
      "cell_type": "code",
      "metadata": {
        "colab": {
          "base_uri": "https://localhost:8080/"
        },
        "id": "xOjjsekjQhQ4",
        "outputId": "f2543c0b-ad47-4826-82b3-2787e4bc96f8"
      },
      "source": [
        "married_ohe_test = pd.get_dummies(test_data['married'])\n",
        "print(married_ohe_test.shape)\n",
        "\n",
        "house_ohe_test = pd.get_dummies(test_data['house_ownership'], prefix='house')\n",
        "print(house_ohe_test.shape)\n",
        "\n",
        "car_ohe_test = pd.get_dummies(test_data['car_ownership'], prefix='car')\n",
        "print(car_ohe_test.shape)"
      ],
      "execution_count": null,
      "outputs": [
        {
          "output_type": "stream",
          "text": [
            "(28000, 2)\n",
            "(28000, 3)\n",
            "(28000, 2)\n"
          ],
          "name": "stdout"
        }
      ]
    },
    {
      "cell_type": "markdown",
      "metadata": {
        "id": "-p1ZReErQk_T"
      },
      "source": [
        "## Numerical Features"
      ]
    },
    {
      "cell_type": "code",
      "metadata": {
        "colab": {
          "base_uri": "https://localhost:8080/",
          "height": 1000
        },
        "id": "-y3jrJdjQpIX",
        "outputId": "43b84151-9d1f-4b3c-c373-4d40e42cc7a5"
      },
      "source": [
        "num_cols = ['income', 'age', 'experience', 'current_job_years', 'current_house_years']\n",
        "\n",
        "for each in num_cols:\n",
        "    sns.distplot(train_data[each])\n",
        "    plt.show()"
      ],
      "execution_count": null,
      "outputs": [
        {
          "output_type": "display_data",
          "data": {
            "image/png": "[encoded data removed]",
            "text/plain": [
              "<Figure size 432x288 with 1 Axes>"
            ]
          },
          "metadata": {
            "tags": []
          }
        },
        {
          "output_type": "display_data",
          "data": {
            "image/png": "[encoded data removed]",
            "text/plain": [
              "<Figure size 432x288 with 1 Axes>"
            ]
          },
          "metadata": {
            "tags": []
          }
        },
        {
          "output_type": "display_data",
          "data": {
            "image/png": "[encoded data removed]",
            "text/plain": [
              "<Figure size 432x288 with 1 Axes>"
            ]
          },
          "metadata": {
            "tags": []
          }
        },
        {
          "output_type": "display_data",
          "data": {
            "image/png": "[encoded data removed]",
            "text/plain": [
              "<Figure size 432x288 with 1 Axes>"
            ]
          },
          "metadata": {
            "tags": []
          }
        },
        {
          "output_type": "display_data",
          "data": {
            "image/png": "[encoded data removed]",
            "text/plain": [
              "<Figure size 432x288 with 1 Axes>"
            ]
          },
          "metadata": {
            "tags": []
          }
        }
      ]
    },
    {
      "cell_type": "code",
      "metadata": {
        "colab": {
          "base_uri": "https://localhost:8080/",
          "height": 204
        },
        "id": "hofdPHJ0Qwtz",
        "outputId": "ce5bd17a-0c08-4669-ff15-512a9af18453"
      },
      "source": [
        "num_cols = ['income', 'age', 'experience', 'current_job_years', 'current_house_years']\n",
        "\n",
        "#num_data1 is raw numerical data\n",
        "num_data1 = train_data[num_cols].copy()\n",
        "num_data1.head()"
      ],
      "execution_count": null,
      "outputs": [
        {
          "output_type": "execute_result",
          "data": {
            "text/html": [
              "<div>\n",
              "<style scoped>\n",
              "    .dataframe tbody tr th:only-of-type {\n",
              "        vertical-align: middle;\n",
              "    }\n",
              "\n",
              "    .dataframe tbody tr th {\n",
              "        vertical-align: top;\n",
              "    }\n",
              "\n",
              "    .dataframe thead th {\n",
              "        text-align: right;\n",
              "    }\n",
              "</style>\n",
              "<table border=\"1\" class=\"dataframe\">\n",
              "  <thead>\n",
              "    <tr style=\"text-align: right;\">\n",
              "      <th></th>\n",
              "      <th>income</th>\n",
              "      <th>age</th>\n",
              "      <th>experience</th>\n",
              "      <th>current_job_years</th>\n",
              "      <th>current_house_years</th>\n",
              "    </tr>\n",
              "  </thead>\n",
              "  <tbody>\n",
              "    <tr>\n",
              "      <th>117955</th>\n",
              "      <td>6460018</td>\n",
              "      <td>75</td>\n",
              "      <td>0</td>\n",
              "      <td>0</td>\n",
              "      <td>14</td>\n",
              "    </tr>\n",
              "    <tr>\n",
              "      <th>89977</th>\n",
              "      <td>7134812</td>\n",
              "      <td>72</td>\n",
              "      <td>16</td>\n",
              "      <td>4</td>\n",
              "      <td>14</td>\n",
              "    </tr>\n",
              "    <tr>\n",
              "      <th>86851</th>\n",
              "      <td>8918340</td>\n",
              "      <td>28</td>\n",
              "      <td>13</td>\n",
              "      <td>10</td>\n",
              "      <td>14</td>\n",
              "    </tr>\n",
              "    <tr>\n",
              "      <th>225217</th>\n",
              "      <td>2499535</td>\n",
              "      <td>29</td>\n",
              "      <td>17</td>\n",
              "      <td>9</td>\n",
              "      <td>12</td>\n",
              "    </tr>\n",
              "    <tr>\n",
              "      <th>186118</th>\n",
              "      <td>270761</td>\n",
              "      <td>48</td>\n",
              "      <td>1</td>\n",
              "      <td>1</td>\n",
              "      <td>11</td>\n",
              "    </tr>\n",
              "  </tbody>\n",
              "</table>\n",
              "</div>"
            ],
            "text/plain": [
              "         income  age  experience  current_job_years  current_house_years\n",
              "117955  6460018   75           0                  0                   14\n",
              "89977   7134812   72          16                  4                   14\n",
              "86851   8918340   28          13                 10                   14\n",
              "225217  2499535   29          17                  9                   12\n",
              "186118   270761   48           1                  1                   11"
            ]
          },
          "metadata": {
            "tags": []
          },
          "execution_count": 51
        }
      ]
    },
    {
      "cell_type": "code",
      "metadata": {
        "id": "ItuT4ivOQ0N3"
      },
      "source": [
        "#Test Data\n",
        "num_data1_test = test_data[num_cols].copy()"
      ],
      "execution_count": null,
      "outputs": []
    },
    {
      "cell_type": "markdown",
      "metadata": {
        "id": "C708WXUeQ1u7"
      },
      "source": [
        "## Column False Values"
      ]
    },
    {
      "cell_type": "code",
      "metadata": {
        "colab": {
          "base_uri": "https://localhost:8080/",
          "height": 221
        },
        "id": "bD24rx7dQ6wb",
        "outputId": "ce676364-1f0a-4e19-8fd9-8713655182fa"
      },
      "source": [
        "zero_exp = num_data1[num_data1['experience']==0]\n",
        "print(len(zero_exp))\n",
        "zero_exp.head()"
      ],
      "execution_count": null,
      "outputs": [
        {
          "output_type": "stream",
          "text": [
            "11043\n"
          ],
          "name": "stdout"
        },
        {
          "output_type": "execute_result",
          "data": {
            "text/html": [
              "<div>\n",
              "<style scoped>\n",
              "    .dataframe tbody tr th:only-of-type {\n",
              "        vertical-align: middle;\n",
              "    }\n",
              "\n",
              "    .dataframe tbody tr th {\n",
              "        vertical-align: top;\n",
              "    }\n",
              "\n",
              "    .dataframe thead th {\n",
              "        text-align: right;\n",
              "    }\n",
              "</style>\n",
              "<table border=\"1\" class=\"dataframe\">\n",
              "  <thead>\n",
              "    <tr style=\"text-align: right;\">\n",
              "      <th></th>\n",
              "      <th>income</th>\n",
              "      <th>age</th>\n",
              "      <th>experience</th>\n",
              "      <th>current_job_years</th>\n",
              "      <th>current_house_years</th>\n",
              "    </tr>\n",
              "  </thead>\n",
              "  <tbody>\n",
              "    <tr>\n",
              "      <th>117955</th>\n",
              "      <td>6460018</td>\n",
              "      <td>75</td>\n",
              "      <td>0</td>\n",
              "      <td>0</td>\n",
              "      <td>14</td>\n",
              "    </tr>\n",
              "    <tr>\n",
              "      <th>68126</th>\n",
              "      <td>4386483</td>\n",
              "      <td>37</td>\n",
              "      <td>0</td>\n",
              "      <td>0</td>\n",
              "      <td>11</td>\n",
              "    </tr>\n",
              "    <tr>\n",
              "      <th>100391</th>\n",
              "      <td>8683216</td>\n",
              "      <td>21</td>\n",
              "      <td>0</td>\n",
              "      <td>0</td>\n",
              "      <td>12</td>\n",
              "    </tr>\n",
              "    <tr>\n",
              "      <th>18717</th>\n",
              "      <td>5574828</td>\n",
              "      <td>74</td>\n",
              "      <td>0</td>\n",
              "      <td>0</td>\n",
              "      <td>10</td>\n",
              "    </tr>\n",
              "    <tr>\n",
              "      <th>140561</th>\n",
              "      <td>2433481</td>\n",
              "      <td>48</td>\n",
              "      <td>0</td>\n",
              "      <td>0</td>\n",
              "      <td>14</td>\n",
              "    </tr>\n",
              "  </tbody>\n",
              "</table>\n",
              "</div>"
            ],
            "text/plain": [
              "         income  age  experience  current_job_years  current_house_years\n",
              "117955  6460018   75           0                  0                   14\n",
              "68126   4386483   37           0                  0                   11\n",
              "100391  8683216   21           0                  0                   12\n",
              "18717   5574828   74           0                  0                   10\n",
              "140561  2433481   48           0                  0                   14"
            ]
          },
          "metadata": {
            "tags": []
          },
          "execution_count": 53
        }
      ]
    },
    {
      "cell_type": "code",
      "metadata": {
        "colab": {
          "base_uri": "https://localhost:8080/"
        },
        "id": "6nN6VzK5RXU2",
        "outputId": "97f96e78-476b-4a0c-dfcb-bc2684f5ecb2"
      },
      "source": [
        "len(zero_exp[zero_exp['age']>40])"
      ],
      "execution_count": null,
      "outputs": [
        {
          "output_type": "execute_result",
          "data": {
            "text/plain": [
              "7298"
            ]
          },
          "metadata": {
            "tags": []
          },
          "execution_count": 54
        }
      ]
    },
    {
      "cell_type": "code",
      "metadata": {
        "colab": {
          "base_uri": "https://localhost:8080/"
        },
        "id": "d33D8-4DRaqd",
        "outputId": "061f29c2-1bdb-4426-881e-4d3eb447a9b9"
      },
      "source": [
        "len(zero_exp[zero_exp['current_job_years']==0])"
      ],
      "execution_count": null,
      "outputs": [
        {
          "output_type": "execute_result",
          "data": {
            "text/plain": [
              "11043"
            ]
          },
          "metadata": {
            "tags": []
          },
          "execution_count": 55
        }
      ]
    },
    {
      "cell_type": "code",
      "metadata": {
        "colab": {
          "base_uri": "https://localhost:8080/"
        },
        "id": "6vMnvpgyRdmX",
        "outputId": "fc5927b5-314d-437b-c52d-f3d5a4dfc25f"
      },
      "source": [
        "len(num_data1[num_data1['current_job_years']==0])"
      ],
      "execution_count": null,
      "outputs": [
        {
          "output_type": "execute_result",
          "data": {
            "text/plain": [
              "11043"
            ]
          },
          "metadata": {
            "tags": []
          },
          "execution_count": 56
        }
      ]
    },
    {
      "cell_type": "code",
      "metadata": {
        "colab": {
          "base_uri": "https://localhost:8080/"
        },
        "id": "0ruzGyaiRgzC",
        "outputId": "21b4c4bd-f1d8-4e16-a8d8-7aea4aaacce1"
      },
      "source": [
        "len(num_data1[num_data1['current_house_years']==0])"
      ],
      "execution_count": null,
      "outputs": [
        {
          "output_type": "execute_result",
          "data": {
            "text/plain": [
              "0"
            ]
          },
          "metadata": {
            "tags": []
          },
          "execution_count": 57
        }
      ]
    },
    {
      "cell_type": "code",
      "metadata": {
        "colab": {
          "base_uri": "https://localhost:8080/"
        },
        "id": "Jvm09S6HRjxu",
        "outputId": "ec339a64-d8f2-4e02-d107-a34434a8bcd6"
      },
      "source": [
        "#Test Data\n",
        "len(num_data1_test[num_data1_test['experience']==0])"
      ],
      "execution_count": null,
      "outputs": [
        {
          "output_type": "execute_result",
          "data": {
            "text/plain": [
              "1249"
            ]
          },
          "metadata": {
            "tags": []
          },
          "execution_count": 58
        }
      ]
    },
    {
      "cell_type": "markdown",
      "metadata": {
        "id": "hMtwbKDoRrvE"
      },
      "source": [
        "**Filling the values**"
      ]
    },
    {
      "cell_type": "code",
      "metadata": {
        "id": "ULJDsmJhRnRM"
      },
      "source": [
        "#Replacing the zero with null values \n",
        "num_data1[['experience','current_job_years']] = num_data1[['experience','current_job_years']].replace(0, np.nan)\n",
        "\n",
        "#Filling the null values with mean grouped by age\n",
        "num_data1[\"experience\"] = num_data1[['experience', 'age']].groupby(\"age\").transform(lambda x: x.fillna(np.round(x.mean())))\n",
        "num_data1[\"current_job_years\"] = num_data1[['current_job_years', 'age']].groupby(\"age\").transform(lambda x: x.fillna(np.round(x.mean())))"
      ],
      "execution_count": null,
      "outputs": []
    },
    {
      "cell_type": "code",
      "metadata": {
        "colab": {
          "base_uri": "https://localhost:8080/",
          "height": 204
        },
        "id": "QdeDLsH1Rycp",
        "outputId": "da7834ce-2a45-4468-fae8-c1d72ec4bb9d"
      },
      "source": [
        "#Replacing the zero with null values \n",
        "num_data1_test[['experience','current_job_years']] = num_data1_test[['experience','current_job_years']].replace(0, np.nan)\n",
        "\n",
        "#Filling the null values with mean grouped by age\n",
        "num_data1_test[\"experience\"] = num_data1_test[['experience', 'age']].groupby(\"age\").transform(lambda x: x.fillna(np.round(x.mean())))\n",
        "num_data1_test[\"current_job_years\"] = num_data1_test[['current_job_years', 'age']].groupby(\"age\").transform(lambda x: x.fillna(np.round(x.mean())))\n",
        "\n",
        "num_data1.head()"
      ],
      "execution_count": null,
      "outputs": [
        {
          "output_type": "execute_result",
          "data": {
            "text/html": [
              "<div>\n",
              "<style scoped>\n",
              "    .dataframe tbody tr th:only-of-type {\n",
              "        vertical-align: middle;\n",
              "    }\n",
              "\n",
              "    .dataframe tbody tr th {\n",
              "        vertical-align: top;\n",
              "    }\n",
              "\n",
              "    .dataframe thead th {\n",
              "        text-align: right;\n",
              "    }\n",
              "</style>\n",
              "<table border=\"1\" class=\"dataframe\">\n",
              "  <thead>\n",
              "    <tr style=\"text-align: right;\">\n",
              "      <th></th>\n",
              "      <th>income</th>\n",
              "      <th>age</th>\n",
              "      <th>experience</th>\n",
              "      <th>current_job_years</th>\n",
              "      <th>current_house_years</th>\n",
              "    </tr>\n",
              "  </thead>\n",
              "  <tbody>\n",
              "    <tr>\n",
              "      <th>117955</th>\n",
              "      <td>6460018</td>\n",
              "      <td>75</td>\n",
              "      <td>11.0</td>\n",
              "      <td>7.0</td>\n",
              "      <td>14</td>\n",
              "    </tr>\n",
              "    <tr>\n",
              "      <th>89977</th>\n",
              "      <td>7134812</td>\n",
              "      <td>72</td>\n",
              "      <td>16.0</td>\n",
              "      <td>4.0</td>\n",
              "      <td>14</td>\n",
              "    </tr>\n",
              "    <tr>\n",
              "      <th>86851</th>\n",
              "      <td>8918340</td>\n",
              "      <td>28</td>\n",
              "      <td>13.0</td>\n",
              "      <td>10.0</td>\n",
              "      <td>14</td>\n",
              "    </tr>\n",
              "    <tr>\n",
              "      <th>225217</th>\n",
              "      <td>2499535</td>\n",
              "      <td>29</td>\n",
              "      <td>17.0</td>\n",
              "      <td>9.0</td>\n",
              "      <td>12</td>\n",
              "    </tr>\n",
              "    <tr>\n",
              "      <th>186118</th>\n",
              "      <td>270761</td>\n",
              "      <td>48</td>\n",
              "      <td>1.0</td>\n",
              "      <td>1.0</td>\n",
              "      <td>11</td>\n",
              "    </tr>\n",
              "  </tbody>\n",
              "</table>\n",
              "</div>"
            ],
            "text/plain": [
              "         income  age  experience  current_job_years  current_house_years\n",
              "117955  6460018   75        11.0                7.0                   14\n",
              "89977   7134812   72        16.0                4.0                   14\n",
              "86851   8918340   28        13.0               10.0                   14\n",
              "225217  2499535   29        17.0                9.0                   12\n",
              "186118   270761   48         1.0                1.0                   11"
            ]
          },
          "metadata": {
            "tags": []
          },
          "execution_count": 60
        }
      ]
    },
    {
      "cell_type": "markdown",
      "metadata": {
        "id": "9OX5JV4FR8Q6"
      },
      "source": [
        "## Further Feature Engineering"
      ]
    },
    {
      "cell_type": "code",
      "metadata": {
        "colab": {
          "base_uri": "https://localhost:8080/",
          "height": 204
        },
        "id": "V9SG75oqSBny",
        "outputId": "b7dbf5b4-d9a2-4a39-9c74-fdb6c72929db"
      },
      "source": [
        "num_data1['inc_by_age'] = num_data1['income'] / num_data1['age']\n",
        "num_data1['inc_by_exp'] = num_data1['income'] / num_data1['experience']\n",
        "num_data1['age_by_exp'] = num_data1['age'] / num_data1['experience']\n",
        "num_data1['age_minus_exp'] = num_data1['age'] - num_data1['experience']\n",
        "num_data1['chy_minus_exp'] = num_data1['current_house_years'] - num_data1['experience']\n",
        "num_data1['exp_minus_cjy'] = num_data1['experience'] - num_data1['current_job_years']\n",
        "\n",
        "num_data1.head()"
      ],
      "execution_count": null,
      "outputs": [
        {
          "output_type": "execute_result",
          "data": {
            "text/html": [
              "<div>\n",
              "<style scoped>\n",
              "    .dataframe tbody tr th:only-of-type {\n",
              "        vertical-align: middle;\n",
              "    }\n",
              "\n",
              "    .dataframe tbody tr th {\n",
              "        vertical-align: top;\n",
              "    }\n",
              "\n",
              "    .dataframe thead th {\n",
              "        text-align: right;\n",
              "    }\n",
              "</style>\n",
              "<table border=\"1\" class=\"dataframe\">\n",
              "  <thead>\n",
              "    <tr style=\"text-align: right;\">\n",
              "      <th></th>\n",
              "      <th>income</th>\n",
              "      <th>age</th>\n",
              "      <th>experience</th>\n",
              "      <th>current_job_years</th>\n",
              "      <th>current_house_years</th>\n",
              "      <th>inc_by_age</th>\n",
              "      <th>inc_by_exp</th>\n",
              "      <th>age_by_exp</th>\n",
              "      <th>age_minus_exp</th>\n",
              "      <th>chy_minus_exp</th>\n",
              "      <th>exp_minus_cjy</th>\n",
              "    </tr>\n",
              "  </thead>\n",
              "  <tbody>\n",
              "    <tr>\n",
              "      <th>117955</th>\n",
              "      <td>6460018</td>\n",
              "      <td>75</td>\n",
              "      <td>11.0</td>\n",
              "      <td>7.0</td>\n",
              "      <td>14</td>\n",
              "      <td>86133.573333</td>\n",
              "      <td>587274.363636</td>\n",
              "      <td>6.818182</td>\n",
              "      <td>64.0</td>\n",
              "      <td>3.0</td>\n",
              "      <td>4.0</td>\n",
              "    </tr>\n",
              "    <tr>\n",
              "      <th>89977</th>\n",
              "      <td>7134812</td>\n",
              "      <td>72</td>\n",
              "      <td>16.0</td>\n",
              "      <td>4.0</td>\n",
              "      <td>14</td>\n",
              "      <td>99094.611111</td>\n",
              "      <td>445925.750000</td>\n",
              "      <td>4.500000</td>\n",
              "      <td>56.0</td>\n",
              "      <td>-2.0</td>\n",
              "      <td>12.0</td>\n",
              "    </tr>\n",
              "    <tr>\n",
              "      <th>86851</th>\n",
              "      <td>8918340</td>\n",
              "      <td>28</td>\n",
              "      <td>13.0</td>\n",
              "      <td>10.0</td>\n",
              "      <td>14</td>\n",
              "      <td>318512.142857</td>\n",
              "      <td>686026.153846</td>\n",
              "      <td>2.153846</td>\n",
              "      <td>15.0</td>\n",
              "      <td>1.0</td>\n",
              "      <td>3.0</td>\n",
              "    </tr>\n",
              "    <tr>\n",
              "      <th>225217</th>\n",
              "      <td>2499535</td>\n",
              "      <td>29</td>\n",
              "      <td>17.0</td>\n",
              "      <td>9.0</td>\n",
              "      <td>12</td>\n",
              "      <td>86190.862069</td>\n",
              "      <td>147031.470588</td>\n",
              "      <td>1.705882</td>\n",
              "      <td>12.0</td>\n",
              "      <td>-5.0</td>\n",
              "      <td>8.0</td>\n",
              "    </tr>\n",
              "    <tr>\n",
              "      <th>186118</th>\n",
              "      <td>270761</td>\n",
              "      <td>48</td>\n",
              "      <td>1.0</td>\n",
              "      <td>1.0</td>\n",
              "      <td>11</td>\n",
              "      <td>5640.854167</td>\n",
              "      <td>270761.000000</td>\n",
              "      <td>48.000000</td>\n",
              "      <td>47.0</td>\n",
              "      <td>10.0</td>\n",
              "      <td>0.0</td>\n",
              "    </tr>\n",
              "  </tbody>\n",
              "</table>\n",
              "</div>"
            ],
            "text/plain": [
              "         income  age  experience  ...  age_minus_exp  chy_minus_exp  exp_minus_cjy\n",
              "117955  6460018   75        11.0  ...           64.0            3.0            4.0\n",
              "89977   7134812   72        16.0  ...           56.0           -2.0           12.0\n",
              "86851   8918340   28        13.0  ...           15.0            1.0            3.0\n",
              "225217  2499535   29        17.0  ...           12.0           -5.0            8.0\n",
              "186118   270761   48         1.0  ...           47.0           10.0            0.0\n",
              "\n",
              "[5 rows x 11 columns]"
            ]
          },
          "metadata": {
            "tags": []
          },
          "execution_count": 61
        }
      ]
    },
    {
      "cell_type": "code",
      "metadata": {
        "colab": {
          "base_uri": "https://localhost:8080/",
          "height": 204
        },
        "id": "Lc4f7iZUSE4o",
        "outputId": "5a4f7790-cebb-4ced-9a5f-d91d4c03f8b7"
      },
      "source": [
        "num_data1_test['inc_by_age'] = num_data1_test['income'] / num_data1_test['age']\n",
        "num_data1_test['inc_by_exp'] = num_data1_test['income'] / num_data1_test['experience']\n",
        "num_data1_test['age_by_exp'] = num_data1_test['age'] / num_data1_test['experience']\n",
        "num_data1_test['age_minus_exp'] = num_data1_test['age'] - num_data1_test['experience']\n",
        "num_data1_test['chy_minus_exp'] = num_data1_test['current_house_years'] - num_data1_test['experience']\n",
        "num_data1_test['exp_minus_cjy'] = num_data1_test['experience'] - num_data1_test['current_job_years']\n",
        "\n",
        "num_data1_test.head()"
      ],
      "execution_count": null,
      "outputs": [
        {
          "output_type": "execute_result",
          "data": {
            "text/html": [
              "<div>\n",
              "<style scoped>\n",
              "    .dataframe tbody tr th:only-of-type {\n",
              "        vertical-align: middle;\n",
              "    }\n",
              "\n",
              "    .dataframe tbody tr th {\n",
              "        vertical-align: top;\n",
              "    }\n",
              "\n",
              "    .dataframe thead th {\n",
              "        text-align: right;\n",
              "    }\n",
              "</style>\n",
              "<table border=\"1\" class=\"dataframe\">\n",
              "  <thead>\n",
              "    <tr style=\"text-align: right;\">\n",
              "      <th></th>\n",
              "      <th>income</th>\n",
              "      <th>age</th>\n",
              "      <th>experience</th>\n",
              "      <th>current_job_years</th>\n",
              "      <th>current_house_years</th>\n",
              "      <th>inc_by_age</th>\n",
              "      <th>inc_by_exp</th>\n",
              "      <th>age_by_exp</th>\n",
              "      <th>age_minus_exp</th>\n",
              "      <th>chy_minus_exp</th>\n",
              "      <th>exp_minus_cjy</th>\n",
              "    </tr>\n",
              "  </thead>\n",
              "  <tbody>\n",
              "    <tr>\n",
              "      <th>0</th>\n",
              "      <td>7393090</td>\n",
              "      <td>59</td>\n",
              "      <td>19.0</td>\n",
              "      <td>4.0</td>\n",
              "      <td>13</td>\n",
              "      <td>125306.610169</td>\n",
              "      <td>389110.000000</td>\n",
              "      <td>3.105263</td>\n",
              "      <td>40.0</td>\n",
              "      <td>-6.0</td>\n",
              "      <td>15.0</td>\n",
              "    </tr>\n",
              "    <tr>\n",
              "      <th>1</th>\n",
              "      <td>1215004</td>\n",
              "      <td>25</td>\n",
              "      <td>5.0</td>\n",
              "      <td>5.0</td>\n",
              "      <td>10</td>\n",
              "      <td>48600.160000</td>\n",
              "      <td>243000.800000</td>\n",
              "      <td>5.000000</td>\n",
              "      <td>20.0</td>\n",
              "      <td>5.0</td>\n",
              "      <td>0.0</td>\n",
              "    </tr>\n",
              "    <tr>\n",
              "      <th>2</th>\n",
              "      <td>8901342</td>\n",
              "      <td>50</td>\n",
              "      <td>12.0</td>\n",
              "      <td>9.0</td>\n",
              "      <td>14</td>\n",
              "      <td>178026.840000</td>\n",
              "      <td>741778.500000</td>\n",
              "      <td>4.166667</td>\n",
              "      <td>38.0</td>\n",
              "      <td>2.0</td>\n",
              "      <td>3.0</td>\n",
              "    </tr>\n",
              "    <tr>\n",
              "      <th>3</th>\n",
              "      <td>1944421</td>\n",
              "      <td>49</td>\n",
              "      <td>9.0</td>\n",
              "      <td>3.0</td>\n",
              "      <td>12</td>\n",
              "      <td>39682.061224</td>\n",
              "      <td>216046.777778</td>\n",
              "      <td>5.444444</td>\n",
              "      <td>40.0</td>\n",
              "      <td>3.0</td>\n",
              "      <td>6.0</td>\n",
              "    </tr>\n",
              "    <tr>\n",
              "      <th>4</th>\n",
              "      <td>13429</td>\n",
              "      <td>25</td>\n",
              "      <td>18.0</td>\n",
              "      <td>13.0</td>\n",
              "      <td>11</td>\n",
              "      <td>537.160000</td>\n",
              "      <td>746.055556</td>\n",
              "      <td>1.388889</td>\n",
              "      <td>7.0</td>\n",
              "      <td>-7.0</td>\n",
              "      <td>5.0</td>\n",
              "    </tr>\n",
              "  </tbody>\n",
              "</table>\n",
              "</div>"
            ],
            "text/plain": [
              "    income  age  experience  ...  age_minus_exp  chy_minus_exp  exp_minus_cjy\n",
              "0  7393090   59        19.0  ...           40.0           -6.0           15.0\n",
              "1  1215004   25         5.0  ...           20.0            5.0            0.0\n",
              "2  8901342   50        12.0  ...           38.0            2.0            3.0\n",
              "3  1944421   49         9.0  ...           40.0            3.0            6.0\n",
              "4    13429   25        18.0  ...            7.0           -7.0            5.0\n",
              "\n",
              "[5 rows x 11 columns]"
            ]
          },
          "metadata": {
            "tags": []
          },
          "execution_count": 62
        }
      ]
    },
    {
      "cell_type": "markdown",
      "metadata": {
        "id": "vPS5e32vSMmx"
      },
      "source": [
        "**Group by age to see if there is any pattern in risk_flag wrt age**"
      ]
    },
    {
      "cell_type": "code",
      "metadata": {
        "colab": {
          "base_uri": "https://localhost:8080/",
          "height": 1000
        },
        "id": "wk3K-9bnSaAi",
        "outputId": "a8d92786-0eb5-4b0d-f35d-85989e072bdf"
      },
      "source": [
        "num_data1['risk_flag'] = train_data['risk_flag']\n",
        "grouped_df = num_data1.groupby('age')\n",
        "risk_age = grouped_df['risk_flag'].aggregate([np.mean,'count']).reset_index()\n",
        "print(risk_age)\n",
        "risk_age.columns =['age','risk_flag','count']\n",
        "sns.regplot(x='age',y='risk_flag',data=risk_age)\n",
        "plt.show()"
      ],
      "execution_count": null,
      "outputs": [
        {
          "output_type": "stream",
          "text": [
            "    age      mean  count\n",
            "0    21  0.142212   4205\n",
            "1    22  0.173815   4430\n",
            "2    23  0.124017   4322\n",
            "3    24  0.145862   4326\n",
            "4    25  0.128549   4543\n",
            "5    26  0.173003   4156\n",
            "6    27  0.138541   5197\n",
            "7    28  0.154319   3901\n",
            "8    29  0.138477   4109\n",
            "9    30  0.131826   4468\n",
            "10   31  0.124736   4257\n",
            "11   32  0.129890   3834\n",
            "12   33  0.146109   4921\n",
            "13   34  0.080199   4414\n",
            "14   35  0.110465   4644\n",
            "15   36  0.131862   3443\n",
            "16   37  0.126655   4153\n",
            "17   38  0.129185   3793\n",
            "18   39  0.109737   3800\n",
            "19   40  0.087408   4233\n",
            "20   41  0.118086   4827\n",
            "21   42  0.125544   4134\n",
            "22   43  0.103661   4206\n",
            "23   44  0.107123   3622\n",
            "24   45  0.122555   4806\n",
            "25   46  0.149711   3627\n",
            "26   47  0.137408   4483\n",
            "27   48  0.116368   4967\n",
            "28   49  0.105401   4203\n",
            "29   50  0.118945   4624\n",
            "30   51  0.113335   3397\n",
            "31   52  0.115734   3197\n",
            "32   53  0.111581   4490\n",
            "33   54  0.137931   4785\n",
            "34   55  0.127548   4563\n",
            "35   56  0.118554   4344\n",
            "36   57  0.120847   4394\n",
            "37   58  0.105998   4368\n",
            "38   59  0.131392   4498\n",
            "39   60  0.118117   4504\n",
            "40   61  0.132940   4235\n",
            "41   62  0.107632   4311\n",
            "42   63  0.129630   3942\n",
            "43   64  0.090513   4132\n",
            "44   65  0.129000   3969\n",
            "45   66  0.144737   5092\n",
            "46   67  0.101877   3995\n",
            "47   68  0.094510   4772\n",
            "48   69  0.107646   4617\n",
            "49   70  0.113150   4251\n",
            "50   71  0.110388   4149\n",
            "51   72  0.125717   4534\n",
            "52   73  0.116839   3569\n",
            "53   74  0.108498   3954\n",
            "54   75  0.103160   3829\n",
            "55   76  0.145256   4585\n",
            "56   77  0.117211   3916\n",
            "57   78  0.121212   4455\n",
            "58   79  0.113873   4505\n"
          ],
          "name": "stdout"
        },
        {
          "output_type": "display_data",
          "data": {
            "image/png": "[encoded data removed]",
            "text/plain": [
              "<Figure size 432x288 with 1 Axes>"
            ]
          },
          "metadata": {
            "tags": []
          }
        }
      ]
    },
    {
      "cell_type": "markdown",
      "metadata": {
        "id": "RJDapq13SibR"
      },
      "source": [
        "## Concatenation into X_train and X_test"
      ]
    },
    {
      "cell_type": "code",
      "metadata": {
        "colab": {
          "base_uri": "https://localhost:8080/",
          "height": 258
        },
        "id": "Yowy9OOOSoUv",
        "outputId": "08d1b3e3-3447-4ff2-fa30-06148897d2e0"
      },
      "source": [
        "X_train = pd.concat([num_data1, \n",
        "                     cat_data1,\n",
        "                     married_ohe, \n",
        "                     house_ohe, \n",
        "                     car_ohe], axis=1)\n",
        "X_train = X_train.drop(['risk_flag'], axis=1)\n",
        "y_train = train_data['risk_flag']\n",
        "\n",
        "print(X_train.shape)\n",
        "print(y_train.shape)\n",
        "X_train.head()"
      ],
      "execution_count": null,
      "outputs": [
        {
          "output_type": "stream",
          "text": [
            "(252000, 24)\n",
            "(252000,)\n"
          ],
          "name": "stdout"
        },
        {
          "output_type": "execute_result",
          "data": {
            "text/html": [
              "<div>\n",
              "<style scoped>\n",
              "    .dataframe tbody tr th:only-of-type {\n",
              "        vertical-align: middle;\n",
              "    }\n",
              "\n",
              "    .dataframe tbody tr th {\n",
              "        vertical-align: top;\n",
              "    }\n",
              "\n",
              "    .dataframe thead th {\n",
              "        text-align: right;\n",
              "    }\n",
              "</style>\n",
              "<table border=\"1\" class=\"dataframe\">\n",
              "  <thead>\n",
              "    <tr style=\"text-align: right;\">\n",
              "      <th></th>\n",
              "      <th>income</th>\n",
              "      <th>age</th>\n",
              "      <th>experience</th>\n",
              "      <th>current_job_years</th>\n",
              "      <th>current_house_years</th>\n",
              "      <th>inc_by_age</th>\n",
              "      <th>inc_by_exp</th>\n",
              "      <th>age_by_exp</th>\n",
              "      <th>age_minus_exp</th>\n",
              "      <th>chy_minus_exp</th>\n",
              "      <th>exp_minus_cjy</th>\n",
              "      <th>response_state</th>\n",
              "      <th>response_city</th>\n",
              "      <th>response_prof</th>\n",
              "      <th>prof_cat</th>\n",
              "      <th>DL_Embeddings</th>\n",
              "      <th>DL_Embeddings_log</th>\n",
              "      <th>married</th>\n",
              "      <th>single</th>\n",
              "      <th>house_norent_noown</th>\n",
              "      <th>house_owned</th>\n",
              "      <th>house_rented</th>\n",
              "      <th>car_no</th>\n",
              "      <th>car_yes</th>\n",
              "    </tr>\n",
              "  </thead>\n",
              "  <tbody>\n",
              "    <tr>\n",
              "      <th>117955</th>\n",
              "      <td>6460018</td>\n",
              "      <td>75</td>\n",
              "      <td>11.0</td>\n",
              "      <td>7.0</td>\n",
              "      <td>14</td>\n",
              "      <td>86133.573333</td>\n",
              "      <td>587274.363636</td>\n",
              "      <td>6.818182</td>\n",
              "      <td>64.0</td>\n",
              "      <td>3.0</td>\n",
              "      <td>4.0</td>\n",
              "      <td>0.167097</td>\n",
              "      <td>0.252862</td>\n",
              "      <td>0.124048</td>\n",
              "      <td>1</td>\n",
              "      <td>0.074658</td>\n",
              "      <td>-2.594838</td>\n",
              "      <td>0</td>\n",
              "      <td>1</td>\n",
              "      <td>0</td>\n",
              "      <td>0</td>\n",
              "      <td>1</td>\n",
              "      <td>1</td>\n",
              "      <td>0</td>\n",
              "    </tr>\n",
              "    <tr>\n",
              "      <th>89977</th>\n",
              "      <td>7134812</td>\n",
              "      <td>72</td>\n",
              "      <td>16.0</td>\n",
              "      <td>4.0</td>\n",
              "      <td>14</td>\n",
              "      <td>99094.611111</td>\n",
              "      <td>445925.750000</td>\n",
              "      <td>4.500000</td>\n",
              "      <td>56.0</td>\n",
              "      <td>-2.0</td>\n",
              "      <td>12.0</td>\n",
              "      <td>0.128135</td>\n",
              "      <td>0.178122</td>\n",
              "      <td>0.115570</td>\n",
              "      <td>0</td>\n",
              "      <td>0.372621</td>\n",
              "      <td>-0.987193</td>\n",
              "      <td>0</td>\n",
              "      <td>1</td>\n",
              "      <td>0</td>\n",
              "      <td>0</td>\n",
              "      <td>1</td>\n",
              "      <td>1</td>\n",
              "      <td>0</td>\n",
              "    </tr>\n",
              "    <tr>\n",
              "      <th>86851</th>\n",
              "      <td>8918340</td>\n",
              "      <td>28</td>\n",
              "      <td>13.0</td>\n",
              "      <td>10.0</td>\n",
              "      <td>14</td>\n",
              "      <td>318512.142857</td>\n",
              "      <td>686026.153846</td>\n",
              "      <td>2.153846</td>\n",
              "      <td>15.0</td>\n",
              "      <td>1.0</td>\n",
              "      <td>3.0</td>\n",
              "      <td>0.113254</td>\n",
              "      <td>0.086370</td>\n",
              "      <td>0.135789</td>\n",
              "      <td>1</td>\n",
              "      <td>0.022688</td>\n",
              "      <td>-3.785937</td>\n",
              "      <td>0</td>\n",
              "      <td>1</td>\n",
              "      <td>0</td>\n",
              "      <td>0</td>\n",
              "      <td>1</td>\n",
              "      <td>1</td>\n",
              "      <td>0</td>\n",
              "    </tr>\n",
              "    <tr>\n",
              "      <th>225217</th>\n",
              "      <td>2499535</td>\n",
              "      <td>29</td>\n",
              "      <td>17.0</td>\n",
              "      <td>9.0</td>\n",
              "      <td>12</td>\n",
              "      <td>86190.862069</td>\n",
              "      <td>147031.470588</td>\n",
              "      <td>1.705882</td>\n",
              "      <td>12.0</td>\n",
              "      <td>-5.0</td>\n",
              "      <td>8.0</td>\n",
              "      <td>0.140833</td>\n",
              "      <td>0.238452</td>\n",
              "      <td>0.135832</td>\n",
              "      <td>1</td>\n",
              "      <td>0.146355</td>\n",
              "      <td>-1.921718</td>\n",
              "      <td>0</td>\n",
              "      <td>1</td>\n",
              "      <td>0</td>\n",
              "      <td>0</td>\n",
              "      <td>1</td>\n",
              "      <td>1</td>\n",
              "      <td>0</td>\n",
              "    </tr>\n",
              "    <tr>\n",
              "      <th>186118</th>\n",
              "      <td>270761</td>\n",
              "      <td>48</td>\n",
              "      <td>1.0</td>\n",
              "      <td>1.0</td>\n",
              "      <td>11</td>\n",
              "      <td>5640.854167</td>\n",
              "      <td>270761.000000</td>\n",
              "      <td>48.000000</td>\n",
              "      <td>47.0</td>\n",
              "      <td>10.0</td>\n",
              "      <td>0.0</td>\n",
              "      <td>0.140833</td>\n",
              "      <td>0.138721</td>\n",
              "      <td>0.115385</td>\n",
              "      <td>0</td>\n",
              "      <td>0.296553</td>\n",
              "      <td>-1.215529</td>\n",
              "      <td>0</td>\n",
              "      <td>1</td>\n",
              "      <td>0</td>\n",
              "      <td>0</td>\n",
              "      <td>1</td>\n",
              "      <td>1</td>\n",
              "      <td>0</td>\n",
              "    </tr>\n",
              "  </tbody>\n",
              "</table>\n",
              "</div>"
            ],
            "text/plain": [
              "         income  age  experience  ...  house_rented  car_no  car_yes\n",
              "117955  6460018   75        11.0  ...             1       1        0\n",
              "89977   7134812   72        16.0  ...             1       1        0\n",
              "86851   8918340   28        13.0  ...             1       1        0\n",
              "225217  2499535   29        17.0  ...             1       1        0\n",
              "186118   270761   48         1.0  ...             1       1        0\n",
              "\n",
              "[5 rows x 24 columns]"
            ]
          },
          "metadata": {
            "tags": []
          },
          "execution_count": 64
        }
      ]
    },
    {
      "cell_type": "code",
      "metadata": {
        "colab": {
          "base_uri": "https://localhost:8080/",
          "height": 241
        },
        "id": "FjJUoE2DSu8H",
        "outputId": "ac821297-1fc1-41b6-8c4d-d96bd5690723"
      },
      "source": [
        "X_test = pd.concat([num_data1_test, \n",
        "                    cat_data1_test,\n",
        "                    married_ohe_test, \n",
        "                    house_ohe_test, \n",
        "                    car_ohe_test], axis=1)\n",
        "\n",
        "print(X_test.shape)\n",
        "X_test.head()"
      ],
      "execution_count": null,
      "outputs": [
        {
          "output_type": "stream",
          "text": [
            "(28000, 24)\n"
          ],
          "name": "stdout"
        },
        {
          "output_type": "execute_result",
          "data": {
            "text/html": [
              "<div>\n",
              "<style scoped>\n",
              "    .dataframe tbody tr th:only-of-type {\n",
              "        vertical-align: middle;\n",
              "    }\n",
              "\n",
              "    .dataframe tbody tr th {\n",
              "        vertical-align: top;\n",
              "    }\n",
              "\n",
              "    .dataframe thead th {\n",
              "        text-align: right;\n",
              "    }\n",
              "</style>\n",
              "<table border=\"1\" class=\"dataframe\">\n",
              "  <thead>\n",
              "    <tr style=\"text-align: right;\">\n",
              "      <th></th>\n",
              "      <th>income</th>\n",
              "      <th>age</th>\n",
              "      <th>experience</th>\n",
              "      <th>current_job_years</th>\n",
              "      <th>current_house_years</th>\n",
              "      <th>inc_by_age</th>\n",
              "      <th>inc_by_exp</th>\n",
              "      <th>age_by_exp</th>\n",
              "      <th>age_minus_exp</th>\n",
              "      <th>chy_minus_exp</th>\n",
              "      <th>exp_minus_cjy</th>\n",
              "      <th>response_state</th>\n",
              "      <th>response_city</th>\n",
              "      <th>response_prof</th>\n",
              "      <th>prof_cat</th>\n",
              "      <th>DL_Embeddings</th>\n",
              "      <th>DL_Embeddings_log</th>\n",
              "      <th>married</th>\n",
              "      <th>single</th>\n",
              "      <th>house_norent_noown</th>\n",
              "      <th>house_owned</th>\n",
              "      <th>house_rented</th>\n",
              "      <th>car_no</th>\n",
              "      <th>car_yes</th>\n",
              "    </tr>\n",
              "  </thead>\n",
              "  <tbody>\n",
              "    <tr>\n",
              "      <th>0</th>\n",
              "      <td>7393090</td>\n",
              "      <td>59</td>\n",
              "      <td>19.0</td>\n",
              "      <td>4.0</td>\n",
              "      <td>13</td>\n",
              "      <td>125306.610169</td>\n",
              "      <td>389110.000000</td>\n",
              "      <td>3.105263</td>\n",
              "      <td>40.0</td>\n",
              "      <td>-6.0</td>\n",
              "      <td>15.0</td>\n",
              "      <td>0.128135</td>\n",
              "      <td>0.112277</td>\n",
              "      <td>0.144264</td>\n",
              "      <td>1</td>\n",
              "      <td>0.012509</td>\n",
              "      <td>-4.381308</td>\n",
              "      <td>0</td>\n",
              "      <td>1</td>\n",
              "      <td>0</td>\n",
              "      <td>0</td>\n",
              "      <td>1</td>\n",
              "      <td>1</td>\n",
              "      <td>0</td>\n",
              "    </tr>\n",
              "    <tr>\n",
              "      <th>1</th>\n",
              "      <td>1215004</td>\n",
              "      <td>25</td>\n",
              "      <td>5.0</td>\n",
              "      <td>5.0</td>\n",
              "      <td>10</td>\n",
              "      <td>48600.160000</td>\n",
              "      <td>243000.800000</td>\n",
              "      <td>5.000000</td>\n",
              "      <td>20.0</td>\n",
              "      <td>5.0</td>\n",
              "      <td>0.0</td>\n",
              "      <td>0.113254</td>\n",
              "      <td>0.108449</td>\n",
              "      <td>0.135789</td>\n",
              "      <td>1</td>\n",
              "      <td>0.294946</td>\n",
              "      <td>-1.220964</td>\n",
              "      <td>0</td>\n",
              "      <td>1</td>\n",
              "      <td>0</td>\n",
              "      <td>0</td>\n",
              "      <td>1</td>\n",
              "      <td>1</td>\n",
              "      <td>0</td>\n",
              "    </tr>\n",
              "    <tr>\n",
              "      <th>2</th>\n",
              "      <td>8901342</td>\n",
              "      <td>50</td>\n",
              "      <td>12.0</td>\n",
              "      <td>9.0</td>\n",
              "      <td>14</td>\n",
              "      <td>178026.840000</td>\n",
              "      <td>741778.500000</td>\n",
              "      <td>4.166667</td>\n",
              "      <td>38.0</td>\n",
              "      <td>2.0</td>\n",
              "      <td>3.0</td>\n",
              "      <td>0.113254</td>\n",
              "      <td>0.072746</td>\n",
              "      <td>0.129514</td>\n",
              "      <td>1</td>\n",
              "      <td>0.158755</td>\n",
              "      <td>-1.840392</td>\n",
              "      <td>0</td>\n",
              "      <td>1</td>\n",
              "      <td>0</td>\n",
              "      <td>0</td>\n",
              "      <td>1</td>\n",
              "      <td>1</td>\n",
              "      <td>0</td>\n",
              "    </tr>\n",
              "    <tr>\n",
              "      <th>3</th>\n",
              "      <td>1944421</td>\n",
              "      <td>49</td>\n",
              "      <td>9.0</td>\n",
              "      <td>3.0</td>\n",
              "      <td>12</td>\n",
              "      <td>39682.061224</td>\n",
              "      <td>216046.777778</td>\n",
              "      <td>5.444444</td>\n",
              "      <td>40.0</td>\n",
              "      <td>3.0</td>\n",
              "      <td>6.0</td>\n",
              "      <td>0.113254</td>\n",
              "      <td>0.039655</td>\n",
              "      <td>0.121465</td>\n",
              "      <td>0</td>\n",
              "      <td>0.041016</td>\n",
              "      <td>-3.193792</td>\n",
              "      <td>1</td>\n",
              "      <td>0</td>\n",
              "      <td>0</td>\n",
              "      <td>0</td>\n",
              "      <td>1</td>\n",
              "      <td>0</td>\n",
              "      <td>1</td>\n",
              "    </tr>\n",
              "    <tr>\n",
              "      <th>4</th>\n",
              "      <td>13429</td>\n",
              "      <td>25</td>\n",
              "      <td>18.0</td>\n",
              "      <td>13.0</td>\n",
              "      <td>11</td>\n",
              "      <td>537.160000</td>\n",
              "      <td>746.055556</td>\n",
              "      <td>1.388889</td>\n",
              "      <td>7.0</td>\n",
              "      <td>-7.0</td>\n",
              "      <td>5.0</td>\n",
              "      <td>0.128135</td>\n",
              "      <td>0.148101</td>\n",
              "      <td>0.119604</td>\n",
              "      <td>0</td>\n",
              "      <td>0.023196</td>\n",
              "      <td>-3.763759</td>\n",
              "      <td>0</td>\n",
              "      <td>1</td>\n",
              "      <td>0</td>\n",
              "      <td>0</td>\n",
              "      <td>1</td>\n",
              "      <td>0</td>\n",
              "      <td>1</td>\n",
              "    </tr>\n",
              "  </tbody>\n",
              "</table>\n",
              "</div>"
            ],
            "text/plain": [
              "    income  age  experience  ...  house_rented  car_no  car_yes\n",
              "0  7393090   59        19.0  ...             1       1        0\n",
              "1  1215004   25         5.0  ...             1       1        0\n",
              "2  8901342   50        12.0  ...             1       1        0\n",
              "3  1944421   49         9.0  ...             1       0        1\n",
              "4    13429   25        18.0  ...             1       0        1\n",
              "\n",
              "[5 rows x 24 columns]"
            ]
          },
          "metadata": {
            "tags": []
          },
          "execution_count": 65
        }
      ]
    },
    {
      "cell_type": "markdown",
      "metadata": {
        "id": "EJ36XKmYSzYK"
      },
      "source": [
        "## Modelling"
      ]
    },
    {
      "cell_type": "code",
      "metadata": {
        "colab": {
          "base_uri": "https://localhost:8080/",
          "height": 17
        },
        "id": "AUHJxcMvSxHK",
        "outputId": "3978d889-490f-486e-bc19-66e1a53e728d"
      },
      "source": [
        "import numpy as np # linear algebra\n",
        "import pandas as pd # data processing, CSV file I/O (e.g. pd.read_csv)\n",
        "import scipy as sp\n",
        "from scipy import stats\n",
        "import matplotlib.pyplot as plt\n",
        "import seaborn as sns\n",
        "\n",
        "# Standard plotly imports\n",
        "#import plotly.plotly as py\n",
        "import plotly.graph_objs as go\n",
        "import plotly.tools as tls\n",
        "from plotly.offline import iplot, init_notebook_mode\n",
        "#import cufflinks\n",
        "#import cufflinks as cf\n",
        "import plotly.figure_factory as ff\n",
        "\n",
        "# Using plotly + cufflinks in offline mode\n",
        "init_notebook_mode(connected=True)\n",
        "#cufflinks.go_offline(connected=True)\n",
        "\n",
        "# Preprocessing, modelling and evaluating\n",
        "from sklearn import preprocessing\n",
        "from sklearn.metrics import confusion_matrix, roc_auc_score\n",
        "from sklearn.model_selection import StratifiedKFold, cross_val_score, KFold\n",
        "from xgboost import XGBClassifier\n",
        "import xgboost as xgb\n",
        "\n",
        "## Hyperopt modules\n",
        "from hyperopt import fmin, hp, tpe, Trials, space_eval, STATUS_OK, STATUS_RUNNING\n",
        "from functools import partial\n",
        "\n",
        "import os\n",
        "import gc\n",
        "\n",
        "import datetime"
      ],
      "execution_count": null,
      "outputs": [
        {
          "output_type": "display_data",
          "data": {
            "text/html": [
              "        <script type=\"text/javascript\">\n",
              "        window.PlotlyConfig = {MathJaxConfig: 'local'};\n",
              "        if (window.MathJax) {MathJax.Hub.Config({SVG: {font: \"STIX-Web\"}});}\n",
              "        if (typeof require !== 'undefined') {\n",
              "        require.undef(\"plotly\");\n",
              "        requirejs.config({\n",
              "            paths: {\n",
              "                'plotly': ['https://cdn.plot.ly/plotly-latest.min']\n",
              "            }\n",
              "        });\n",
              "        require(['plotly'], function(Plotly) {\n",
              "            window._Plotly = Plotly;\n",
              "        });\n",
              "        }\n",
              "        </script>\n",
              "        "
            ]
          },
          "metadata": {
            "tags": []
          }
        }
      ]
    },
    {
      "cell_type": "markdown",
      "metadata": {
        "id": "AKw9vnV8S6Lf"
      },
      "source": [
        "## XGBoost"
      ]
    },
    {
      "cell_type": "markdown",
      "metadata": {
        "id": "_Xrb688hTBQc"
      },
      "source": [
        "**Hyperparameter tuning**"
      ]
    },
    {
      "cell_type": "code",
      "metadata": {
        "id": "SNCiCFAuS_aL"
      },
      "source": [
        "from sklearn.model_selection import KFold,TimeSeriesSplit\n",
        "from sklearn.metrics import roc_auc_score\n",
        "from xgboost import plot_importance\n",
        "from sklearn.metrics import make_scorer"
      ],
      "execution_count": null,
      "outputs": []
    },
    {
      "cell_type": "code",
      "metadata": {
        "id": "KhcAG6LATIx5"
      },
      "source": [
        "import time\n",
        "def objective(params):\n",
        "    time1 = time.time()\n",
        "    params = {\n",
        "        'max_depth': int(params['max_depth']),\n",
        "        'gamma': \"{:.3f}\".format(params['gamma']),\n",
        "        'subsample': \"{:.2f}\".format(params['subsample']),\n",
        "        'reg_alpha': \"{:.3f}\".format(params['reg_alpha']),\n",
        "        'reg_lambda': \"{:.3f}\".format(params['reg_lambda']),\n",
        "        'learning_rate': \"{:.3f}\".format(params['learning_rate']),\n",
        "        'num_leaves': '{:.3f}'.format(params['num_leaves']),\n",
        "        'colsample_bytree': '{:.3f}'.format(params['colsample_bytree']),\n",
        "        'min_child_samples': '{:.3f}'.format(params['min_child_samples']),\n",
        "        'feature_fraction': '{:.3f}'.format(params['feature_fraction']),\n",
        "        'bagging_fraction': '{:.3f}'.format(params['bagging_fraction'])\n",
        "    }\n",
        "\n",
        "    print(\"\\n############## New Run ################\")\n",
        "    print(f\"params = {params}\")\n",
        "    FOLDS = 5\n",
        "    count=1\n",
        "    skf = StratifiedKFold(n_splits=FOLDS, shuffle=True, random_state=42)\n",
        "\n",
        "    tss = TimeSeriesSplit(n_splits=FOLDS)\n",
        "    # y_preds = np.zeros(sample_submission.shape[0])\n",
        "    y_oof = np.zeros(X_train.shape[0])\n",
        "    score_mean = 0\n",
        "    for tr_idx, val_idx in tss.split(X_train, y_train):\n",
        "        clf = xgb.XGBClassifier(\n",
        "            scale_pos_weight = 7.13,  \n",
        "            n_estimators=300, random_state=4, verbose=True, \n",
        "            tree_method='gpu_hist', \n",
        "            **params\n",
        "        )\n",
        "\n",
        "        X_tr, X_vl = X_train.iloc[tr_idx, :], X_train.iloc[val_idx, :]\n",
        "        y_tr, y_vl = y_train.iloc[tr_idx], y_train.iloc[val_idx]\n",
        "        \n",
        "        clf.fit(X_tr, y_tr)\n",
        "        #y_pred_train = clf.predict_proba(X_vl)[:,1]\n",
        "        #print(y_pred_train)\n",
        "        score = make_scorer(roc_auc_score, needs_proba=True)(clf, X_vl, y_vl)\n",
        "        # plt.show()\n",
        "        score_mean += score\n",
        "        print(f'{count} CV - score: {round(score, 4)}')\n",
        "        count += 1\n",
        "    time2 = time.time() - time1\n",
        "    print(f\"Total Time Run: {round(time2 / 60,2)}\")\n",
        "    gc.collect()\n",
        "    print(f'Mean ROC_AUC: {score_mean / FOLDS}')\n",
        "    del X_tr, X_vl, y_tr, y_vl, clf, score\n",
        "    return -(score_mean / FOLDS)\n",
        "\n",
        "\n",
        "space = {\n",
        "    # The maximum depth of a tree, same as GBM.\n",
        "    # Used to control over-fitting as higher depth will allow model \n",
        "    # to learn relations very specific to a particular sample.\n",
        "    # Should be tuned using CV.\n",
        "    # Typical values: 3-10\n",
        "    'max_depth': hp.quniform('max_depth', 7, 23, 1),\n",
        "    \n",
        "    # reg_alpha: L1 regularization term. L1 regularization encourages sparsity \n",
        "    # (meaning pulling weights to 0). It can be more useful when the objective\n",
        "    # is logistic regression since you might need help with feature selection.\n",
        "    'reg_alpha':  hp.uniform('reg_alpha', 0.01, 0.4),\n",
        "    \n",
        "    # reg_lambda: L2 regularization term. L2 encourages smaller weights, this\n",
        "    # approach can be more useful in tree-models where zeroing \n",
        "    # features might not make much sense.\n",
        "    'reg_lambda': hp.uniform('reg_lambda', 0.01, .4),\n",
        "    \n",
        "    # eta: Analogous to learning rate in GBM\n",
        "    # Makes the model more robust by shrinking the weights on each step\n",
        "    # Typical final values to be used: 0.01-0.2\n",
        "    'learning_rate': hp.uniform('learning_rate', 0.01, 0.2),\n",
        "    \n",
        "    # colsample_bytree: Similar to max_features in GBM. Denotes the \n",
        "    # fraction of columns to be randomly samples for each tree.\n",
        "    # Typical values: 0.5-1\n",
        "    'colsample_bytree': hp.uniform('colsample_bytree', 0.3, .9),\n",
        "    \n",
        "    # A node is split only when the resulting split gives a positive\n",
        "    # reduction in the loss function. Gamma specifies the \n",
        "    # minimum loss reduction required to make a split.\n",
        "    # Makes the algorithm conservative. The values can vary depending on the loss function and should be tuned.\n",
        "    'gamma': hp.uniform('gamma', 0.01, .7),\n",
        "    \n",
        "    # more increases accuracy, but may lead to overfitting.\n",
        "    # num_leaves: the number of leaf nodes to use. Having a large number \n",
        "    # of leaves will improve accuracy, but will also lead to overfitting.\n",
        "    'num_leaves': hp.choice('num_leaves', list(range(20, 250, 10))),\n",
        "    \n",
        "    # specifies the minimum samples per leaf node.\n",
        "    # the minimum number of samples (data) to group into a leaf. \n",
        "    # The parameter can greatly assist with overfitting: larger sample\n",
        "    # sizes per leaf will reduce overfitting (but may lead to under-fitting).\n",
        "    'min_child_samples': hp.choice('min_child_samples', list(range(100, 250, 10))),\n",
        "    \n",
        "    # subsample: represents a fraction of the rows (observations) to be \n",
        "    # considered when building each subtree. Tianqi Chen and Carlos Guestrin\n",
        "    # in their paper A Scalable Tree Boosting System recommend \n",
        "    'subsample': hp.choice('subsample', [0.2, 0.4, 0.5, 0.6, 0.7, .8, .9]),\n",
        "    \n",
        "    # randomly select a fraction of the features.\n",
        "    # feature_fraction: controls the subsampling of features used\n",
        "    # for training (as opposed to subsampling the actual training data in \n",
        "    # the case of bagging). Smaller fractions reduce overfitting.\n",
        "    'feature_fraction': hp.uniform('feature_fraction', 0.4, .8),\n",
        "    \n",
        "    # randomly bag or subsample training data.\n",
        "    'bagging_fraction': hp.uniform('bagging_fraction', 0.4, .9)\n",
        "    \n",
        "    # bagging_fraction and bagging_freq: enables bagging (subsampling) \n",
        "    # of the training data. Both values need to be set for bagging to be used.\n",
        "    # The frequency controls how often (iteration) bagging is used. Smaller\n",
        "    # fractions and frequencies reduce overfitting.\n",
        "}"
      ],
      "execution_count": null,
      "outputs": []
    },
    {
      "cell_type": "code",
      "metadata": {
        "colab": {
          "base_uri": "https://localhost:8080/"
        },
        "id": "5re4z01STNl1",
        "outputId": "0bd53b41-a446-450f-a1eb-1884a47b49b6"
      },
      "source": [
        "# Set algoritm parameters\n",
        "best = fmin(fn=objective,\n",
        "            space=space,\n",
        "            algo=tpe.suggest,\n",
        "            max_evals=27)\n",
        "\n",
        "# Print best parameters\n",
        "best_params = space_eval(space, best)\n",
        "                                                    \n",
        "############## New R"
      ],
      "execution_count": null,
      "outputs": [
        {
          "output_type": "stream",
          "text": [
            "\n",
            "############## New Run ################\n",
            "params = {'max_depth': 18, 'gamma': '0.610', 'subsample': '0.20', 'reg_alpha': '0.133', 'reg_lambda': '0.046', 'learning_rate': '0.121', 'num_leaves': '30.000', 'colsample_bytree': '0.556', 'min_child_samples': '230.000', 'feature_fraction': '0.533', 'bagging_fraction': '0.729'}\n",
            "1 CV - score: 0.9036\n",
            "2 CV - score: 0.9159\n",
            "3 CV - score: 0.9254\n",
            "4 CV - score: 0.9282\n",
            "5 CV - score: 0.9331\n",
            "Total Time Run: 1.86\n",
            "Mean ROC_AUC: 0.9212292322747064\n",
            "\n",
            "############## New Run ################\n",
            "params = {'max_depth': 11, 'gamma': '0.119', 'subsample': '0.80', 'reg_alpha': '0.140', 'reg_lambda': '0.266', 'learning_rate': '0.098', 'num_leaves': '60.000', 'colsample_bytree': '0.833', 'min_child_samples': '160.000', 'feature_fraction': '0.710', 'bagging_fraction': '0.639'}\n",
            "1 CV - score: 0.9224\n",
            "2 CV - score: 0.9275\n",
            "3 CV - score: 0.9339\n",
            "4 CV - score: 0.9352\n",
            "5 CV - score: 0.9385\n",
            "Total Time Run: 0.77\n",
            "Mean ROC_AUC: 0.9315028361336786\n",
            "\n",
            "############## New Run ################\n",
            "params = {'max_depth': 18, 'gamma': '0.493', 'subsample': '0.80', 'reg_alpha': '0.364', 'reg_lambda': '0.261', 'learning_rate': '0.189', 'num_leaves': '110.000', 'colsample_bytree': '0.552', 'min_child_samples': '180.000', 'feature_fraction': '0.793', 'bagging_fraction': '0.892'}\n",
            "1 CV - score: 0.9208\n",
            "2 CV - score: 0.9296\n",
            "3 CV - score: 0.9367\n",
            "4 CV - score: 0.9383\n",
            "5 CV - score: 0.9413\n",
            "Total Time Run: 2.01\n",
            "Mean ROC_AUC: 0.9333348805429363\n",
            "\n",
            "############## New Run ################\n",
            "params = {'max_depth': 11, 'gamma': '0.044', 'subsample': '0.40', 'reg_alpha': '0.236', 'reg_lambda': '0.070', 'learning_rate': '0.048', 'num_leaves': '100.000', 'colsample_bytree': '0.874', 'min_child_samples': '110.000', 'feature_fraction': '0.709', 'bagging_fraction': '0.858'}\n",
            "1 CV - score: 0.9206\n",
            "2 CV - score: 0.9251\n",
            "3 CV - score: 0.931\n",
            "4 CV - score: 0.9323\n",
            "5 CV - score: 0.9369\n",
            "Total Time Run: 0.76\n",
            "Mean ROC_AUC: 0.9291823421836772\n",
            "\n",
            "############## New Run ################\n",
            "params = {'max_depth': 8, 'gamma': '0.326', 'subsample': '0.90', 'reg_alpha': '0.162', 'reg_lambda': '0.179', 'learning_rate': '0.104', 'num_leaves': '160.000', 'colsample_bytree': '0.870', 'min_child_samples': '230.000', 'feature_fraction': '0.713', 'bagging_fraction': '0.655'}\n",
            "1 CV - score: 0.9204\n",
            "2 CV - score: 0.9249\n",
            "3 CV - score: 0.9302\n",
            "4 CV - score: 0.931\n",
            "5 CV - score: 0.935\n",
            "Total Time Run: 0.31\n",
            "Mean ROC_AUC: 0.9283004512118535\n",
            "\n",
            "############## New Run ################\n",
            "params = {'max_depth': 7, 'gamma': '0.162', 'subsample': '0.70', 'reg_alpha': '0.132', 'reg_lambda': '0.270', 'learning_rate': '0.131', 'num_leaves': '140.000', 'colsample_bytree': '0.410', 'min_child_samples': '230.000', 'feature_fraction': '0.645', 'bagging_fraction': '0.525'}\n",
            "1 CV - score: 0.9183\n",
            "2 CV - score: 0.9227\n",
            "3 CV - score: 0.929\n",
            "4 CV - score: 0.9289\n",
            "5 CV - score: 0.934\n",
            "Total Time Run: 0.23\n",
            "Mean ROC_AUC: 0.9265910986152118\n",
            "\n",
            "############## New Run ################\n",
            "params = {'max_depth': 14, 'gamma': '0.475', 'subsample': '0.90', 'reg_alpha': '0.217', 'reg_lambda': '0.148', 'learning_rate': '0.182', 'num_leaves': '160.000', 'colsample_bytree': '0.801', 'min_child_samples': '140.000', 'feature_fraction': '0.510', 'bagging_fraction': '0.423'}\n",
            "1 CV - score: 0.922\n",
            "2 CV - score: 0.9292\n",
            "3 CV - score: 0.9351\n",
            "4 CV - score: 0.9365\n",
            "5 CV - score: 0.9395\n",
            "Total Time Run: 1.28\n",
            "Mean ROC_AUC: 0.9324775920512334\n",
            "\n",
            "############## New Run ################\n",
            "params = {'max_depth': 20, 'gamma': '0.373', 'subsample': '0.40', 'reg_alpha': '0.103', 'reg_lambda': '0.162', 'learning_rate': '0.017', 'num_leaves': '80.000', 'colsample_bytree': '0.603', 'min_child_samples': '160.000', 'feature_fraction': '0.636', 'bagging_fraction': '0.728'}\n",
            "1 CV - score: 0.9282\n",
            "2 CV - score: 0.9329\n",
            "3 CV - score: 0.9381\n",
            "4 CV - score: 0.9394\n",
            "5 CV - score: 0.9431\n",
            "Total Time Run: 3.43\n",
            "Mean ROC_AUC: 0.9363181135229702\n",
            "\n",
            "############## New Run ################\n",
            "params = {'max_depth': 21, 'gamma': '0.326', 'subsample': '0.60', 'reg_alpha': '0.255', 'reg_lambda': '0.327', 'learning_rate': '0.148', 'num_leaves': '20.000', 'colsample_bytree': '0.749', 'min_child_samples': '100.000', 'feature_fraction': '0.516', 'bagging_fraction': '0.700'}\n",
            "1 CV - score: 0.9158\n",
            "2 CV - score: 0.9283\n",
            "3 CV - score: 0.9357\n",
            "4 CV - score: 0.9376\n",
            "5 CV - score: 0.9411\n",
            "Total Time Run: 2.69\n",
            "Mean ROC_AUC: 0.9316906079943286\n",
            "\n",
            "############## New Run ################\n",
            "params = {'max_depth': 14, 'gamma': '0.416', 'subsample': '0.50', 'reg_alpha': '0.054', 'reg_lambda': '0.311', 'learning_rate': '0.183', 'num_leaves': '90.000', 'colsample_bytree': '0.595', 'min_child_samples': '220.000', 'feature_fraction': '0.728', 'bagging_fraction': '0.900'}\n",
            "1 CV - score: 0.9088\n",
            "2 CV - score: 0.9226\n",
            "3 CV - score: 0.931\n",
            "4 CV - score: 0.9326\n",
            "5 CV - score: 0.9374\n",
            "Total Time Run: 1.26\n",
            "Mean ROC_AUC: 0.9264736452946358\n",
            "\n",
            "############## New Run ################\n",
            "params = {'max_depth': 9, 'gamma': '0.132', 'subsample': '0.80', 'reg_alpha': '0.374', 'reg_lambda': '0.312', 'learning_rate': '0.182', 'num_leaves': '70.000', 'colsample_bytree': '0.518', 'min_child_samples': '240.000', 'feature_fraction': '0.780', 'bagging_fraction': '0.754'}\n",
            "1 CV - score: 0.9187\n",
            "2 CV - score: 0.9244\n",
            "3 CV - score: 0.9315\n",
            "4 CV - score: 0.9331\n",
            "5 CV - score: 0.9361\n",
            "Total Time Run: 0.42\n",
            "Mean ROC_AUC: 0.9287629116999712\n",
            "\n",
            "############## New Run ################\n",
            "params = {'max_depth': 22, 'gamma': '0.046', 'subsample': '0.40', 'reg_alpha': '0.139', 'reg_lambda': '0.267', 'learning_rate': '0.192', 'num_leaves': '210.000', 'colsample_bytree': '0.559', 'min_child_samples': '120.000', 'feature_fraction': '0.580', 'bagging_fraction': '0.565'}\n",
            "1 CV - score: 0.9003\n",
            "2 CV - score: 0.9179\n",
            "3 CV - score: 0.9296\n",
            "4 CV - score: 0.9326\n",
            "5 CV - score: 0.937\n",
            "Total Time Run: 2.98\n",
            "Mean ROC_AUC: 0.9234972333517947\n",
            "\n",
            "############## New Run ################\n",
            "params = {'max_depth': 22, 'gamma': '0.411', 'subsample': '0.70', 'reg_alpha': '0.167', 'reg_lambda': '0.143', 'learning_rate': '0.148', 'num_leaves': '60.000', 'colsample_bytree': '0.601', 'min_child_samples': '170.000', 'feature_fraction': '0.462', 'bagging_fraction': '0.625'}\n",
            "1 CV - score: 0.917\n",
            "2 CV - score: 0.9298\n",
            "3 CV - score: 0.9375\n",
            "4 CV - score: 0.9389\n",
            "5 CV - score: 0.9417\n",
            "Total Time Run: 3.4\n",
            "Mean ROC_AUC: 0.9329715270776212\n",
            "\n",
            "############## New Run ################\n",
            "params = {'max_depth': 20, 'gamma': '0.136', 'subsample': '0.90', 'reg_alpha': '0.298', 'reg_lambda': '0.357', 'learning_rate': '0.043', 'num_leaves': '20.000', 'colsample_bytree': '0.633', 'min_child_samples': '190.000', 'feature_fraction': '0.572', 'bagging_fraction': '0.755'}\n",
            "1 CV - score: 0.9275\n",
            "2 CV - score: 0.9335\n",
            "3 CV - score: 0.9382\n",
            "4 CV - score: 0.9395\n",
            "5 CV - score: 0.9426\n",
            "Total Time Run: 3.61\n",
            "Mean ROC_AUC: 0.9362449697973932\n",
            "\n",
            "############## New Run ################\n",
            "params = {'max_depth': 17, 'gamma': '0.028', 'subsample': '0.70', 'reg_alpha': '0.266', 'reg_lambda': '0.281', 'learning_rate': '0.150', 'num_leaves': '30.000', 'colsample_bytree': '0.893', 'min_child_samples': '120.000', 'feature_fraction': '0.441', 'bagging_fraction': '0.831'}\n",
            "1 CV - score: 0.9175\n",
            "2 CV - score: 0.9287\n",
            "3 CV - score: 0.935\n",
            "4 CV - score: 0.9374\n",
            "5 CV - score: 0.94\n",
            "Total Time Run: 1.94\n",
            "Mean ROC_AUC: 0.9317159375461721\n",
            "\n",
            "############## New Run ################\n",
            "params = {'max_depth': 9, 'gamma': '0.578', 'subsample': '0.20', 'reg_alpha': '0.355', 'reg_lambda': '0.156', 'learning_rate': '0.120', 'num_leaves': '150.000', 'colsample_bytree': '0.357', 'min_child_samples': '180.000', 'feature_fraction': '0.536', 'bagging_fraction': '0.426'}\n",
            "1 CV - score: 0.909\n",
            "2 CV - score: 0.9157\n",
            "3 CV - score: 0.9244\n",
            "4 CV - score: 0.9258\n",
            "5 CV - score: 0.9296\n",
            "Total Time Run: 0.38\n",
            "Mean ROC_AUC: 0.9209090462180886\n",
            "\n",
            "############## New Run ################\n",
            "params = {'max_depth': 23, 'gamma': '0.212', 'subsample': '0.20', 'reg_alpha': '0.148', 'reg_lambda': '0.155', 'learning_rate': '0.068', 'num_leaves': '90.000', 'colsample_bytree': '0.445', 'min_child_samples': '200.000', 'feature_fraction': '0.571', 'bagging_fraction': '0.764'}\n",
            "1 CV - score: 0.9189\n",
            "2 CV - score: 0.9273\n",
            "3 CV - score: 0.9333\n",
            "4 CV - score: 0.9356\n",
            "5 CV - score: 0.9396\n",
            "Total Time Run: 4.03\n",
            "Mean ROC_AUC: 0.930927825479826\n",
            "\n",
            "############## New Run ################\n",
            "params = {'max_depth': 22, 'gamma': '0.421', 'subsample': '0.80', 'reg_alpha': '0.218', 'reg_lambda': '0.286', 'learning_rate': '0.181', 'num_leaves': '20.000', 'colsample_bytree': '0.735', 'min_child_samples': '140.000', 'feature_fraction': '0.493', 'bagging_fraction': '0.471'}\n",
            "1 CV - score: 0.919\n",
            "2 CV - score: 0.93\n",
            "3 CV - score: 0.9367\n",
            "4 CV - score: 0.9386\n",
            "5 CV - score: 0.9418\n",
            "Total Time Run: 3.19\n",
            "Mean ROC_AUC: 0.9332029927292769\n",
            "\n",
            "############## New Run ################\n",
            "params = {'max_depth': 13, 'gamma': '0.602', 'subsample': '0.90', 'reg_alpha': '0.177', 'reg_lambda': '0.289', 'learning_rate': '0.108', 'num_leaves': '180.000', 'colsample_bytree': '0.686', 'min_child_samples': '170.000', 'feature_fraction': '0.777', 'bagging_fraction': '0.542'}\n",
            "1 CV - score: 0.9244\n",
            "2 CV - score: 0.9294\n",
            "3 CV - score: 0.936\n",
            "4 CV - score: 0.9367\n",
            "5 CV - score: 0.9402\n",
            "Total Time Run: 1.19\n",
            "Mean ROC_AUC: 0.9333398857680042\n",
            "\n",
            "############## New Run ################\n",
            "params = {'max_depth': 23, 'gamma': '0.149', 'subsample': '0.40', 'reg_alpha': '0.183', 'reg_lambda': '0.131', 'learning_rate': '0.198', 'num_leaves': '180.000', 'colsample_bytree': '0.692', 'min_child_samples': '130.000', 'feature_fraction': '0.492', 'bagging_fraction': '0.561'}\n",
            "1 CV - score: 0.9\n",
            "2 CV - score: 0.9158\n",
            "3 CV - score: 0.9266\n",
            "4 CV - score: 0.932\n",
            "5 CV - score: 0.9358\n",
            "Total Time Run: 3.9\n",
            "Mean ROC_AUC: 0.9220389223545421\n",
            "\n",
            "############## New Run ################\n",
            "params = {'max_depth': 20, 'gamma': '0.259', 'subsample': '0.40', 'reg_alpha': '0.021', 'reg_lambda': '0.381', 'learning_rate': '0.021', 'num_leaves': '80.000', 'colsample_bytree': '0.641', 'min_child_samples': '190.000', 'feature_fraction': '0.637', 'bagging_fraction': '0.794'}\n",
            "1 CV - score: 0.9267\n",
            "2 CV - score: 0.9321\n",
            "3 CV - score: 0.9374\n",
            "4 CV - score: 0.9389\n",
            "5 CV - score: 0.9424\n",
            "Total Time Run: 3.18\n",
            "Mean ROC_AUC: 0.9354916767292336\n",
            "\n",
            "############## New Run ################\n",
            "params = {'max_depth': 19, 'gamma': '0.259', 'subsample': '0.60', 'reg_alpha': '0.327', 'reg_lambda': '0.220', 'learning_rate': '0.015', 'num_leaves': '190.000', 'colsample_bytree': '0.471', 'min_child_samples': '190.000', 'feature_fraction': '0.634', 'bagging_fraction': '0.686'}\n",
            "1 CV - score: 0.931\n",
            "2 CV - score: 0.9363\n",
            "3 CV - score: 0.9398\n",
            "4 CV - score: 0.9415\n",
            "5 CV - score: 0.944\n",
            "Total Time Run: 3.89\n",
            "Mean ROC_AUC: 0.938517804430259\n",
            "\n",
            "############## New Run ################\n",
            "params = {'max_depth': 16, 'gamma': '0.258', 'subsample': '0.60', 'reg_alpha': '0.077', 'reg_lambda': '0.218', 'learning_rate': '0.020', 'num_leaves': '190.000', 'colsample_bytree': '0.482', 'min_child_samples': '160.000', 'feature_fraction': '0.638', 'bagging_fraction': '0.689'}\n",
            "1 CV - score: 0.9281\n",
            "2 CV - score: 0.9329\n",
            "3 CV - score: 0.9374\n",
            "4 CV - score: 0.9385\n",
            "5 CV - score: 0.9422\n",
            "Total Time Run: 2.62\n",
            "Mean ROC_AUC: 0.9358080534829529\n",
            "\n",
            "############## New Run ################\n",
            "params = {'max_depth': 19, 'gamma': '0.279', 'subsample': '0.60', 'reg_alpha': '0.326', 'reg_lambda': '0.091', 'learning_rate': '0.079', 'num_leaves': '130.000', 'colsample_bytree': '0.318', 'min_child_samples': '210.000', 'feature_fraction': '0.656', 'bagging_fraction': '0.601'}\n",
            "1 CV - score: 0.9258\n",
            "2 CV - score: 0.9333\n",
            "3 CV - score: 0.9381\n",
            "4 CV - score: 0.9402\n",
            "5 CV - score: 0.943\n",
            "Total Time Run: 2.93\n",
            "Mean ROC_AUC: 0.9361077117503971\n",
            "\n",
            "############## New Run ################\n",
            "params = {'max_depth': 16, 'gamma': '0.371', 'subsample': '0.60', 'reg_alpha': '0.096', 'reg_lambda': '0.211', 'learning_rate': '0.039', 'num_leaves': '120.000', 'colsample_bytree': '0.393', 'min_child_samples': '190.000', 'feature_fraction': '0.607', 'bagging_fraction': '0.809'}\n",
            "1 CV - score: 0.9276\n",
            "2 CV - score: 0.9329\n",
            "3 CV - score: 0.9379\n",
            "4 CV - score: 0.9389\n",
            "5 CV - score: 0.9427\n",
            "Total Time Run: 2.39\n",
            "Mean ROC_AUC: 0.9360029478616376\n",
            "\n",
            "############## New Run ################\n",
            "params = {'max_depth': 19, 'gamma': '0.531', 'subsample': '0.50', 'reg_alpha': '0.013', 'reg_lambda': '0.102', 'learning_rate': '0.012', 'num_leaves': '40.000', 'colsample_bytree': '0.456', 'min_child_samples': '160.000', 'feature_fraction': '0.674', 'bagging_fraction': '0.677'}\n",
            "1 CV - score: 0.9326\n",
            "2 CV - score: 0.9375\n",
            "3 CV - score: 0.9405\n",
            "4 CV - score: 0.942\n",
            "5 CV - score: 0.9442\n",
            "Total Time Run: 3.95\n",
            "Mean ROC_AUC: 0.939371318797248\n",
            "\n",
            "############## New Run ################\n",
            "params = {'max_depth': 18, 'gamma': '0.686', 'subsample': '0.50', 'reg_alpha': '0.393', 'reg_lambda': '0.099', 'learning_rate': '0.011', 'num_leaves': '40.000', 'colsample_bytree': '0.308', 'min_child_samples': '150.000', 'feature_fraction': '0.675', 'bagging_fraction': '0.693'}\n",
            "1 CV - score: 0.9324\n",
            "2 CV - score: 0.9371\n",
            "3 CV - score: 0.9407\n",
            "4 CV - score: 0.942\n",
            "5 CV - score: 0.9441\n",
            "Total Time Run: 3.78\n",
            "Mean ROC_AUC: 0.9392585811742441\n",
            "100%|██████████| 27/27 [1:02:29<00:00, 138.86s/it, best loss: -0.939371318797248]\n"
          ],
          "name": "stdout"
        }
      ]
    },
    {
      "cell_type": "code",
      "metadata": {
        "colab": {
          "base_uri": "https://localhost:8080/"
        },
        "id": "0jOgDJ-Zh0zi",
        "outputId": "1c73730c-b835-40b8-8dc1-ac2fba510a02"
      },
      "source": [
        "print(\"BEST PARAMS: \", best_params)"
      ],
      "execution_count": null,
      "outputs": [
        {
          "output_type": "stream",
          "text": [
            "BEST PARAMS:  {'bagging_fraction': 0.6772907000147506, 'colsample_bytree': 0.4556825520432889, 'feature_fraction': 0.6740386051057667, 'gamma': 0.5314894348729933, 'learning_rate': 0.011725955367278119, 'max_depth': 19.0, 'min_child_samples': 160, 'num_leaves': 40, 'reg_alpha': 0.012810624868367496, 'reg_lambda': 0.10189369646652095, 'subsample': 0.5}\n"
          ],
          "name": "stdout"
        }
      ]
    },
    {
      "cell_type": "code",
      "metadata": {
        "id": "Fqm0zG7ah5dE"
      },
      "source": [
        "best_params = {'scale_pos_weight':7.13, 'n_estimators':600, 'tree_method':'gpu_hist', 'bagging_fraction': 0.7829240572460123, 'colsample_bytree': 0.3237808947593247, 'feature_fraction': 0.6482655065042875, 'gamma': 0.3861911350718314, 'learning_rate': 0.01832454911948826, 'max_depth': 23, 'min_child_samples': 210, 'num_leaves': 160, 'reg_alpha': 0.14634272241140253, 'reg_lambda': 0.13253874360289158, 'subsample': 0.6}\n",
        "\n",
        "clf = xgb.XGBClassifier(  \n",
        "    **best_params,\n",
        ")\n"
      ],
      "execution_count": null,
      "outputs": []
    },
    {
      "cell_type": "code",
      "metadata": {
        "colab": {
          "base_uri": "https://localhost:8080/"
        },
        "id": "4rfmF3Tvh-5J",
        "outputId": "4c470901-26f6-4045-ab7e-d9de444fc9e9"
      },
      "source": [
        "data_dmat = xgb.DMatrix(data=X_train, label=y_train)\n",
        "rounds = 60\n",
        "\n",
        "result = xgb.cv(params=best_params, dtrain=data_dmat, nfold=5, stratified=True, metrics='auc', num_boost_round=rounds, early_stopping_rounds=5, verbose_eval=3, as_pandas=True, seed=23333)\n",
        "print(result)"
      ],
      "execution_count": null,
      "outputs": [
        {
          "output_type": "stream",
          "text": [
            "[0]\ttrain-auc:0.947315+0.000574602\ttest-auc:0.905737+0.00235434\n",
            "[3]\ttrain-auc:0.961488+0.000157613\ttest-auc:0.928105+0.00120744\n",
            "[6]\ttrain-auc:0.960857+0.00016757\ttest-auc:0.935222+0.00138766\n",
            "[9]\ttrain-auc:0.960429+0.000149132\ttest-auc:0.93706+0.00145414\n",
            "[12]\ttrain-auc:0.960388+0.000164575\ttest-auc:0.938605+0.00128467\n",
            "[15]\ttrain-auc:0.960351+0.00017376\ttest-auc:0.939621+0.00140265\n",
            "[18]\ttrain-auc:0.960181+0.000145891\ttest-auc:0.940477+0.00134193\n",
            "[21]\ttrain-auc:0.960142+0.00014732\ttest-auc:0.941019+0.00123728\n",
            "[24]\ttrain-auc:0.960103+0.000151899\ttest-auc:0.94131+0.00118875\n",
            "[27]\ttrain-auc:0.959916+0.000155441\ttest-auc:0.941572+0.00118169\n",
            "[30]\ttrain-auc:0.959958+0.000157255\ttest-auc:0.941813+0.00112157\n",
            "[33]\ttrain-auc:0.960022+0.000159412\ttest-auc:0.94199+0.0011434\n",
            "[36]\ttrain-auc:0.960042+0.000162844\ttest-auc:0.942067+0.00109265\n",
            "[39]\ttrain-auc:0.960128+0.000166258\ttest-auc:0.942129+0.00107333\n",
            "[42]\ttrain-auc:0.960174+0.000162578\ttest-auc:0.942208+0.00105714\n",
            "[45]\ttrain-auc:0.960225+0.000157813\ttest-auc:0.942242+0.00102975\n",
            "[48]\ttrain-auc:0.960261+0.000154751\ttest-auc:0.942252+0.00102113\n",
            "[51]\ttrain-auc:0.960326+0.000160565\ttest-auc:0.942293+0.00104724\n",
            "[54]\ttrain-auc:0.960422+0.000166057\ttest-auc:0.942327+0.00103303\n",
            "[57]\ttrain-auc:0.960485+0.000172647\ttest-auc:0.942338+0.00103465\n",
            "[59]\ttrain-auc:0.960547+0.000180566\ttest-auc:0.942357+0.00104517\n",
            "    train-auc-mean  train-auc-std  test-auc-mean  test-auc-std\n",
            "0         0.947315       0.000575       0.905737      0.002354\n",
            "1         0.958720       0.000346       0.919192      0.001464\n",
            "2         0.961237       0.000307       0.924657      0.001357\n",
            "3         0.961488       0.000158       0.928105      0.001207\n",
            "4         0.961009       0.000042       0.931046      0.001851\n",
            "5         0.961037       0.000105       0.932995      0.001582\n",
            "6         0.960857       0.000168       0.935222      0.001388\n",
            "7         0.960846       0.000167       0.936187      0.001245\n",
            "8         0.960770       0.000140       0.937025      0.001300\n",
            "9         0.960429       0.000149       0.937060      0.001454\n",
            "10        0.960435       0.000156       0.937669      0.001406\n",
            "11        0.960409       0.000150       0.938285      0.001392\n",
            "12        0.960388       0.000165       0.938605      0.001285\n",
            "13        0.960362       0.000171       0.938992      0.001312\n",
            "14        0.960346       0.000177       0.939267      0.001323\n",
            "15        0.960351       0.000174       0.939621      0.001403\n",
            "16        0.960339       0.000158       0.939794      0.001403\n",
            "17        0.960261       0.000162       0.940249      0.001317\n",
            "18        0.960181       0.000146       0.940477      0.001342\n",
            "19        0.960124       0.000141       0.940699      0.001240\n",
            "20        0.960138       0.000155       0.940893      0.001229\n",
            "21        0.960142       0.000147       0.941019      0.001237\n",
            "22        0.960069       0.000145       0.941127      0.001190\n",
            "23        0.960096       0.000147       0.941234      0.001194\n",
            "24        0.960103       0.000152       0.941310      0.001189\n",
            "25        0.960084       0.000157       0.941543      0.001191\n",
            "26        0.960022       0.000158       0.941618      0.001202\n",
            "27        0.959916       0.000155       0.941572      0.001182\n",
            "28        0.959935       0.000155       0.941633      0.001164\n",
            "29        0.959932       0.000152       0.941750      0.001154\n",
            "30        0.959958       0.000157       0.941813      0.001122\n",
            "31        0.959990       0.000163       0.941859      0.001120\n",
            "32        0.960020       0.000166       0.941913      0.001112\n",
            "33        0.960022       0.000159       0.941990      0.001143\n",
            "34        0.960006       0.000160       0.942032      0.001134\n",
            "35        0.960008       0.000162       0.942044      0.001110\n",
            "36        0.960042       0.000163       0.942067      0.001093\n",
            "37        0.960076       0.000162       0.942093      0.001089\n",
            "38        0.960104       0.000166       0.942121      0.001081\n",
            "39        0.960128       0.000166       0.942129      0.001073\n",
            "40        0.960163       0.000164       0.942163      0.001079\n",
            "41        0.960171       0.000160       0.942183      0.001093\n",
            "42        0.960174       0.000163       0.942208      0.001057\n",
            "43        0.960206       0.000159       0.942218      0.001058\n",
            "44        0.960214       0.000158       0.942233      0.001041\n",
            "45        0.960225       0.000158       0.942242      0.001030\n",
            "46        0.960216       0.000157       0.942219      0.001012\n",
            "47        0.960258       0.000157       0.942228      0.001022\n",
            "48        0.960261       0.000155       0.942252      0.001021\n",
            "49        0.960300       0.000157       0.942266      0.001041\n",
            "50        0.960304       0.000158       0.942291      0.001044\n",
            "51        0.960326       0.000161       0.942293      0.001047\n",
            "52        0.960352       0.000160       0.942314      0.001038\n",
            "53        0.960383       0.000167       0.942317      0.001038\n",
            "54        0.960422       0.000166       0.942327      0.001033\n",
            "55        0.960431       0.000167       0.942334      0.001031\n",
            "56        0.960448       0.000168       0.942329      0.001036\n",
            "57        0.960485       0.000173       0.942338      0.001035\n",
            "58        0.960519       0.000176       0.942352      0.001046\n",
            "59        0.960547       0.000181       0.942357      0.001045\n"
          ],
          "name": "stdout"
        }
      ]
    },
    {
      "cell_type": "code",
      "metadata": {
        "colab": {
          "base_uri": "https://localhost:8080/"
        },
        "id": "_pimM17-itAo",
        "outputId": "2ab0ba59-fe6a-4f68-aac6-ca04c021eeeb"
      },
      "source": [
        "best_params = {'scale_pos_weight':7.13, 'n_estimators':60, 'tree_method':'gpu_hist', 'bagging_fraction': 0.7829240572460123, 'colsample_bytree': 0.3237808947593247, 'feature_fraction': 0.6482655065042875, 'gamma': 0.3861911350718314, 'learning_rate': 0.01832454911948826, 'max_depth': 23, 'min_child_samples': 210, 'num_leaves': 160, 'reg_alpha': 0.14634272241140253, 'reg_lambda': 0.13253874360289158, 'subsample': 0.6}\n",
        "\n",
        "clf = xgb.XGBClassifier(\n",
        "    **best_params\n",
        ")\n",
        "clf.fit(X_train, y_train)"
      ],
      "execution_count": null,
      "outputs": [
        {
          "output_type": "execute_result",
          "data": {
            "text/plain": [
              "XGBClassifier(bagging_fraction=0.7829240572460123, base_score=0.5,\n",
              "              booster='gbtree', colsample_bylevel=1, colsample_bynode=1,\n",
              "              colsample_bytree=0.3237808947593247,\n",
              "              feature_fraction=0.6482655065042875, gamma=0.3861911350718314,\n",
              "              learning_rate=0.01832454911948826, max_delta_step=0, max_depth=23,\n",
              "              min_child_samples=210, min_child_weight=1, missing=None,\n",
              "              n_estimators=60, n_jobs=1, nthread=None, num_leaves=160,\n",
              "              objective='binary:logistic', random_state=0,\n",
              "              reg_alpha=0.14634272241140253, reg_lambda=0.13253874360289158,\n",
              "              scale_pos_weight=7.13, seed=None, silent=None, subsample=0.6,\n",
              "              tree_method='gpu_hist', verbosity=1)"
            ]
          },
          "metadata": {
            "tags": []
          },
          "execution_count": 73
        }
      ]
    },
    {
      "cell_type": "code",
      "metadata": {
        "colab": {
          "base_uri": "https://localhost:8080/",
          "height": 669
        },
        "id": "HTn5CvQfiyBa",
        "outputId": "968bc953-e836-4160-e957-03d1848d6862"
      },
      "source": [
        "feature_important = clf.get_booster().get_score(importance_type=\"weight\")\n",
        "keys = list(feature_important.keys())\n",
        "values = list(feature_important.values())\n",
        "\n",
        "data = pd.DataFrame(data=values, index=keys, columns=[\"score\"]).sort_values(by = \"score\", ascending=False)\n",
        "\n",
        "# Top 10 features\n",
        "data.head(20)"
      ],
      "execution_count": null,
      "outputs": [
        {
          "output_type": "execute_result",
          "data": {
            "text/html": [
              "<div>\n",
              "<style scoped>\n",
              "    .dataframe tbody tr th:only-of-type {\n",
              "        vertical-align: middle;\n",
              "    }\n",
              "\n",
              "    .dataframe tbody tr th {\n",
              "        vertical-align: top;\n",
              "    }\n",
              "\n",
              "    .dataframe thead th {\n",
              "        text-align: right;\n",
              "    }\n",
              "</style>\n",
              "<table border=\"1\" class=\"dataframe\">\n",
              "  <thead>\n",
              "    <tr style=\"text-align: right;\">\n",
              "      <th></th>\n",
              "      <th>score</th>\n",
              "    </tr>\n",
              "  </thead>\n",
              "  <tbody>\n",
              "    <tr>\n",
              "      <th>inc_by_exp</th>\n",
              "      <td>30573</td>\n",
              "    </tr>\n",
              "    <tr>\n",
              "      <th>inc_by_age</th>\n",
              "      <td>27521</td>\n",
              "    </tr>\n",
              "    <tr>\n",
              "      <th>response_city</th>\n",
              "      <td>23223</td>\n",
              "    </tr>\n",
              "    <tr>\n",
              "      <th>income</th>\n",
              "      <td>22440</td>\n",
              "    </tr>\n",
              "    <tr>\n",
              "      <th>response_state</th>\n",
              "      <td>22355</td>\n",
              "    </tr>\n",
              "    <tr>\n",
              "      <th>age_by_exp</th>\n",
              "      <td>18112</td>\n",
              "    </tr>\n",
              "    <tr>\n",
              "      <th>response_prof</th>\n",
              "      <td>16779</td>\n",
              "    </tr>\n",
              "    <tr>\n",
              "      <th>age</th>\n",
              "      <td>16278</td>\n",
              "    </tr>\n",
              "    <tr>\n",
              "      <th>DL_Embeddings</th>\n",
              "      <td>15335</td>\n",
              "    </tr>\n",
              "    <tr>\n",
              "      <th>chy_minus_exp</th>\n",
              "      <td>14162</td>\n",
              "    </tr>\n",
              "    <tr>\n",
              "      <th>current_job_years</th>\n",
              "      <td>12686</td>\n",
              "    </tr>\n",
              "    <tr>\n",
              "      <th>age_minus_exp</th>\n",
              "      <td>12542</td>\n",
              "    </tr>\n",
              "    <tr>\n",
              "      <th>experience</th>\n",
              "      <td>11748</td>\n",
              "    </tr>\n",
              "    <tr>\n",
              "      <th>current_house_years</th>\n",
              "      <td>11230</td>\n",
              "    </tr>\n",
              "    <tr>\n",
              "      <th>DL_Embeddings_log</th>\n",
              "      <td>9107</td>\n",
              "    </tr>\n",
              "    <tr>\n",
              "      <th>exp_minus_cjy</th>\n",
              "      <td>6561</td>\n",
              "    </tr>\n",
              "    <tr>\n",
              "      <th>car_no</th>\n",
              "      <td>3777</td>\n",
              "    </tr>\n",
              "    <tr>\n",
              "      <th>car_yes</th>\n",
              "      <td>2164</td>\n",
              "    </tr>\n",
              "    <tr>\n",
              "      <th>single</th>\n",
              "      <td>2093</td>\n",
              "    </tr>\n",
              "    <tr>\n",
              "      <th>prof_cat</th>\n",
              "      <td>2050</td>\n",
              "    </tr>\n",
              "  </tbody>\n",
              "</table>\n",
              "</div>"
            ],
            "text/plain": [
              "                     score\n",
              "inc_by_exp           30573\n",
              "inc_by_age           27521\n",
              "response_city        23223\n",
              "income               22440\n",
              "response_state       22355\n",
              "age_by_exp           18112\n",
              "response_prof        16779\n",
              "age                  16278\n",
              "DL_Embeddings        15335\n",
              "chy_minus_exp        14162\n",
              "current_job_years    12686\n",
              "age_minus_exp        12542\n",
              "experience           11748\n",
              "current_house_years  11230\n",
              "DL_Embeddings_log     9107\n",
              "exp_minus_cjy         6561\n",
              "car_no                3777\n",
              "car_yes               2164\n",
              "single                2093\n",
              "prof_cat              2050"
            ]
          },
          "metadata": {
            "tags": []
          },
          "execution_count": 74
        }
      ]
    },
    {
      "cell_type": "code",
      "metadata": {
        "id": "Y3rWHDYfi6Zu"
      },
      "source": [
        "y_pred_train = clf.predict_proba(X_train)\n",
        "y_pred_train = y_pred_train[:,1]"
      ],
      "execution_count": null,
      "outputs": []
    },
    {
      "cell_type": "code",
      "metadata": {
        "colab": {
          "base_uri": "https://localhost:8080/"
        },
        "id": "LPfG5k1Pi9lU",
        "outputId": "13b1239b-7be2-41ae-b76f-b2059079b969"
      },
      "source": [
        "from sklearn.metrics import roc_auc_score, accuracy_score\n",
        "auc_tr = roc_auc_score(y_train, y_pred_train)\n",
        "acc_tr = accuracy_score(y_train, np.round(y_pred_train))\n",
        "print('ROC AUC train:', auc_tr)\n",
        "print('acc train:', acc_tr)"
      ],
      "execution_count": null,
      "outputs": [
        {
          "output_type": "stream",
          "text": [
            "ROC AUC train: 0.9592359229527396\n",
            "acc train: 0.9220873015873016\n"
          ],
          "name": "stdout"
        }
      ]
    },
    {
      "cell_type": "code",
      "metadata": {
        "colab": {
          "base_uri": "https://localhost:8080/",
          "height": 456
        },
        "id": "EMRo9DxxjA6F",
        "outputId": "ca9d8827-4ce8-4ab7-c700-ce26f7fe2502"
      },
      "source": [
        "import seaborn as sns\n",
        "import matplotlib.pyplot as plt\n",
        "from sklearn.metrics import confusion_matrix\n",
        "import pylab as pl\n",
        "\n",
        "cm = confusion_matrix(y_train,y_pred_train>0.5)\n",
        "\n",
        "df_cm = pd.DataFrame(cm, index = [i for i in [0,1]],\n",
        "columns = [i for i in [0,1]])\n",
        "plt.figure(figsize = (10,7))\n",
        "sns.set(font_scale=1.4)\n",
        "sns.heatmap(df_cm, annot=True, fmt='g')\n",
        "plt.plot()"
      ],
      "execution_count": null,
      "outputs": [
        {
          "output_type": "execute_result",
          "data": {
            "text/plain": [
              "[]"
            ]
          },
          "metadata": {
            "tags": []
          },
          "execution_count": 77
        },
        {
          "output_type": "display_data",
          "data": {
            "image/png": "[encoded data removed]",
            "text/plain": [
              "<Figure size 720x504 with 2 Axes>"
            ]
          },
          "metadata": {
            "tags": []
          }
        }
      ]
    },
    {
      "cell_type": "code",
      "metadata": {
        "colab": {
          "base_uri": "https://localhost:8080/"
        },
        "id": "bpJjC8UTjElB",
        "outputId": "6360a634-4d91-4897-e332-72c95a9fc4bd"
      },
      "source": [
        "tp = cm[1][1]\n",
        "tn = cm[0][0]\n",
        "fn = cm[1][0]\n",
        "fp = cm[0][1]\n",
        "TPR = tp/(tp+fn)\n",
        "TNR = tn/(tn+fp)\n",
        "print('TNR', TNR)\n",
        "print('TPR', TPR)"
      ],
      "execution_count": null,
      "outputs": [
        {
          "output_type": "stream",
          "text": [
            "TNR 0.9112369006895803\n",
            "TPR 0.999451542134469\n"
          ],
          "name": "stdout"
        }
      ]
    },
    {
      "cell_type": "markdown",
      "metadata": {
        "id": "6JuAXnC9jIeq"
      },
      "source": [
        "## Predictions on Test Data"
      ]
    },
    {
      "cell_type": "code",
      "metadata": {
        "colab": {
          "base_uri": "https://localhost:8080/",
          "height": 224
        },
        "id": "YIHawiehjLxA",
        "outputId": "fccbe1a4-e4f6-4108-8839-ed40a01b6611"
      },
      "source": [
        "X_test.head()"
      ],
      "execution_count": null,
      "outputs": [
        {
          "output_type": "execute_result",
          "data": {
            "text/html": [
              "<div>\n",
              "<style scoped>\n",
              "    .dataframe tbody tr th:only-of-type {\n",
              "        vertical-align: middle;\n",
              "    }\n",
              "\n",
              "    .dataframe tbody tr th {\n",
              "        vertical-align: top;\n",
              "    }\n",
              "\n",
              "    .dataframe thead th {\n",
              "        text-align: right;\n",
              "    }\n",
              "</style>\n",
              "<table border=\"1\" class=\"dataframe\">\n",
              "  <thead>\n",
              "    <tr style=\"text-align: right;\">\n",
              "      <th></th>\n",
              "      <th>income</th>\n",
              "      <th>age</th>\n",
              "      <th>experience</th>\n",
              "      <th>current_job_years</th>\n",
              "      <th>current_house_years</th>\n",
              "      <th>inc_by_age</th>\n",
              "      <th>inc_by_exp</th>\n",
              "      <th>age_by_exp</th>\n",
              "      <th>age_minus_exp</th>\n",
              "      <th>chy_minus_exp</th>\n",
              "      <th>exp_minus_cjy</th>\n",
              "      <th>response_state</th>\n",
              "      <th>response_city</th>\n",
              "      <th>response_prof</th>\n",
              "      <th>prof_cat</th>\n",
              "      <th>DL_Embeddings</th>\n",
              "      <th>DL_Embeddings_log</th>\n",
              "      <th>married</th>\n",
              "      <th>single</th>\n",
              "      <th>house_norent_noown</th>\n",
              "      <th>house_owned</th>\n",
              "      <th>house_rented</th>\n",
              "      <th>car_no</th>\n",
              "      <th>car_yes</th>\n",
              "    </tr>\n",
              "  </thead>\n",
              "  <tbody>\n",
              "    <tr>\n",
              "      <th>0</th>\n",
              "      <td>7393090</td>\n",
              "      <td>59</td>\n",
              "      <td>19.0</td>\n",
              "      <td>4.0</td>\n",
              "      <td>13</td>\n",
              "      <td>125306.610169</td>\n",
              "      <td>389110.000000</td>\n",
              "      <td>3.105263</td>\n",
              "      <td>40.0</td>\n",
              "      <td>-6.0</td>\n",
              "      <td>15.0</td>\n",
              "      <td>0.128135</td>\n",
              "      <td>0.112277</td>\n",
              "      <td>0.144264</td>\n",
              "      <td>1</td>\n",
              "      <td>0.012509</td>\n",
              "      <td>-4.381308</td>\n",
              "      <td>0</td>\n",
              "      <td>1</td>\n",
              "      <td>0</td>\n",
              "      <td>0</td>\n",
              "      <td>1</td>\n",
              "      <td>1</td>\n",
              "      <td>0</td>\n",
              "    </tr>\n",
              "    <tr>\n",
              "      <th>1</th>\n",
              "      <td>1215004</td>\n",
              "      <td>25</td>\n",
              "      <td>5.0</td>\n",
              "      <td>5.0</td>\n",
              "      <td>10</td>\n",
              "      <td>48600.160000</td>\n",
              "      <td>243000.800000</td>\n",
              "      <td>5.000000</td>\n",
              "      <td>20.0</td>\n",
              "      <td>5.0</td>\n",
              "      <td>0.0</td>\n",
              "      <td>0.113254</td>\n",
              "      <td>0.108449</td>\n",
              "      <td>0.135789</td>\n",
              "      <td>1</td>\n",
              "      <td>0.294946</td>\n",
              "      <td>-1.220964</td>\n",
              "      <td>0</td>\n",
              "      <td>1</td>\n",
              "      <td>0</td>\n",
              "      <td>0</td>\n",
              "      <td>1</td>\n",
              "      <td>1</td>\n",
              "      <td>0</td>\n",
              "    </tr>\n",
              "    <tr>\n",
              "      <th>2</th>\n",
              "      <td>8901342</td>\n",
              "      <td>50</td>\n",
              "      <td>12.0</td>\n",
              "      <td>9.0</td>\n",
              "      <td>14</td>\n",
              "      <td>178026.840000</td>\n",
              "      <td>741778.500000</td>\n",
              "      <td>4.166667</td>\n",
              "      <td>38.0</td>\n",
              "      <td>2.0</td>\n",
              "      <td>3.0</td>\n",
              "      <td>0.113254</td>\n",
              "      <td>0.072746</td>\n",
              "      <td>0.129514</td>\n",
              "      <td>1</td>\n",
              "      <td>0.158755</td>\n",
              "      <td>-1.840392</td>\n",
              "      <td>0</td>\n",
              "      <td>1</td>\n",
              "      <td>0</td>\n",
              "      <td>0</td>\n",
              "      <td>1</td>\n",
              "      <td>1</td>\n",
              "      <td>0</td>\n",
              "    </tr>\n",
              "    <tr>\n",
              "      <th>3</th>\n",
              "      <td>1944421</td>\n",
              "      <td>49</td>\n",
              "      <td>9.0</td>\n",
              "      <td>3.0</td>\n",
              "      <td>12</td>\n",
              "      <td>39682.061224</td>\n",
              "      <td>216046.777778</td>\n",
              "      <td>5.444444</td>\n",
              "      <td>40.0</td>\n",
              "      <td>3.0</td>\n",
              "      <td>6.0</td>\n",
              "      <td>0.113254</td>\n",
              "      <td>0.039655</td>\n",
              "      <td>0.121465</td>\n",
              "      <td>0</td>\n",
              "      <td>0.041016</td>\n",
              "      <td>-3.193792</td>\n",
              "      <td>1</td>\n",
              "      <td>0</td>\n",
              "      <td>0</td>\n",
              "      <td>0</td>\n",
              "      <td>1</td>\n",
              "      <td>0</td>\n",
              "      <td>1</td>\n",
              "    </tr>\n",
              "    <tr>\n",
              "      <th>4</th>\n",
              "      <td>13429</td>\n",
              "      <td>25</td>\n",
              "      <td>18.0</td>\n",
              "      <td>13.0</td>\n",
              "      <td>11</td>\n",
              "      <td>537.160000</td>\n",
              "      <td>746.055556</td>\n",
              "      <td>1.388889</td>\n",
              "      <td>7.0</td>\n",
              "      <td>-7.0</td>\n",
              "      <td>5.0</td>\n",
              "      <td>0.128135</td>\n",
              "      <td>0.148101</td>\n",
              "      <td>0.119604</td>\n",
              "      <td>0</td>\n",
              "      <td>0.023196</td>\n",
              "      <td>-3.763759</td>\n",
              "      <td>0</td>\n",
              "      <td>1</td>\n",
              "      <td>0</td>\n",
              "      <td>0</td>\n",
              "      <td>1</td>\n",
              "      <td>0</td>\n",
              "      <td>1</td>\n",
              "    </tr>\n",
              "  </tbody>\n",
              "</table>\n",
              "</div>"
            ],
            "text/plain": [
              "    income  age  experience  ...  house_rented  car_no  car_yes\n",
              "0  7393090   59        19.0  ...             1       1        0\n",
              "1  1215004   25         5.0  ...             1       1        0\n",
              "2  8901342   50        12.0  ...             1       1        0\n",
              "3  1944421   49         9.0  ...             1       0        1\n",
              "4    13429   25        18.0  ...             1       0        1\n",
              "\n",
              "[5 rows x 24 columns]"
            ]
          },
          "metadata": {
            "tags": []
          },
          "execution_count": 79
        }
      ]
    },
    {
      "cell_type": "code",
      "metadata": {
        "colab": {
          "base_uri": "https://localhost:8080/",
          "height": 224
        },
        "id": "Cb6-6P_kjO89",
        "outputId": "a62c81ae-d042-4a01-fffb-aa24997da874"
      },
      "source": [
        "X_train.head()"
      ],
      "execution_count": null,
      "outputs": [
        {
          "output_type": "execute_result",
          "data": {
            "text/html": [
              "<div>\n",
              "<style scoped>\n",
              "    .dataframe tbody tr th:only-of-type {\n",
              "        vertical-align: middle;\n",
              "    }\n",
              "\n",
              "    .dataframe tbody tr th {\n",
              "        vertical-align: top;\n",
              "    }\n",
              "\n",
              "    .dataframe thead th {\n",
              "        text-align: right;\n",
              "    }\n",
              "</style>\n",
              "<table border=\"1\" class=\"dataframe\">\n",
              "  <thead>\n",
              "    <tr style=\"text-align: right;\">\n",
              "      <th></th>\n",
              "      <th>income</th>\n",
              "      <th>age</th>\n",
              "      <th>experience</th>\n",
              "      <th>current_job_years</th>\n",
              "      <th>current_house_years</th>\n",
              "      <th>inc_by_age</th>\n",
              "      <th>inc_by_exp</th>\n",
              "      <th>age_by_exp</th>\n",
              "      <th>age_minus_exp</th>\n",
              "      <th>chy_minus_exp</th>\n",
              "      <th>exp_minus_cjy</th>\n",
              "      <th>response_state</th>\n",
              "      <th>response_city</th>\n",
              "      <th>response_prof</th>\n",
              "      <th>prof_cat</th>\n",
              "      <th>DL_Embeddings</th>\n",
              "      <th>DL_Embeddings_log</th>\n",
              "      <th>married</th>\n",
              "      <th>single</th>\n",
              "      <th>house_norent_noown</th>\n",
              "      <th>house_owned</th>\n",
              "      <th>house_rented</th>\n",
              "      <th>car_no</th>\n",
              "      <th>car_yes</th>\n",
              "    </tr>\n",
              "  </thead>\n",
              "  <tbody>\n",
              "    <tr>\n",
              "      <th>117955</th>\n",
              "      <td>6460018</td>\n",
              "      <td>75</td>\n",
              "      <td>11.0</td>\n",
              "      <td>7.0</td>\n",
              "      <td>14</td>\n",
              "      <td>86133.573333</td>\n",
              "      <td>587274.363636</td>\n",
              "      <td>6.818182</td>\n",
              "      <td>64.0</td>\n",
              "      <td>3.0</td>\n",
              "      <td>4.0</td>\n",
              "      <td>0.167097</td>\n",
              "      <td>0.252862</td>\n",
              "      <td>0.124048</td>\n",
              "      <td>1</td>\n",
              "      <td>0.074658</td>\n",
              "      <td>-2.594838</td>\n",
              "      <td>0</td>\n",
              "      <td>1</td>\n",
              "      <td>0</td>\n",
              "      <td>0</td>\n",
              "      <td>1</td>\n",
              "      <td>1</td>\n",
              "      <td>0</td>\n",
              "    </tr>\n",
              "    <tr>\n",
              "      <th>89977</th>\n",
              "      <td>7134812</td>\n",
              "      <td>72</td>\n",
              "      <td>16.0</td>\n",
              "      <td>4.0</td>\n",
              "      <td>14</td>\n",
              "      <td>99094.611111</td>\n",
              "      <td>445925.750000</td>\n",
              "      <td>4.500000</td>\n",
              "      <td>56.0</td>\n",
              "      <td>-2.0</td>\n",
              "      <td>12.0</td>\n",
              "      <td>0.128135</td>\n",
              "      <td>0.178122</td>\n",
              "      <td>0.115570</td>\n",
              "      <td>0</td>\n",
              "      <td>0.372621</td>\n",
              "      <td>-0.987193</td>\n",
              "      <td>0</td>\n",
              "      <td>1</td>\n",
              "      <td>0</td>\n",
              "      <td>0</td>\n",
              "      <td>1</td>\n",
              "      <td>1</td>\n",
              "      <td>0</td>\n",
              "    </tr>\n",
              "    <tr>\n",
              "      <th>86851</th>\n",
              "      <td>8918340</td>\n",
              "      <td>28</td>\n",
              "      <td>13.0</td>\n",
              "      <td>10.0</td>\n",
              "      <td>14</td>\n",
              "      <td>318512.142857</td>\n",
              "      <td>686026.153846</td>\n",
              "      <td>2.153846</td>\n",
              "      <td>15.0</td>\n",
              "      <td>1.0</td>\n",
              "      <td>3.0</td>\n",
              "      <td>0.113254</td>\n",
              "      <td>0.086370</td>\n",
              "      <td>0.135789</td>\n",
              "      <td>1</td>\n",
              "      <td>0.022688</td>\n",
              "      <td>-3.785937</td>\n",
              "      <td>0</td>\n",
              "      <td>1</td>\n",
              "      <td>0</td>\n",
              "      <td>0</td>\n",
              "      <td>1</td>\n",
              "      <td>1</td>\n",
              "      <td>0</td>\n",
              "    </tr>\n",
              "    <tr>\n",
              "      <th>225217</th>\n",
              "      <td>2499535</td>\n",
              "      <td>29</td>\n",
              "      <td>17.0</td>\n",
              "      <td>9.0</td>\n",
              "      <td>12</td>\n",
              "      <td>86190.862069</td>\n",
              "      <td>147031.470588</td>\n",
              "      <td>1.705882</td>\n",
              "      <td>12.0</td>\n",
              "      <td>-5.0</td>\n",
              "      <td>8.0</td>\n",
              "      <td>0.140833</td>\n",
              "      <td>0.238452</td>\n",
              "      <td>0.135832</td>\n",
              "      <td>1</td>\n",
              "      <td>0.146355</td>\n",
              "      <td>-1.921718</td>\n",
              "      <td>0</td>\n",
              "      <td>1</td>\n",
              "      <td>0</td>\n",
              "      <td>0</td>\n",
              "      <td>1</td>\n",
              "      <td>1</td>\n",
              "      <td>0</td>\n",
              "    </tr>\n",
              "    <tr>\n",
              "      <th>186118</th>\n",
              "      <td>270761</td>\n",
              "      <td>48</td>\n",
              "      <td>1.0</td>\n",
              "      <td>1.0</td>\n",
              "      <td>11</td>\n",
              "      <td>5640.854167</td>\n",
              "      <td>270761.000000</td>\n",
              "      <td>48.000000</td>\n",
              "      <td>47.0</td>\n",
              "      <td>10.0</td>\n",
              "      <td>0.0</td>\n",
              "      <td>0.140833</td>\n",
              "      <td>0.138721</td>\n",
              "      <td>0.115385</td>\n",
              "      <td>0</td>\n",
              "      <td>0.296553</td>\n",
              "      <td>-1.215529</td>\n",
              "      <td>0</td>\n",
              "      <td>1</td>\n",
              "      <td>0</td>\n",
              "      <td>0</td>\n",
              "      <td>1</td>\n",
              "      <td>1</td>\n",
              "      <td>0</td>\n",
              "    </tr>\n",
              "  </tbody>\n",
              "</table>\n",
              "</div>"
            ],
            "text/plain": [
              "         income  age  experience  ...  house_rented  car_no  car_yes\n",
              "117955  6460018   75        11.0  ...             1       1        0\n",
              "89977   7134812   72        16.0  ...             1       1        0\n",
              "86851   8918340   28        13.0  ...             1       1        0\n",
              "225217  2499535   29        17.0  ...             1       1        0\n",
              "186118   270761   48         1.0  ...             1       1        0\n",
              "\n",
              "[5 rows x 24 columns]"
            ]
          },
          "metadata": {
            "tags": []
          },
          "execution_count": 80
        }
      ]
    },
    {
      "cell_type": "code",
      "metadata": {
        "colab": {
          "base_uri": "https://localhost:8080/"
        },
        "id": "igSjZEa2jSb1",
        "outputId": "c5028569-8ccd-4cb3-d22e-7107674778d7"
      },
      "source": [
        "best_params = {'scale_pos_weight':7.13, 'n_estimators':60, 'tree_method':'gpu_hist', 'bagging_fraction': 0.7829240572460123, 'colsample_bytree': 0.3237808947593247, 'feature_fraction': 0.6482655065042875, 'gamma': 0.3861911350718314, 'learning_rate': 0.01832454911948826, 'max_depth': 23, 'min_child_samples': 210, 'num_leaves': 160, 'reg_alpha': 0.14634272241140253, 'reg_lambda': 0.13253874360289158, 'subsample': 0.6}\n",
        "clf = xgb.XGBClassifier(\n",
        "    **best_params\n",
        ")\n",
        "clf.fit(X_train, y_train)"
      ],
      "execution_count": null,
      "outputs": [
        {
          "output_type": "execute_result",
          "data": {
            "text/plain": [
              "XGBClassifier(bagging_fraction=0.7829240572460123, base_score=0.5,\n",
              "              booster='gbtree', colsample_bylevel=1, colsample_bynode=1,\n",
              "              colsample_bytree=0.3237808947593247,\n",
              "              feature_fraction=0.6482655065042875, gamma=0.3861911350718314,\n",
              "              learning_rate=0.01832454911948826, max_delta_step=0, max_depth=23,\n",
              "              min_child_samples=210, min_child_weight=1, missing=None,\n",
              "              n_estimators=60, n_jobs=1, nthread=None, num_leaves=160,\n",
              "              objective='binary:logistic', random_state=0,\n",
              "              reg_alpha=0.14634272241140253, reg_lambda=0.13253874360289158,\n",
              "              scale_pos_weight=7.13, seed=None, silent=None, subsample=0.6,\n",
              "              tree_method='gpu_hist', verbosity=1)"
            ]
          },
          "metadata": {
            "tags": []
          },
          "execution_count": 81
        }
      ]
    },
    {
      "cell_type": "code",
      "metadata": {
        "id": "4TYFSNKTjgO2"
      },
      "source": [
        "y_test_pred = clf.predict(X_test)"
      ],
      "execution_count": null,
      "outputs": []
    },
    {
      "cell_type": "code",
      "metadata": {
        "colab": {
          "base_uri": "https://localhost:8080/",
          "height": 204
        },
        "id": "iEj7ZHVPjjqx",
        "outputId": "dbe71bf5-fb89-414f-82f9-6ba3af3422cb"
      },
      "source": [
        "prediction_dataset = pd.DataFrame(y_test_pred)\n",
        "prediction_dataset['id'] = test_data['id']\n",
        "prediction_dataset.rename(columns={0:'risk_flag'}, inplace=True)\n",
        "prediction_dataset = prediction_dataset[['id', 'risk_flag']]\n",
        "prediction_dataset.head()"
      ],
      "execution_count": null,
      "outputs": [
        {
          "output_type": "execute_result",
          "data": {
            "text/html": [
              "<div>\n",
              "<style scoped>\n",
              "    .dataframe tbody tr th:only-of-type {\n",
              "        vertical-align: middle;\n",
              "    }\n",
              "\n",
              "    .dataframe tbody tr th {\n",
              "        vertical-align: top;\n",
              "    }\n",
              "\n",
              "    .dataframe thead th {\n",
              "        text-align: right;\n",
              "    }\n",
              "</style>\n",
              "<table border=\"1\" class=\"dataframe\">\n",
              "  <thead>\n",
              "    <tr style=\"text-align: right;\">\n",
              "      <th></th>\n",
              "      <th>id</th>\n",
              "      <th>risk_flag</th>\n",
              "    </tr>\n",
              "  </thead>\n",
              "  <tbody>\n",
              "    <tr>\n",
              "      <th>0</th>\n",
              "      <td>1</td>\n",
              "      <td>0</td>\n",
              "    </tr>\n",
              "    <tr>\n",
              "      <th>1</th>\n",
              "      <td>2</td>\n",
              "      <td>0</td>\n",
              "    </tr>\n",
              "    <tr>\n",
              "      <th>2</th>\n",
              "      <td>3</td>\n",
              "      <td>0</td>\n",
              "    </tr>\n",
              "    <tr>\n",
              "      <th>3</th>\n",
              "      <td>4</td>\n",
              "      <td>0</td>\n",
              "    </tr>\n",
              "    <tr>\n",
              "      <th>4</th>\n",
              "      <td>5</td>\n",
              "      <td>0</td>\n",
              "    </tr>\n",
              "  </tbody>\n",
              "</table>\n",
              "</div>"
            ],
            "text/plain": [
              "   id  risk_flag\n",
              "0   1          0\n",
              "1   2          0\n",
              "2   3          0\n",
              "3   4          0\n",
              "4   5          0"
            ]
          },
          "metadata": {
            "tags": []
          },
          "execution_count": 83
        }
      ]
    },
    {
      "cell_type": "code",
      "metadata": {
        "colab": {
          "base_uri": "https://localhost:8080/",
          "height": 204
        },
        "id": "hCzK1-rgjnCf",
        "outputId": "5d47b7d6-4f9b-4374-cd24-0e544b24dc0c"
      },
      "source": [
        "prediction_dataset = prediction_dataset[['id', 'risk_flag']]\n",
        "prediction_dataset.head()"
      ],
      "execution_count": null,
      "outputs": [
        {
          "output_type": "execute_result",
          "data": {
            "text/html": [
              "<div>\n",
              "<style scoped>\n",
              "    .dataframe tbody tr th:only-of-type {\n",
              "        vertical-align: middle;\n",
              "    }\n",
              "\n",
              "    .dataframe tbody tr th {\n",
              "        vertical-align: top;\n",
              "    }\n",
              "\n",
              "    .dataframe thead th {\n",
              "        text-align: right;\n",
              "    }\n",
              "</style>\n",
              "<table border=\"1\" class=\"dataframe\">\n",
              "  <thead>\n",
              "    <tr style=\"text-align: right;\">\n",
              "      <th></th>\n",
              "      <th>id</th>\n",
              "      <th>risk_flag</th>\n",
              "    </tr>\n",
              "  </thead>\n",
              "  <tbody>\n",
              "    <tr>\n",
              "      <th>0</th>\n",
              "      <td>1</td>\n",
              "      <td>0</td>\n",
              "    </tr>\n",
              "    <tr>\n",
              "      <th>1</th>\n",
              "      <td>2</td>\n",
              "      <td>0</td>\n",
              "    </tr>\n",
              "    <tr>\n",
              "      <th>2</th>\n",
              "      <td>3</td>\n",
              "      <td>0</td>\n",
              "    </tr>\n",
              "    <tr>\n",
              "      <th>3</th>\n",
              "      <td>4</td>\n",
              "      <td>0</td>\n",
              "    </tr>\n",
              "    <tr>\n",
              "      <th>4</th>\n",
              "      <td>5</td>\n",
              "      <td>0</td>\n",
              "    </tr>\n",
              "  </tbody>\n",
              "</table>\n",
              "</div>"
            ],
            "text/plain": [
              "   id  risk_flag\n",
              "0   1          0\n",
              "1   2          0\n",
              "2   3          0\n",
              "3   4          0\n",
              "4   5          0"
            ]
          },
          "metadata": {
            "tags": []
          },
          "execution_count": 84
        }
      ]
    },
    {
      "cell_type": "code",
      "metadata": {
        "id": "wAZhhbZwjqid"
      },
      "source": [
        "prediction_dataset = prediction_dataset.astype(int)\n",
        "prediction_dataset.dtypes\n",
        "prediction_dataset.to_csv('submission2.csv', index=False)"
      ],
      "execution_count": null,
      "outputs": []
    },
    {
      "cell_type": "code",
      "metadata": {
        "id": "805M1SeWjtaF"
      },
      "source": [
        "from sklearn import preprocessing\n",
        "\n",
        "min_max_scaler = preprocessing.MinMaxScaler()\n",
        "x_scaled = min_max_scaler.fit_transform(X_train)\n",
        "df = pd.DataFrame(x_scaled)"
      ],
      "execution_count": null,
      "outputs": []
    },
    {
      "cell_type": "code",
      "metadata": {
        "colab": {
          "base_uri": "https://localhost:8080/",
          "height": 1000
        },
        "id": "RZ5Z5EtZkC9D",
        "outputId": "ee4f8131-a6d6-470b-8ee1-9de45598ed54"
      },
      "source": [
        "from sklearn.model_selection import StratifiedKFold\n",
        "\n",
        "kfold = StratifiedKFold(n_splits=5, shuffle=True, random_state=0)\n",
        "cvscores = []\n",
        "for train, test in kfold.split(X_train, y_train):\n",
        "  # create model\n",
        "  model = Sequential()\n",
        "  model.add(Dense(64, activation='relu', input_shape=(24,)))\n",
        "  model.add(Dropout(0.3))\n",
        "  model.add(Dense(16, activation='relu'))\n",
        "  model.add(Dropout(0.3))\n",
        "  model.add(Dense(1, activation='sigmoid'))\n",
        "  # Compile model\n",
        "  model.compile(loss='binary_crossentropy', optimizer='adam', metrics=['AUC'])\n",
        "  # Fit the model\n",
        "  history = model.fit(X_train.loc[train], y_train.loc[train], validation_data=(X_train.loc[test], y_train.loc[test]), epochs=15, batch_size=32, verbose=1)\n",
        "\n",
        "  #plot progress\n",
        "  plot_metric(history, 'auc')\n",
        "\n",
        "  # evaluate the model\n",
        "  scores = model.evaluate(X_train.loc[test], y_train.loc[test], verbose=0)\n",
        "  print(\"%s: %.2f%%\" % (model.metrics_names[1], scores[1]*100))\n",
        "  cvscores.append(scores[1] * 100)\n",
        "print(\"%.2f%% (+/- %.2f%%)\" % (np.mean(cvscores), np.std(cvscores)))"
      ],
      "execution_count": null,
      "outputs": [
        {
          "output_type": "stream",
          "text": [
            "Epoch 1/15\n",
            "6300/6300 [==============================] - 20s 3ms/step - loss: 18756.4622 - auc: 0.4933 - val_loss: 0.3719 - val_auc: 0.5000\n",
            "Epoch 2/15\n",
            "6300/6300 [==============================] - 19s 3ms/step - loss: 4.7773 - auc: 0.4999 - val_loss: 0.3719 - val_auc: 0.5000\n",
            "Epoch 3/15\n",
            "6300/6300 [==============================] - 19s 3ms/step - loss: 2.1792 - auc: 0.4989 - val_loss: 0.3719 - val_auc: 0.5000\n",
            "Epoch 4/15\n",
            "6300/6300 [==============================] - 19s 3ms/step - loss: 0.4704 - auc: 0.4982 - val_loss: 0.3719 - val_auc: 0.5000\n",
            "Epoch 5/15\n",
            "6300/6300 [==============================] - 19s 3ms/step - loss: 0.3899 - auc: 0.5009 - val_loss: 0.3720 - val_auc: 0.5000\n",
            "Epoch 6/15\n",
            "6300/6300 [==============================] - 19s 3ms/step - loss: 0.4379 - auc: 0.4982 - val_loss: 0.3719 - val_auc: 0.5000\n",
            "Epoch 7/15\n",
            "6300/6300 [==============================] - 19s 3ms/step - loss: 1.9613 - auc: 0.4998 - val_loss: 0.3719 - val_auc: 0.5000\n",
            "Epoch 8/15\n",
            "6300/6300 [==============================] - 19s 3ms/step - loss: 0.3976 - auc: 0.4987 - val_loss: 0.3719 - val_auc: 0.5000\n",
            "Epoch 9/15\n",
            "6300/6300 [==============================] - 19s 3ms/step - loss: 0.3876 - auc: 0.5007 - val_loss: 0.3719 - val_auc: 0.5000\n",
            "Epoch 10/15\n",
            "6300/6300 [==============================] - 19s 3ms/step - loss: 0.5030 - auc: 0.5000 - val_loss: 0.3719 - val_auc: 0.5000\n",
            "Epoch 11/15\n",
            "6300/6300 [==============================] - 19s 3ms/step - loss: 0.6121 - auc: 0.4997 - val_loss: 0.3719 - val_auc: 0.5000\n",
            "Epoch 12/15\n",
            "6300/6300 [==============================] - 19s 3ms/step - loss: 0.3714 - auc: 0.4993 - val_loss: 0.3719 - val_auc: 0.5000\n",
            "Epoch 13/15\n",
            "6300/6300 [==============================] - 19s 3ms/step - loss: 0.6417 - auc: 0.4976 - val_loss: 0.3720 - val_auc: 0.5000\n",
            "Epoch 14/15\n",
            "6300/6300 [==============================] - 19s 3ms/step - loss: 0.3706 - auc: 0.4988 - val_loss: 0.3719 - val_auc: 0.5000\n",
            "Epoch 15/15\n",
            "6300/6300 [==============================] - 19s 3ms/step - loss: 0.3712 - auc: 0.4999 - val_loss: 0.3719 - val_auc: 0.5000\n"
          ],
          "name": "stdout"
        },
        {
          "output_type": "display_data",
          "data": {
            "image/png": "[encoded data removed]",
            "text/plain": [
              "<Figure size 432x288 with 1 Axes>"
            ]
          },
          "metadata": {
            "tags": []
          }
        },
        {
          "output_type": "stream",
          "text": [
            "auc: 50.00%\n",
            "Epoch 1/15\n",
            "6300/6300 [==============================] - 20s 3ms/step - loss: 16589.2525 - auc: 0.4967 - val_loss: 0.3742 - val_auc: 0.5000\n",
            "Epoch 2/15\n",
            "6300/6300 [==============================] - 19s 3ms/step - loss: 2.1094 - auc: 0.4987 - val_loss: 0.3742 - val_auc: 0.5000\n",
            "Epoch 3/15\n",
            "6300/6300 [==============================] - 19s 3ms/step - loss: 0.4115 - auc: 0.4977 - val_loss: 0.3742 - val_auc: 0.5000\n",
            "Epoch 4/15\n",
            "6300/6300 [==============================] - 19s 3ms/step - loss: 0.6818 - auc: 0.4987 - val_loss: 0.3742 - val_auc: 0.5000\n",
            "Epoch 5/15\n",
            "6300/6300 [==============================] - 19s 3ms/step - loss: 0.3939 - auc: 0.4986 - val_loss: 0.3742 - val_auc: 0.5000\n",
            "Epoch 6/15\n",
            "6300/6300 [==============================] - 20s 3ms/step - loss: 0.3710 - auc: 0.4992 - val_loss: 0.3742 - val_auc: 0.5000\n",
            "Epoch 7/15\n",
            "6300/6300 [==============================] - 20s 3ms/step - loss: 0.3728 - auc: 0.4992 - val_loss: 0.3743 - val_auc: 0.5000\n",
            "Epoch 8/15\n",
            "6300/6300 [==============================] - 20s 3ms/step - loss: 0.7515 - auc: 0.4983 - val_loss: 0.3742 - val_auc: 0.5000\n",
            "Epoch 9/15\n",
            "6300/6300 [==============================] - 20s 3ms/step - loss: 0.5006 - auc: 0.4992 - val_loss: 0.3742 - val_auc: 0.5000\n",
            "Epoch 10/15\n",
            "6300/6300 [==============================] - 20s 3ms/step - loss: 0.4510 - auc: 0.5005 - val_loss: 0.3742 - val_auc: 0.5000\n",
            "Epoch 11/15\n",
            "6300/6300 [==============================] - 20s 3ms/step - loss: 0.3906 - auc: 0.5011 - val_loss: 0.3742 - val_auc: 0.5000\n",
            "Epoch 12/15\n",
            "6300/6300 [==============================] - 19s 3ms/step - loss: 0.3723 - auc: 0.4994 - val_loss: 0.3743 - val_auc: 0.5000\n",
            "Epoch 13/15\n",
            "6300/6300 [==============================] - 19s 3ms/step - loss: 0.3828 - auc: 0.4986 - val_loss: 0.3742 - val_auc: 0.5000\n",
            "Epoch 14/15\n",
            "6300/6300 [==============================] - 20s 3ms/step - loss: 0.4153 - auc: 0.4992 - val_loss: 0.3743 - val_auc: 0.5000\n",
            "Epoch 15/15\n",
            "6300/6300 [==============================] - 19s 3ms/step - loss: 0.4183 - auc: 0.5011 - val_loss: 0.3742 - val_auc: 0.5000\n"
          ],
          "name": "stdout"
        },
        {
          "output_type": "display_data",
          "data": {
            "image/png": "[encoded data removed]",
            "text/plain": [
              "<Figure size 432x288 with 1 Axes>"
            ]
          },
          "metadata": {
            "tags": []
          }
        },
        {
          "output_type": "stream",
          "text": [
            "auc: 50.00%\n",
            "Epoch 1/15\n",
            "6300/6300 [==============================] - 20s 3ms/step - loss: 7626.0664 - auc: 0.5035 - val_loss: 0.3702 - val_auc: 0.5000\n",
            "Epoch 2/15\n",
            "6300/6300 [==============================] - 19s 3ms/step - loss: 3.1265 - auc: 0.5004 - val_loss: 0.3701 - val_auc: 0.5000\n",
            "Epoch 3/15\n",
            "6300/6300 [==============================] - 19s 3ms/step - loss: 0.5880 - auc: 0.4994 - val_loss: 0.3701 - val_auc: 0.5000\n",
            "Epoch 4/15\n",
            "6300/6300 [==============================] - 20s 3ms/step - loss: 0.3795 - auc: 0.4986 - val_loss: 0.3701 - val_auc: 0.5000\n",
            "Epoch 5/15\n",
            "6300/6300 [==============================] - 20s 3ms/step - loss: 0.3764 - auc: 0.4992 - val_loss: 0.3701 - val_auc: 0.5000\n",
            "Epoch 6/15\n",
            "6300/6300 [==============================] - 20s 3ms/step - loss: 0.4375 - auc: 0.4995 - val_loss: 0.3701 - val_auc: 0.5000\n",
            "Epoch 7/15\n",
            "6300/6300 [==============================] - 20s 3ms/step - loss: 0.6965 - auc: 0.4999 - val_loss: 0.3701 - val_auc: 0.5000\n",
            "Epoch 8/15\n",
            "6300/6300 [==============================] - 20s 3ms/step - loss: 0.3757 - auc: 0.4965 - val_loss: 0.3701 - val_auc: 0.5000\n",
            "Epoch 9/15\n",
            "6300/6300 [==============================] - 20s 3ms/step - loss: 0.5374 - auc: 0.4950 - val_loss: 0.3701 - val_auc: 0.5000\n",
            "Epoch 10/15\n",
            "6300/6300 [==============================] - 19s 3ms/step - loss: 0.4134 - auc: 0.4992 - val_loss: 0.3701 - val_auc: 0.5000\n",
            "Epoch 11/15\n",
            "6300/6300 [==============================] - 20s 3ms/step - loss: 0.3733 - auc: 0.4997 - val_loss: 0.3701 - val_auc: 0.5000\n",
            "Epoch 12/15\n",
            "6300/6300 [==============================] - 20s 3ms/step - loss: 0.3727 - auc: 0.4991 - val_loss: 0.3701 - val_auc: 0.5000\n",
            "Epoch 13/15\n",
            "6300/6300 [==============================] - 19s 3ms/step - loss: 0.3754 - auc: 0.4969 - val_loss: 0.3701 - val_auc: 0.5000\n",
            "Epoch 14/15\n",
            "6300/6300 [==============================] - 19s 3ms/step - loss: 0.3754 - auc: 0.4996 - val_loss: 0.3701 - val_auc: 0.5000\n",
            "Epoch 15/15\n",
            "6300/6300 [==============================] - 19s 3ms/step - loss: 0.3754 - auc: 0.4989 - val_loss: 0.3701 - val_auc: 0.5000\n"
          ],
          "name": "stdout"
        },
        {
          "output_type": "display_data",
          "data": {
            "image/png": "[encoded data removed]",
            "text/plain": [
              "<Figure size 432x288 with 1 Axes>"
            ]
          },
          "metadata": {
            "tags": []
          }
        },
        {
          "output_type": "stream",
          "text": [
            "auc: 50.00%\n",
            "Epoch 1/15\n",
            "6300/6300 [==============================] - 20s 3ms/step - loss: 12990.2721 - auc: 0.4979 - val_loss: 0.3740 - val_auc: 0.5000\n",
            "Epoch 2/15\n",
            "6300/6300 [==============================] - 19s 3ms/step - loss: 3.7558 - auc: 0.4983 - val_loss: 0.3740 - val_auc: 0.5000\n",
            "Epoch 3/15\n",
            "6300/6300 [==============================] - 19s 3ms/step - loss: 0.4464 - auc: 0.4987 - val_loss: 0.3740 - val_auc: 0.5000\n",
            "Epoch 4/15\n",
            "6300/6300 [==============================] - 19s 3ms/step - loss: 0.4976 - auc: 0.4996 - val_loss: 0.3740 - val_auc: 0.5000\n",
            "Epoch 5/15\n",
            "6300/6300 [==============================] - 19s 3ms/step - loss: 0.6499 - auc: 0.4993 - val_loss: 0.3740 - val_auc: 0.5000\n",
            "Epoch 6/15\n",
            "6300/6300 [==============================] - 19s 3ms/step - loss: 0.3973 - auc: 0.5005 - val_loss: 0.3740 - val_auc: 0.5000\n",
            "Epoch 7/15\n",
            "6300/6300 [==============================] - 19s 3ms/step - loss: 0.4476 - auc: 0.4977 - val_loss: 0.3740 - val_auc: 0.5000\n",
            "Epoch 8/15\n",
            "6300/6300 [==============================] - 20s 3ms/step - loss: 0.3771 - auc: 0.5020 - val_loss: 0.3740 - val_auc: 0.5000\n",
            "Epoch 9/15\n",
            "6300/6300 [==============================] - 20s 3ms/step - loss: 0.5821 - auc: 0.4984 - val_loss: 0.3740 - val_auc: 0.5000\n",
            "Epoch 10/15\n",
            "6300/6300 [==============================] - 19s 3ms/step - loss: 0.3776 - auc: 0.4981 - val_loss: 0.3740 - val_auc: 0.5000\n",
            "Epoch 11/15\n",
            "6300/6300 [==============================] - 19s 3ms/step - loss: 0.3736 - auc: 0.4998 - val_loss: 0.3740 - val_auc: 0.5000\n",
            "Epoch 12/15\n",
            "6300/6300 [==============================] - 20s 3ms/step - loss: 0.3699 - auc: 0.4973 - val_loss: 0.3740 - val_auc: 0.5000\n",
            "Epoch 13/15\n",
            "6300/6300 [==============================] - 19s 3ms/step - loss: 0.3742 - auc: 0.4971 - val_loss: 0.3740 - val_auc: 0.5000\n",
            "Epoch 14/15\n",
            "6300/6300 [==============================] - 19s 3ms/step - loss: 0.3726 - auc: 0.4984 - val_loss: 0.3740 - val_auc: 0.5000\n",
            "Epoch 15/15\n",
            "6300/6300 [==============================] - 19s 3ms/step - loss: 0.3724 - auc: 0.4992 - val_loss: 0.3740 - val_auc: 0.5000\n"
          ],
          "name": "stdout"
        },
        {
          "output_type": "display_data",
          "data": {
            "image/png": "[encoded data removed]",
            "text/plain": [
              "<Figure size 432x288 with 1 Axes>"
            ]
          },
          "metadata": {
            "tags": []
          }
        },
        {
          "output_type": "stream",
          "text": [
            "auc: 50.00%\n",
            "Epoch 1/15\n",
            "6300/6300 [==============================] - 20s 3ms/step - loss: 14190.3557 - auc: 0.4954 - val_loss: 0.3741 - val_auc: 0.5000\n",
            "Epoch 2/15\n",
            "6300/6300 [==============================] - 19s 3ms/step - loss: 4.9719 - auc: 0.5004 - val_loss: 0.3741 - val_auc: 0.5000\n",
            "Epoch 3/15\n",
            "6300/6300 [==============================] - 19s 3ms/step - loss: 2.7770 - auc: 0.4975 - val_loss: 0.3741 - val_auc: 0.5000\n",
            "Epoch 4/15\n",
            "6300/6300 [==============================] - 19s 3ms/step - loss: 0.3849 - auc: 0.4982 - val_loss: 0.3741 - val_auc: 0.5000\n",
            "Epoch 5/15\n",
            "6300/6300 [==============================] - 19s 3ms/step - loss: 0.3713 - auc: 0.4984 - val_loss: 0.3741 - val_auc: 0.5000\n",
            "Epoch 6/15\n",
            "6300/6300 [==============================] - 19s 3ms/step - loss: 0.3733 - auc: 0.4989 - val_loss: 0.3741 - val_auc: 0.5000\n",
            "Epoch 7/15\n",
            "6300/6300 [==============================] - 20s 3ms/step - loss: 0.3733 - auc: 0.4974 - val_loss: 0.3741 - val_auc: 0.5000\n",
            "Epoch 8/15\n",
            "6300/6300 [==============================] - 20s 3ms/step - loss: 0.3796 - auc: 0.4982 - val_loss: 0.3741 - val_auc: 0.5000\n",
            "Epoch 9/15\n",
            "6300/6300 [==============================] - 20s 3ms/step - loss: 0.4993 - auc: 0.4994 - val_loss: 0.3742 - val_auc: 0.5000\n",
            "Epoch 10/15\n",
            "6300/6300 [==============================] - 20s 3ms/step - loss: 0.4608 - auc: 0.4966 - val_loss: 0.3741 - val_auc: 0.5000\n",
            "Epoch 11/15\n",
            "6300/6300 [==============================] - 20s 3ms/step - loss: 0.3991 - auc: 0.4994 - val_loss: 0.3742 - val_auc: 0.5000\n",
            "Epoch 12/15\n",
            "6300/6300 [==============================] - 19s 3ms/step - loss: 0.3716 - auc: 0.5018 - val_loss: 0.3741 - val_auc: 0.5000\n",
            "Epoch 13/15\n",
            "6300/6300 [==============================] - 20s 3ms/step - loss: 0.3725 - auc: 0.4993 - val_loss: 0.3741 - val_auc: 0.5000\n",
            "Epoch 14/15\n",
            "6300/6300 [==============================] - 20s 3ms/step - loss: 0.3754 - auc: 0.4993 - val_loss: 0.3741 - val_auc: 0.5000\n",
            "Epoch 15/15\n",
            "6300/6300 [==============================] - 19s 3ms/step - loss: 0.3766 - auc: 0.4994 - val_loss: 0.3741 - val_auc: 0.5000\n"
          ],
          "name": "stdout"
        },
        {
          "output_type": "display_data",
          "data": {
            "image/png": "[encoded data removed]",
            "text/plain": [
              "<Figure size 432x288 with 1 Axes>"
            ]
          },
          "metadata": {
            "tags": []
          }
        },
        {
          "output_type": "stream",
          "text": [
            "auc: 50.00%\n",
            "50.00% (+/- 0.00%)\n"
          ],
          "name": "stdout"
        }
      ]
    }
  ]
}